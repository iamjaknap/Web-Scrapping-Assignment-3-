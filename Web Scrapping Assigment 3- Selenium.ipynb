{
 "cells": [
  {
   "cell_type": "code",
   "execution_count": 202,
   "metadata": {},
   "outputs": [],
   "source": [
    "import pandas as pd\n",
    "import selenium\n",
    "from selenium import webdriver\n",
    "from selenium.common.exceptions import NoSuchElementException"
   ]
  },
  {
   "cell_type": "markdown",
   "metadata": {},
   "source": [
    "# Answer 1. Write a python program which searches all the product under a particular product from www.amazon.in. The product to be searched will be taken as input from user. For e.g. If user input is ‘guitar’. Then search for guitars."
   ]
  },
  {
   "cell_type": "code",
   "execution_count": 203,
   "metadata": {},
   "outputs": [],
   "source": [
    "driver=webdriver.Chrome('chromedriver.exe')\n",
    "url='https://www.amazon.in/'\n",
    "driver.get(url)"
   ]
  },
  {
   "cell_type": "code",
   "execution_count": 204,
   "metadata": {},
   "outputs": [
    {
     "name": "stdout",
     "output_type": "stream",
     "text": [
      "Enter the Product Name:Washing Machine\n"
     ]
    }
   ],
   "source": [
    "product=input('Enter the Product Name:')"
   ]
  },
  {
   "cell_type": "code",
   "execution_count": 205,
   "metadata": {},
   "outputs": [],
   "source": [
    "search=driver.find_element_by_xpath('/html/body/div[1]/header/div/div[1]/div[2]/div/form/div[2]/div[1]/input')\n",
    "search.send_keys(product)"
   ]
  },
  {
   "cell_type": "code",
   "execution_count": 206,
   "metadata": {},
   "outputs": [],
   "source": [
    "search_btn=driver.find_element_by_xpath('//input[@id=\"nav-search-submit-button\"]').click()\n",
    "search_btn"
   ]
  },
  {
   "cell_type": "code",
   "execution_count": null,
   "metadata": {},
   "outputs": [],
   "source": []
  },
  {
   "cell_type": "markdown",
   "metadata": {},
   "source": [
    "# Answer 2. In the above question, now scrape the following details of each product listed in first 3 pages of your search results and save it in a dataframe and csv. In case if any product has less than 3 pages in search results then scrape all the products available under that product vertical. Details to be scraped are: \"Brand Name\", \"Name of the Product\", \"Rating\", \"No. of Ratings\", \"Price\", \"Return/Exchange\", \"Expected Delivery\", \"Availability\", \"Other Details\" and “Product URL”. In case, if any of the details are missing for any of the product then replace it by “-“."
   ]
  },
  {
   "cell_type": "code",
   "execution_count": 207,
   "metadata": {},
   "outputs": [],
   "source": [
    "\n",
    "rating=[]\n",
    "no_rating=[]\n",
    "price=[]\n",
    "return_exchange=[]\n",
    "exp_delivery=[]\n",
    "availability=[]\n",
    "other_details=[]\n",
    "product_url=[]"
   ]
  },
  {
   "cell_type": "code",
   "execution_count": 208,
   "metadata": {},
   "outputs": [
    {
     "name": "stdout",
     "output_type": "stream",
     "text": [
      "25\n"
     ]
    },
    {
     "data": {
      "text/plain": [
       "['https://www.amazon.in/gp/slredirect/picassoRedirect.html/ref=pa_sp_atf_aps_sr_pg1_1?ie=UTF8&adId=A05819553FPZYR5KR0RJZ&url=%2FPanasonic-Fully-Automatic-Loading-Washing-NA-F60LF1HRB%2Fdp%2FB08B9756FB%2Fref%3Dsr_1_1_sspa%3Fdchild%3D1%26keywords%3DWashing%2BMachine%26qid%3D1625482361%26sr%3D8-1-spons%26psc%3D1&qualifier=1625482361&id=1795598403118343&widgetName=sp_atf',\n",
       " 'https://www.amazon.in/gp/slredirect/picassoRedirect.html/ref=pa_sp_atf_aps_sr_pg1_1?ie=UTF8&adId=A01654221HBNDZDRQYPZO&url=%2FPanasonic-Fully-Automatic-Loading-Washing-NA-F70LF1HRB%2Fdp%2FB089WZZ33C%2Fref%3Dsr_1_2_sspa%3Fdchild%3D1%26keywords%3DWashing%2BMachine%26qid%3D1625482361%26sr%3D8-2-spons%26psc%3D1&qualifier=1625482361&id=1795598403118343&widgetName=sp_atf',\n",
       " 'https://www.amazon.in/Samsung-Fully-Automatic-WA65A4002VS-TL-Technology/dp/B08GY3PZQF/ref=sr_1_3?dchild=1&keywords=Washing+Machine&qid=1625482361&sr=8-3',\n",
       " 'https://www.amazon.in/Whirlpool-7-5-Semi-Automatic-ACE-SUPREME/dp/B083G25P9L/ref=sr_1_4?dchild=1&keywords=Washing+Machine&qid=1625482361&sr=8-4',\n",
       " 'https://www.amazon.in/Panasonic-Semi-Automatic-Loading-NA-W65E5ARB-Powerful/dp/B08B98715P/ref=sr_1_5?dchild=1&keywords=Washing+Machine&qid=1625482361&sr=8-5',\n",
       " 'https://www.amazon.in/Whirlpool-7-5-Fully-Automatic-360-PRO/dp/B084CMDS7B/ref=sxin_11?asc_contentid=amzn1.osa.90c7a04e-c2b9-41b3-8a56-b2c8ae3c0847.A21TJRUUN4KGV.en_IN&asc_contenttype=article&ascsubtag=amzn1.osa.90c7a04e-c2b9-41b3-8a56-b2c8ae3c0847.A21TJRUUN4KGV.en_IN&creativeASIN=B084CMDS7B&cv_ct_cx=Washing+Machine&cv_ct_id=amzn1.osa.90c7a04e-c2b9-41b3-8a56-b2c8ae3c0847.A21TJRUUN4KGV.en_IN&cv_ct_pg=search&cv_ct_we=asin&cv_ct_wn=osp-single-source-earns-comm&dchild=1&keywords=Washing+Machine&linkCode=oas&pd_rd_i=B084CMDS7B&pd_rd_r=b83422a1-09b7-4989-8251-0ff899a071de&pd_rd_w=l7R3s&pd_rd_wg=v42tu&pf_rd_p=85e157eb-8312-4fce-bfb5-78223bced751&pf_rd_r=3CYWZQB4N577G0C8ZFP1&qid=1625482361&sr=1-1-61f4c597-7a45-4a97-bd75-c52903f8ee93&tag=firstpost1610-21',\n",
       " 'https://www.amazon.in/Bosch-Fully-Automatic-Loading-Washing-WAB16060IN/dp/B01GEAOHJY/ref=sxin_11?asc_contentid=amzn1.osa.90c7a04e-c2b9-41b3-8a56-b2c8ae3c0847.A21TJRUUN4KGV.en_IN&asc_contenttype=article&ascsubtag=amzn1.osa.90c7a04e-c2b9-41b3-8a56-b2c8ae3c0847.A21TJRUUN4KGV.en_IN&creativeASIN=B01GEAOHJY&cv_ct_cx=Washing+Machine&cv_ct_id=amzn1.osa.90c7a04e-c2b9-41b3-8a56-b2c8ae3c0847.A21TJRUUN4KGV.en_IN&cv_ct_pg=search&cv_ct_we=asin&cv_ct_wn=osp-single-source-earns-comm&dchild=1&keywords=Washing+Machine&linkCode=oas&pd_rd_i=B01GEAOHJY&pd_rd_r=b83422a1-09b7-4989-8251-0ff899a071de&pd_rd_w=l7R3s&pd_rd_wg=v42tu&pf_rd_p=85e157eb-8312-4fce-bfb5-78223bced751&pf_rd_r=3CYWZQB4N577G0C8ZFP1&qid=1625482361&sr=1-2-61f4c597-7a45-4a97-bd75-c52903f8ee93&tag=firstpost1610-21',\n",
       " 'https://www.amazon.in/IFB-Fully-Automatic-Diva-Aqua-SX/dp/B071G3B81W/ref=sxin_11?asc_contentid=amzn1.osa.90c7a04e-c2b9-41b3-8a56-b2c8ae3c0847.A21TJRUUN4KGV.en_IN&asc_contenttype=article&ascsubtag=amzn1.osa.90c7a04e-c2b9-41b3-8a56-b2c8ae3c0847.A21TJRUUN4KGV.en_IN&creativeASIN=B071G3B81W&cv_ct_cx=Washing+Machine&cv_ct_id=amzn1.osa.90c7a04e-c2b9-41b3-8a56-b2c8ae3c0847.A21TJRUUN4KGV.en_IN&cv_ct_pg=search&cv_ct_we=asin&cv_ct_wn=osp-single-source-earns-comm&dchild=1&keywords=Washing+Machine&linkCode=oas&pd_rd_i=B071G3B81W&pd_rd_r=b83422a1-09b7-4989-8251-0ff899a071de&pd_rd_w=l7R3s&pd_rd_wg=v42tu&pf_rd_p=85e157eb-8312-4fce-bfb5-78223bced751&pf_rd_r=3CYWZQB4N577G0C8ZFP1&qid=1625482361&sr=1-3-61f4c597-7a45-4a97-bd75-c52903f8ee93&tag=firstpost1610-21',\n",
       " 'https://www.amazon.in/Intex-Semi-Automatic-Loading-Washing-WMS62TL/dp/B00Y9P8KTA/ref=sr_1_6?dchild=1&keywords=Washing+Machine&qid=1625482361&sr=8-6',\n",
       " 'https://www.amazon.in/Whirlpool-Fully-Automatic-WHITEMAGIC-ROYAL-7-0/dp/B08QP41KBP/ref=sr_1_7?dchild=1&keywords=Washing+Machine&qid=1625482361&sr=8-7',\n",
       " 'https://www.amazon.in/Onida-Washer-Only-WS65WLPT1LR-Liliput/dp/B00ZOPZSSU/ref=sr_1_8?dchild=1&keywords=Washing+Machine&qid=1625482361&sr=8-8',\n",
       " 'https://www.amazon.in/Whirlpool-Fully-Automatic-ROYAL-PLUS-7-0/dp/B082FJMJNN/ref=sr_1_9?dchild=1&keywords=Washing+Machine&qid=1625482361&sr=8-9',\n",
       " 'https://www.amazon.in/Whirlpool-7-2-Ace-Supreme-Plus/dp/B07P47RBC9/ref=sr_1_10?dchild=1&keywords=Washing+Machine&qid=1625482361&sr=8-10',\n",
       " 'https://www.amazon.in/gp/slredirect/picassoRedirect.html/ref=pa_sp_mtf_aps_sr_pg1_1?ie=UTF8&adId=A00227151X1BGM84I90KR&url=%2FPanasonic-Semi-Automatic-Loading-NA-W65E5ARB-Powerful%2Fdp%2FB08B98715P%2Fref%3Dsr_1_11_sspa%3Fdchild%3D1%26keywords%3DWashing%2BMachine%26qid%3D1625482361%26sr%3D8-11-spons%26psc%3D1&qualifier=1625482361&id=1795598403118343&widgetName=sp_mtf',\n",
       " 'https://www.amazon.in/gp/slredirect/picassoRedirect.html/ref=pa_sp_mtf_aps_sr_pg1_1?ie=UTF8&adId=A0161686Y4XUCQJ24WSH&url=%2FPanasonic-Econavi-Fully-Automatic-Loading-NA-F80V9LRB%2Fdp%2FB08FS92CQ1%2Fref%3Dsr_1_12_sspa%3Fdchild%3D1%26keywords%3DWashing%2BMachine%26qid%3D1625482361%26sr%3D8-12-spons%26psc%3D1&qualifier=1625482361&id=1795598403118343&widgetName=sp_mtf',\n",
       " 'https://www.amazon.in/Godrej-Fully-Automatic-WTEON-600-ROGR/dp/B08CW3V1X8/ref=sr_1_13?dchild=1&keywords=Washing+Machine&qid=1625482361&sr=8-13',\n",
       " 'https://www.amazon.in/Panasonic-Fully-Automatic-Loading-Washing-NA-F60LF1HRB/dp/B08B9756FB/ref=sr_1_14?dchild=1&keywords=Washing+Machine&qid=1625482361&sr=8-14',\n",
       " 'https://www.amazon.in/DMR-46-1218-Single-Washing-Machine/dp/B00PCQF37W/ref=sr_1_15?dchild=1&keywords=Washing+Machine&qid=1625482361&sr=8-15',\n",
       " 'https://www.amazon.in/Whirlpool-Semi-Automatic-Superb-Atom-70S/dp/B071Z6MSY6/ref=sr_1_16?dchild=1&keywords=Washing+Machine&qid=1625482361&sr=8-16',\n",
       " 'https://www.amazon.in/Panasonic-Fully-Automatic-Loading-Washing-NA-F70LF1HRB/dp/B089WZZ33C/ref=sr_1_17?dchild=1&keywords=Washing+Machine&qid=1625482361&sr=8-17',\n",
       " 'https://www.amazon.in/Onida-Fully-Automatic-Loading-Washing-T70FGD/dp/B08KSVB9NT/ref=sr_1_18?dchild=1&keywords=Washing+Machine&qid=1625482361&sr=8-18',\n",
       " 'https://www.amazon.in/Whirlpool-StarWhitemagic-Premier-Automatic-Washing/dp/B08XQRJ3CK/ref=sr_1_19?dchild=1&keywords=Washing+Machine&qid=1625482361&sr=8-19',\n",
       " 'https://www.amazon.in/LG-Inverter-Fully-Automatic-Loading-T70SKSF1Z/dp/B08DF1Y7T7/ref=sr_1_20?dchild=1&keywords=Washing+Machine&qid=1625482361&sr=8-20',\n",
       " 'https://www.amazon.in/gp/slredirect/picassoRedirect.html/ref=pa_sp_btf_aps_sr_pg1_1?ie=UTF8&adId=A10427711Q8N2DWSNOE98&url=%2FAmazonBasics-Front-Load-Washing-Machine_14%2Fdp%2FB07V5W37BD%2Fref%3Dsr_1_21_sspa%3Fdchild%3D1%26keywords%3DWashing%2BMachine%26qid%3D1625482361%26sr%3D8-21-spons%26psc%3D1&qualifier=1625482361&id=1795598403118343&widgetName=sp_btf',\n",
       " 'https://www.amazon.in/gp/slredirect/picassoRedirect.html/ref=pa_sp_btf_aps_sr_pg1_1?ie=UTF8&adId=A0165298GRBAIW0Z5P8M&url=%2FPanasonic-Fully-Automatic-Loading-Washing-NA-F80LF1HRB%2Fdp%2FB08B98H8L6%2Fref%3Dsr_1_22_sspa%3Fdchild%3D1%26keywords%3DWashing%2BMachine%26qid%3D1625482361%26sr%3D8-22-spons%26psc%3D1&qualifier=1625482361&id=1795598403118343&widgetName=sp_btf']"
      ]
     },
     "execution_count": 208,
     "metadata": {},
     "output_type": "execute_result"
    }
   ],
   "source": [
    "url=[]\n",
    "for i in driver.find_elements_by_xpath('//a[@class=\"a-link-normal a-text-normal\"]'):\n",
    "    url.append(i.get_attribute('href'))\n",
    "print(len(url)) \n",
    "url"
   ]
  },
  {
   "cell_type": "code",
   "execution_count": 212,
   "metadata": {},
   "outputs": [
    {
     "name": "stdout",
     "output_type": "stream",
     "text": [
      "4\n",
      "['Panasonic 6 Kg 5 Star Fully-Automatic Top Loading Washing Machine (NA-F60LF1HRB, Grey)', 'Panasonic 7 Kg 5 Star Fully-Automatic Top Loading Washing Machine (NA-F70LF1HRB, Grey)', 'Samsung 6.5 kg Fully-Automatic Top Loading Washing Machine (WA65A4002VS/TL, Imperial Silver, Center Jet Technology)', 'Whirlpool 7.5 Kg 5 Star Semi-Automatic Top Loading Washing Machine (ACE 7.5 SUPREME, Grey Dazzle)']\n"
     ]
    }
   ],
   "source": [
    "name=[]\n",
    "for i in url:\n",
    "    driver.get(i)\n",
    "    try:\n",
    "        name_tag=driver.find_element_by_xpath('//span[@id=\"productTitle\"]')\n",
    "        name.append(name_tag.text)\n",
    "    except NoSuchElementException:\n",
    "        name.append('-')\n",
    "print(len(name))\n",
    "print(name)                                                "
   ]
  },
  {
   "cell_type": "code",
   "execution_count": 233,
   "metadata": {},
   "outputs": [
    {
     "name": "stdout",
     "output_type": "stream",
     "text": [
      "4\n",
      "['', '', '', '']\n"
     ]
    }
   ],
   "source": [
    "rating=[]\n",
    "for i in url:\n",
    "    driver.get(i)\n",
    "    try:\n",
    "        rating_tag=driver.find_element_by_xpath('//span[@class=\"a-icon-alt\"]')\n",
    "        rating.append(rating_tag.text)\n",
    "    except NoSuchElementException:\n",
    "        rating.append('-')\n",
    "print(len(rating))\n",
    "print(rating)   "
   ]
  },
  {
   "cell_type": "code",
   "execution_count": 223,
   "metadata": {},
   "outputs": [
    {
     "name": "stdout",
     "output_type": "stream",
     "text": [
      "4\n",
      "['1,221 ratings', '451 ratings', '19,069 ratings', '864 ratings']\n"
     ]
    }
   ],
   "source": [
    "no_rating=[]\n",
    "for i in url:\n",
    "    driver.get(i)\n",
    "    try:\n",
    "        no_rating_tag=driver.find_element_by_xpath('/html/body/div[2]/div[2]/div[5]/div[4]/div[4]/div[5]/div/span[3]/a/span')\n",
    "        no_rating.append(no_rating_tag.text)\n",
    "    except NoSuchElementException:\n",
    "        no_rating.append('-')\n",
    "print(len(no_rating))\n",
    "print(no_rating) "
   ]
  },
  {
   "cell_type": "code",
   "execution_count": 218,
   "metadata": {},
   "outputs": [
    {
     "name": "stdout",
     "output_type": "stream",
     "text": [
      "4\n",
      "['₹ 13,490.00', '₹ 16,490.00', '-', '₹ 10,740.00']\n"
     ]
    }
   ],
   "source": [
    "price=[]\n",
    "for i in url:\n",
    "    driver.get(i)\n",
    "    try:\n",
    "        price_tag=driver.find_element_by_xpath('//span[@id=\"priceblock_ourprice\"]')\n",
    "        price.append(price_tag.text)\n",
    "    except NoSuchElementException:\n",
    "        price.append('-')\n",
    "print(len(price))\n",
    "print(price) "
   ]
  },
  {
   "cell_type": "code",
   "execution_count": 227,
   "metadata": {},
   "outputs": [
    {
     "name": "stdout",
     "output_type": "stream",
     "text": [
      "4\n",
      "['Exchange Offer:', 'Exchange Offer:', '-', 'No Cost EMI: Avail No Cost EMI on select cards for orders a…Details']\n"
     ]
    }
   ],
   "source": [
    "return_exchange=[]\n",
    "for i in url:\n",
    "    driver.get(i)\n",
    "    try:\n",
    "        return_exchange_tag=driver.find_element_by_xpath('/html/body/div[2]/div[2]/div[5]/div[4]/div[4]/div[18]/div/div/div[2]/span')\n",
    "        return_exchange.append(return_exchange_tag.text)\n",
    "    except NoSuchElementException:\n",
    "        return_exchange.append('-')\n",
    "print(len(return_exchange))\n",
    "print(return_exchange)"
   ]
  },
  {
   "cell_type": "code",
   "execution_count": 225,
   "metadata": {},
   "outputs": [
    {
     "name": "stdout",
     "output_type": "stream",
     "text": [
      "4\n",
      "['Thursday, Jul 8, 7AM-3PM', 'Thursday, Jul 8, 7AM-3PM', '-', 'Thursday, Jul 8, 7AM-3PM']\n"
     ]
    }
   ],
   "source": [
    "exp_delivery=[]\n",
    "for i in url:\n",
    "    driver.get(i)\n",
    "    try:\n",
    "        exp_delivery_tag=driver.find_element_by_xpath('/html/body/div[2]/div[2]/div[5]/div[4]/div[4]/div[11]/div/div/b')\n",
    "        exp_delivery.append(exp_delivery_tag.text)\n",
    "    except NoSuchElementException:\n",
    "        exp_delivery.append('-')\n",
    "print(len(exp_delivery))\n",
    "print(exp_delivery)    "
   ]
  },
  {
   "cell_type": "code",
   "execution_count": 229,
   "metadata": {},
   "outputs": [
    {
     "name": "stdout",
     "output_type": "stream",
     "text": [
      "4\n",
      "['In stock.', 'In stock.', '', 'In stock.']\n"
     ]
    }
   ],
   "source": [
    "availability=[]\n",
    "for i in url:\n",
    "    driver.get(i)\n",
    "    try:\n",
    "        availability_tag=driver.find_element_by_xpath('//span[@class=\"a-size-medium a-color-success\"]')\n",
    "        availability.append(availability_tag.text)\n",
    "    except NoSuchElementException:\n",
    "        availability.append('-')\n",
    "print(len(availability))\n",
    "print(availability)"
   ]
  },
  {
   "cell_type": "code",
   "execution_count": 231,
   "metadata": {},
   "outputs": [
    {
     "name": "stdout",
     "output_type": "stream",
     "text": [
      "4\n",
      "['Fully-automatic top load washing machine: Affordable with great wash quality, Easy to use\\nCapacity 6 Kg: Suitable for bachelors & couples ; 680 RPM: Higher the Spin speed,lower the drying time.\\nManufacturer Warranty: 2 years on product, 10 years on motor\\nWash Programs: 8\\nAlso Included in the box: 1 Washer unit, 1 User Manual, 1 Warranty Card\\nAquabeat Wash- Ensure thorough cleaning, and fresh clothes after each wash.\\nOne Touch Wash-The program can weigh the load accurately and accordingly select the appropriate washing program as well as the water level.', 'Fully-automatic top load washing machine: Affordable with great wash quality, Easy to use\\nCapacity 7 Kg :Suitable for families with 3 to 4 members ; 680 RPM: Higher the Spin speed,lower the drying time.\\nManufacturer Warranty: 2 years on product and 10 years on Motor\\nWash Programs: 8\\nAlso Included in the box: 1 Washer unit, 1 User Manual, 1 Warranty Card\\nAquabeat Wash- Ensure thorough cleaning, and fresh clothes after each wash.\\nOne Touch Wash-The program can weigh the load accurately and accordingly select the appropriate washing program as well as the water level.', 'Fully-automatic top load washing machine: Affordable with great wash quality, Easy to use\\nCapacity 6.5 Kg: Suitable for families with 3 to 4 members\\nProduct Warranty: 2 years comprehensive warranty on product and 2 years on motor\\nRPM 680 : Higher spin speeds helps in faster drying\\n6 Wash Programs : Normal, Quick wash, Delicates, Soak + Normal, Energy Saving, Eco Tub Clean\\nSpecial Features - Stylish design, Intuitive LED control panel, Centre Jet Technology for powerful washing, Monsoon mode for Indian specific use, Air turbo, Auto restart, Water level selector, Child lock safety, Power Filtration with magic lint filter, Tempered glass window, Diamond Drum for gentle fabric care\\nIn the box componenets : Washing Machine, Hose Drain, Hose Inlet, Warranty Card, User Manual, Shutter (Rat Mesh), Clip Ring, Screw Fitting', 'Ace wash station - Now sort, stack and carry your clothes on the machine itself\\nIn-Built Scrubber: Added in the Wash tub to give Clothes the perfect wash\\nNo of Wash Programs - 3 ( Delicate, Normal and Heavy)\\nSUPERSOAK TECHNOLOGY - Easy removal of tough dirt by continuous soaking and scrubbing action for 25 minutes\\nEASY MOBILITY - Equipped with 4 wheels, the machine can be moved around by sliding it with ease.\\nMaximum spin speed of 1400 RPM for superior drying of clothes\\nAutorestart, End of cycle buzzer']\n"
     ]
    }
   ],
   "source": [
    "other_details=[]\n",
    "for i in url:\n",
    "    driver.get(i)\n",
    "    try:\n",
    "        other_details_tag=driver.find_element_by_xpath('/html/body/div[2]/div[2]/div[5]/div[4]/div[4]/div[38]/div/ul')\n",
    "        other_details.append(other_details_tag.text)\n",
    "    except NoSuchElementException:\n",
    "        other_details.append('-')\n",
    "print(len(other_details))\n",
    "print(other_details)"
   ]
  },
  {
   "cell_type": "code",
   "execution_count": 234,
   "metadata": {},
   "outputs": [
    {
     "data": {
      "text/html": [
       "<div>\n",
       "<style scoped>\n",
       "    .dataframe tbody tr th:only-of-type {\n",
       "        vertical-align: middle;\n",
       "    }\n",
       "\n",
       "    .dataframe tbody tr th {\n",
       "        vertical-align: top;\n",
       "    }\n",
       "\n",
       "    .dataframe thead th {\n",
       "        text-align: right;\n",
       "    }\n",
       "</style>\n",
       "<table border=\"1\" class=\"dataframe\">\n",
       "  <thead>\n",
       "    <tr style=\"text-align: right;\">\n",
       "      <th></th>\n",
       "      <th>Name</th>\n",
       "      <th>Rating</th>\n",
       "      <th>Number of Rating</th>\n",
       "      <th>Price</th>\n",
       "      <th>Exchange</th>\n",
       "      <th>Expected Delivery</th>\n",
       "      <th>Availability</th>\n",
       "      <th>Other Details</th>\n",
       "    </tr>\n",
       "  </thead>\n",
       "  <tbody>\n",
       "    <tr>\n",
       "      <th>0</th>\n",
       "      <td>Panasonic 6 Kg 5 Star Fully-Automatic Top Load...</td>\n",
       "      <td></td>\n",
       "      <td>1,221 ratings</td>\n",
       "      <td>₹ 13,490.00</td>\n",
       "      <td>Exchange Offer:</td>\n",
       "      <td>Thursday, Jul 8, 7AM-3PM</td>\n",
       "      <td>In stock.</td>\n",
       "      <td>Fully-automatic top load washing machine: Affo...</td>\n",
       "    </tr>\n",
       "    <tr>\n",
       "      <th>1</th>\n",
       "      <td>Panasonic 7 Kg 5 Star Fully-Automatic Top Load...</td>\n",
       "      <td></td>\n",
       "      <td>451 ratings</td>\n",
       "      <td>₹ 16,490.00</td>\n",
       "      <td>Exchange Offer:</td>\n",
       "      <td>Thursday, Jul 8, 7AM-3PM</td>\n",
       "      <td>In stock.</td>\n",
       "      <td>Fully-automatic top load washing machine: Affo...</td>\n",
       "    </tr>\n",
       "    <tr>\n",
       "      <th>2</th>\n",
       "      <td>Samsung 6.5 kg Fully-Automatic Top Loading Was...</td>\n",
       "      <td></td>\n",
       "      <td>19,069 ratings</td>\n",
       "      <td>-</td>\n",
       "      <td>-</td>\n",
       "      <td>-</td>\n",
       "      <td></td>\n",
       "      <td>Fully-automatic top load washing machine: Affo...</td>\n",
       "    </tr>\n",
       "    <tr>\n",
       "      <th>3</th>\n",
       "      <td>Whirlpool 7.5 Kg 5 Star Semi-Automatic Top Loa...</td>\n",
       "      <td></td>\n",
       "      <td>864 ratings</td>\n",
       "      <td>₹ 10,740.00</td>\n",
       "      <td>No Cost EMI: Avail No Cost EMI on select cards...</td>\n",
       "      <td>Thursday, Jul 8, 7AM-3PM</td>\n",
       "      <td>In stock.</td>\n",
       "      <td>Ace wash station - Now sort, stack and carry y...</td>\n",
       "    </tr>\n",
       "  </tbody>\n",
       "</table>\n",
       "</div>"
      ],
      "text/plain": [
       "                                                Name Rating Number of Rating  \\\n",
       "0  Panasonic 6 Kg 5 Star Fully-Automatic Top Load...           1,221 ratings   \n",
       "1  Panasonic 7 Kg 5 Star Fully-Automatic Top Load...             451 ratings   \n",
       "2  Samsung 6.5 kg Fully-Automatic Top Loading Was...          19,069 ratings   \n",
       "3  Whirlpool 7.5 Kg 5 Star Semi-Automatic Top Loa...             864 ratings   \n",
       "\n",
       "         Price                                           Exchange  \\\n",
       "0  ₹ 13,490.00                                    Exchange Offer:   \n",
       "1  ₹ 16,490.00                                    Exchange Offer:   \n",
       "2            -                                                  -   \n",
       "3  ₹ 10,740.00  No Cost EMI: Avail No Cost EMI on select cards...   \n",
       "\n",
       "          Expected Delivery Availability  \\\n",
       "0  Thursday, Jul 8, 7AM-3PM    In stock.   \n",
       "1  Thursday, Jul 8, 7AM-3PM    In stock.   \n",
       "2                         -                \n",
       "3  Thursday, Jul 8, 7AM-3PM    In stock.   \n",
       "\n",
       "                                       Other Details  \n",
       "0  Fully-automatic top load washing machine: Affo...  \n",
       "1  Fully-automatic top load washing machine: Affo...  \n",
       "2  Fully-automatic top load washing machine: Affo...  \n",
       "3  Ace wash station - Now sort, stack and carry y...  "
      ]
     },
     "execution_count": 234,
     "metadata": {},
     "output_type": "execute_result"
    }
   ],
   "source": [
    "df=pd.DataFrame({})\n",
    "df['Name']=name\n",
    "df['Rating']=rating\n",
    "df['Number of Rating']=no_rating\n",
    "df['Price']=price\n",
    "df['Exchange']=return_exchange\n",
    "df['Expected Delivery']=exp_delivery\n",
    "df['Availability']=availability\n",
    "df['Other Details']=other_details\n",
    "df"
   ]
  },
  {
   "cell_type": "code",
   "execution_count": null,
   "metadata": {},
   "outputs": [],
   "source": []
  },
  {
   "cell_type": "markdown",
   "metadata": {},
   "source": [
    "# Answer 3. Write a python program to access the search bar and search button on images.google.com and scrape 100 images each for keywords ‘fruits’, ‘cars’ and ‘Machine Learning’."
   ]
  },
  {
   "cell_type": "code",
   "execution_count": null,
   "metadata": {},
   "outputs": [],
   "source": [
    "driver=webdriver.Chrome('chromedriver.exe')\n",
    "url='https://images.google.com/'\n",
    "driver.get(url)\n",
    "search=driver.find_element_by_xpath('//input[@class=\"gLFyf gsfi\"]')\n",
    "search.send_keys('fruits')\n",
    "search_btn=driver.find_element_by_xpath('//span[@class=\"z1asCe MZy1Rb\"]').click()\n",
    "search_btn\n",
    "fruits=[]\n",
    "for i in driver.find_elements_by_xpath('//div[@class=\"bRMDJf islir\"]')[:100]:\n",
    "    fruits.append(i.get_attribute('src'))\n",
    "print(len(fruits))\n",
    "fruits"
   ]
  },
  {
   "cell_type": "code",
   "execution_count": null,
   "metadata": {},
   "outputs": [],
   "source": [
    "driver=webdriver.Chrome('chromedriver.exe')\n",
    "url='https://images.google.com/'\n",
    "driver.get(url)\n",
    "search=driver.find_element_by_xpath('//input[@class=\"gLFyf gsfi\"]')\n",
    "search.send_keys('cars')\n",
    "search_btn=driver.find_element_by_xpath('//span[@class=\"z1asCe MZy1Rb\"]').click()\n",
    "search_btn\n",
    "cars=[]\n",
    "for i in driver.find_elements_by_xpath('//div[@class=\"bRMDJf islir\"]')[:100]:\n",
    "    cars.append(i.get_attribute('src'))\n",
    "print(len(cars))\n",
    "cars"
   ]
  },
  {
   "cell_type": "code",
   "execution_count": null,
   "metadata": {},
   "outputs": [],
   "source": [
    "driver=webdriver.Chrome('chromedriver.exe')\n",
    "url='https://images.google.com/'\n",
    "driver.get(url)\n",
    "search=driver.find_element_by_xpath('//input[@class=\"gLFyf gsfi\"]')\n",
    "search.send_keys('Machine Learning')\n",
    "search_btn=driver.find_element_by_xpath('//span[@class=\"z1asCe MZy1Rb\"]').click()\n",
    "search_btn\n",
    "machine_learning=[]\n",
    "for i in driver.find_elements_by_xpath('//div[@class=\"bRMDJf islir\"]')[:100]:\n",
    "    machine_learning.append(i.get_attribute('src'))\n",
    "print(len(machine_learning))\n",
    "machine_learning"
   ]
  },
  {
   "cell_type": "markdown",
   "metadata": {},
   "source": [
    "# Answer 4. Write a python program to search for a smartphone(e.g.: Oneplus Nord, pixel 4A, etc.) on www.flipkart.com and scrape following details for all the search results displayed on 1st page. Details to be scraped: “Brand Name”, “Smartphone name”, “Colour”, “RAM”, “Storage(ROM)”, “Primary Camera”, “Secondary Camera”, “Display Size”, “Display Resolution”, “Processor”, “Processor Cores”, “Battery Capacity”, “Price”, “Product URL”. In case if any of the details is missing then replace it by “- “. Save your results in a dataframe and CSV."
   ]
  },
  {
   "cell_type": "code",
   "execution_count": 235,
   "metadata": {},
   "outputs": [],
   "source": [
    "driver=webdriver.Chrome('chromedriver.exe')\n",
    "url='https://www.flipkart.com'\n",
    "driver.get(url)"
   ]
  },
  {
   "cell_type": "code",
   "execution_count": 236,
   "metadata": {},
   "outputs": [],
   "source": [
    "driver.find_element_by_xpath('//button[@class=\"_2KpZ6l _2doB4z\"]').click()"
   ]
  },
  {
   "cell_type": "code",
   "execution_count": 237,
   "metadata": {},
   "outputs": [
    {
     "name": "stdout",
     "output_type": "stream",
     "text": [
      "Enter the Smartphone Name:samsung galaxy\n"
     ]
    }
   ],
   "source": [
    "smartphone=input('Enter the Smartphone Name:')\n",
    "search=driver.find_element_by_xpath('/html/body/div[1]/div/div[1]/div[1]/div[2]/div[2]/form/div/div/input')\n",
    "search.send_keys(smartphone)\n",
    "search_btn=driver.find_element_by_xpath('//button[@class=\"L0Z3Pu\"]').click()\n",
    "search_btn"
   ]
  },
  {
   "cell_type": "code",
   "execution_count": 70,
   "metadata": {},
   "outputs": [],
   "source": [
    "brand_name=[]\n",
    "smartphone_name=[]\n",
    "color=[]\n",
    "RAM=[]\n",
    "storage=[]\n",
    "primary_camera=[]\n",
    "secondary_camera=[]\n",
    "display_size=[]\n",
    "display_resolution=[]\n",
    "processor=[]\n",
    "processor_core=[]\n",
    "battery_capacity=[]\n",
    "price=[]"
   ]
  },
  {
   "cell_type": "code",
   "execution_count": 239,
   "metadata": {},
   "outputs": [
    {
     "name": "stdout",
     "output_type": "stream",
     "text": [
      "40\n"
     ]
    },
    {
     "data": {
      "text/plain": [
       "['https://www.flipkart.com/samsung-galaxy-tab-s7-fe-4-gb-ram-64-rom-12-4-inches-wi-fi-4g-tablet-black/p/itm286db0f355f2c?pid=TABG3WYDWEX7RGHH&lid=LSTTABG3WYDWEX7RGHHILGVFP&marketplace=FLIPKART&q=samsung+galaxy&store=tyy&srno=s_1_1&otracker=search&otracker1=search&fm=SEARCH&iid=5c34e335-79b6-4b34-a97c-0af8f2fe23ea.TABG3WYDWEX7RGHH.SEARCH&ppt=hp&ppn=homepage&ssid=7c2l2qr3xs0000001625486865336&qH=1c23e341fbd6b5e3',\n",
       " 'https://www.flipkart.com/samsung-galaxy-f41-fusion-green-64-gb/p/itmce548f0500d55?pid=MOBFV5PWXJRV9WZZ&lid=LSTMOBFV5PWXJRV9WZZSWCHLG&marketplace=FLIPKART&q=samsung+galaxy&store=tyy&srno=s_1_2&otracker=search&otracker1=search&fm=SEARCH&iid=5c34e335-79b6-4b34-a97c-0af8f2fe23ea.MOBFV5PWXJRV9WZZ.SEARCH&ppt=sp&ppn=sp&ssid=7c2l2qr3xs0000001625486865336&qH=1c23e341fbd6b5e3',\n",
       " 'https://www.flipkart.com/samsung-galaxy-f12-sea-green-128-gb/p/itm632faa123e085?pid=MOBGFG79ZZFRGZ7U&lid=LSTMOBGFG79ZZFRGZ7ULB8HLU&marketplace=FLIPKART&q=samsung+galaxy&store=tyy&srno=s_1_3&otracker=search&otracker1=search&fm=SEARCH&iid=5c34e335-79b6-4b34-a97c-0af8f2fe23ea.MOBGFG79ZZFRGZ7U.SEARCH&ppt=sp&ppn=sp&ssid=7c2l2qr3xs0000001625486865336&qH=1c23e341fbd6b5e3',\n",
       " 'https://www.flipkart.com/samsung-galaxy-f12-sea-green-64-gb/p/itm4d3582cd695fd?pid=MOBGFG794YPQ9RAE&lid=LSTMOBGFG794YPQ9RAEGUPPTW&marketplace=FLIPKART&q=samsung+galaxy&store=tyy&srno=s_1_4&otracker=search&otracker1=search&fm=SEARCH&iid=5c34e335-79b6-4b34-a97c-0af8f2fe23ea.MOBGFG794YPQ9RAE.SEARCH&ppt=sp&ppn=sp&ssid=7c2l2qr3xs0000001625486865336&qH=1c23e341fbd6b5e3',\n",
       " 'https://www.flipkart.com/samsung-galaxy-f02s-diamond-blue-32-gb/p/itm971ab77f825aa?pid=MOBGFG79GQGAYVNV&lid=LSTMOBGFG79GQGAYVNVU1F9M9&marketplace=FLIPKART&q=samsung+galaxy&store=tyy&srno=s_1_5&otracker=search&otracker1=search&fm=SEARCH&iid=5c34e335-79b6-4b34-a97c-0af8f2fe23ea.MOBGFG79GQGAYVNV.SEARCH&ppt=hp&ppn=homepage&ssid=7c2l2qr3xs0000001625486865336&qH=1c23e341fbd6b5e3',\n",
       " 'https://www.flipkart.com/samsung-galaxy-f12-sky-blue-128-gb/p/itmbe3d99dae33a0?pid=MOBGFG79BPTJWHKS&lid=LSTMOBGFG79BPTJWHKSO3JF0R&marketplace=FLIPKART&q=samsung+galaxy&store=tyy&srno=s_1_6&otracker=search&otracker1=search&fm=SEARCH&iid=5c34e335-79b6-4b34-a97c-0af8f2fe23ea.MOBGFG79BPTJWHKS.SEARCH&ppt=hp&ppn=homepage&ssid=7c2l2qr3xs0000001625486865336&qH=1c23e341fbd6b5e3',\n",
       " 'https://www.flipkart.com/samsung-galaxy-f02s-diamond-blue-64-gb/p/itm18eea4bb2059c?pid=MOBGFG79FKRYJ8D4&lid=LSTMOBGFG79FKRYJ8D4E6XNLA&marketplace=FLIPKART&q=samsung+galaxy&store=tyy&srno=s_1_7&otracker=search&otracker1=search&fm=SEARCH&iid=5c34e335-79b6-4b34-a97c-0af8f2fe23ea.MOBGFG79FKRYJ8D4.SEARCH&ppt=hp&ppn=homepage&ssid=7c2l2qr3xs0000001625486865336&qH=1c23e341fbd6b5e3',\n",
       " 'https://www.flipkart.com/samsung-galaxy-f12-sky-blue-64-gb/p/itm0319ce24f74aa?pid=MOBGFG79BVGDHGWV&lid=LSTMOBGFG79BVGDHGWVGF2CRI&marketplace=FLIPKART&q=samsung+galaxy&store=tyy&srno=s_1_8&otracker=search&otracker1=search&fm=SEARCH&iid=5c34e335-79b6-4b34-a97c-0af8f2fe23ea.MOBGFG79BVGDHGWV.SEARCH&ppt=hp&ppn=homepage&ssid=7c2l2qr3xs0000001625486865336&qH=1c23e341fbd6b5e3',\n",
       " 'https://www.flipkart.com/samsung-galaxy-a21s-black-128-gb/p/itmcb23937a962e3?pid=MOBFWCFDEHTZVQMZ&lid=LSTMOBFWCFDEHTZVQMZ6HMJCL&marketplace=FLIPKART&q=samsung+galaxy&store=tyy&srno=s_1_9&otracker=search&otracker1=search&fm=SEARCH&iid=5c34e335-79b6-4b34-a97c-0af8f2fe23ea.MOBFWCFDEHTZVQMZ.SEARCH&ppt=hp&ppn=homepage&ssid=7c2l2qr3xs0000001625486865336&qH=1c23e341fbd6b5e3',\n",
       " 'https://www.flipkart.com/samsung-galaxy-a31-prism-crush-blue-128-gb/p/itmca37dc47f1c6a?pid=MOBFRZZHH4WHKZCW&lid=LSTMOBFRZZHH4WHKZCWSOSBOT&marketplace=FLIPKART&q=samsung+galaxy&store=tyy&srno=s_1_10&otracker=search&otracker1=search&fm=SEARCH&iid=5c34e335-79b6-4b34-a97c-0af8f2fe23ea.MOBFRZZHH4WHKZCW.SEARCH&ppt=hp&ppn=homepage&ssid=7c2l2qr3xs0000001625486865336&qH=1c23e341fbd6b5e3',\n",
       " 'https://www.flipkart.com/samsung-galaxy-f41-fusion-blue-128-gb/p/itm4769d0667cdf9?pid=MOBFV5PWG5MGD4CF&lid=LSTMOBFV5PWG5MGD4CFZ8YQJZ&marketplace=FLIPKART&q=samsung+galaxy&store=tyy&spotlightTagId=BestsellerId_tyy&srno=s_1_11&otracker=search&otracker1=search&fm=SEARCH&iid=5c34e335-79b6-4b34-a97c-0af8f2fe23ea.MOBFV5PWG5MGD4CF.SEARCH&ppt=sp&ppn=sp&ssid=7c2l2qr3xs0000001625486865336&qH=1c23e341fbd6b5e3',\n",
       " 'https://www.flipkart.com/samsung-galaxy-m31s-mirage-black-128-gb/p/itm34ee37ee1d8a0?pid=MOBFVWCTZYMFQH3J&lid=LSTMOBFVWCTZYMFQH3JMGEEDN&marketplace=FLIPKART&q=samsung+galaxy&store=tyy&srno=s_1_12&otracker=search&otracker1=search&fm=SEARCH&iid=5c34e335-79b6-4b34-a97c-0af8f2fe23ea.MOBFVWCTZYMFQH3J.SEARCH&ppt=hp&ppn=homepage&ssid=7c2l2qr3xs0000001625486865336&qH=1c23e341fbd6b5e3',\n",
       " 'https://www.flipkart.com/samsung-galaxy-m21-midnight-blue-64-gb/p/itm322eb5a51f9a2?pid=MOBFSF86NH2HVZAW&lid=LSTMOBFSF86NH2HVZAWWGLN03&marketplace=FLIPKART&q=samsung+galaxy&store=tyy&srno=s_1_13&otracker=search&otracker1=search&fm=SEARCH&iid=5c34e335-79b6-4b34-a97c-0af8f2fe23ea.MOBFSF86NH2HVZAW.SEARCH&ppt=hp&ppn=homepage&ssid=7c2l2qr3xs0000001625486865336&qH=1c23e341fbd6b5e3',\n",
       " 'https://www.flipkart.com/samsung-galaxy-m42-prism-dot-black-128-gb/p/itmb137b3296810c?pid=MOBG3KGVVVVZ6YHF&lid=LSTMOBG3KGVVVVZ6YHFBRCV5O&marketplace=FLIPKART&q=samsung+galaxy&store=tyy&srno=s_1_14&otracker=search&otracker1=search&fm=SEARCH&iid=5c34e335-79b6-4b34-a97c-0af8f2fe23ea.MOBG3KGVVVVZ6YHF.SEARCH&ppt=hp&ppn=homepage&ssid=7c2l2qr3xs0000001625486865336&qH=1c23e341fbd6b5e3',\n",
       " 'https://www.flipkart.com/samsung-galaxy-m11-black-64-gb/p/itm2b3e5356a5b97?pid=MOBFRZZH4HHGU6YT&lid=LSTMOBFRZZH4HHGU6YTSFF6AO&marketplace=FLIPKART&q=samsung+galaxy&store=tyy&srno=s_1_15&otracker=search&otracker1=search&fm=SEARCH&iid=5c34e335-79b6-4b34-a97c-0af8f2fe23ea.MOBFRZZH4HHGU6YT.SEARCH&ppt=hp&ppn=homepage&ssid=7c2l2qr3xs0000001625486865336&qH=1c23e341fbd6b5e3',\n",
       " 'https://www.flipkart.com/samsung-galaxy-a31-prism-crush-black-128-gb/p/itm629da21d10cba?pid=MOBFRZZHWPX3YG2J&lid=LSTMOBFRZZHWPX3YG2JP5DVNQ&marketplace=FLIPKART&q=samsung+galaxy&store=tyy&srno=s_1_16&otracker=search&otracker1=search&fm=SEARCH&iid=5c34e335-79b6-4b34-a97c-0af8f2fe23ea.MOBFRZZHWPX3YG2J.SEARCH&ppt=hp&ppn=homepage&ssid=7c2l2qr3xs0000001625486865336&qH=1c23e341fbd6b5e3',\n",
       " 'https://www.flipkart.com/samsung-galaxy-m11-violet-64-gb/p/itmb748a6ba4c6d9?pid=MOBFRZZHZTY3GHCY&lid=LSTMOBFRZZHZTY3GHCY2PAISO&marketplace=FLIPKART&q=samsung+galaxy&store=tyy&srno=s_1_17&otracker=search&otracker1=search&fm=SEARCH&iid=5c34e335-79b6-4b34-a97c-0af8f2fe23ea.MOBFRZZHZTY3GHCY.SEARCH&ppt=hp&ppn=homepage&ssid=7c2l2qr3xs0000001625486865336&qH=1c23e341fbd6b5e3',\n",
       " 'https://www.flipkart.com/samsung-galaxy-m11-violet-32-gb/p/itm75f977995b456?pid=MOBFRZZHEMXTAE6H&lid=LSTMOBFRZZHEMXTAE6HEAQ3SW&marketplace=FLIPKART&q=samsung+galaxy&store=tyy&srno=s_1_18&otracker=search&otracker1=search&fm=SEARCH&iid=5c34e335-79b6-4b34-a97c-0af8f2fe23ea.MOBFRZZHEMXTAE6H.SEARCH&ppt=hp&ppn=homepage&ssid=7c2l2qr3xs0000001625486865336&qH=1c23e341fbd6b5e3',\n",
       " 'https://www.flipkart.com/samsung-galaxy-a21s-black-64-gb/p/itme5f657d8935df?pid=MOBFSFMJZVFVNDAG&lid=LSTMOBFSFMJZVFVNDAGZPIYUK&marketplace=FLIPKART&q=samsung+galaxy&store=tyy&srno=s_1_19&otracker=search&otracker1=search&fm=SEARCH&iid=5c34e335-79b6-4b34-a97c-0af8f2fe23ea.MOBFSFMJZVFVNDAG.SEARCH&ppt=hp&ppn=homepage&ssid=7c2l2qr3xs0000001625486865336&qH=1c23e341fbd6b5e3',\n",
       " 'https://www.flipkart.com/samsung-galaxy-f62-laser-grey-128-gb/p/itm97ec206bb0bde?pid=MOBFZWSUMTPWSGQH&lid=LSTMOBFZWSUMTPWSGQHBJDWJX&marketplace=FLIPKART&q=samsung+galaxy&store=tyy&srno=s_1_20&otracker=search&otracker1=search&fm=SEARCH&iid=5c34e335-79b6-4b34-a97c-0af8f2fe23ea.MOBFZWSUMTPWSGQH.SEARCH&ppt=hp&ppn=homepage&ssid=7c2l2qr3xs0000001625486865336&qH=1c23e341fbd6b5e3',\n",
       " 'https://www.flipkart.com/samsung-galaxy-a51-prism-crush-blue-128-gb/p/itm821baad86fbc5?pid=MOBFS72HDJXVHAYP&lid=LSTMOBFS72HDJXVHAYPN2FL91&marketplace=FLIPKART&q=samsung+galaxy&store=tyy&srno=s_1_21&otracker=search&otracker1=search&fm=SEARCH&iid=5c34e335-79b6-4b34-a97c-0af8f2fe23ea.MOBFS72HDJXVHAYP.SEARCH&ppt=hp&ppn=homepage&ssid=7c2l2qr3xs0000001625486865336&qH=1c23e341fbd6b5e3',\n",
       " 'https://www.flipkart.com/samsung-galaxy-f02s-diamond-black-64-gb/p/itm9bd7eed56f2cf?pid=MOBGFG79NYAKZFH5&lid=LSTMOBGFG79NYAKZFH57TJ6C3&marketplace=FLIPKART&q=samsung+galaxy&store=tyy&srno=s_1_22&otracker=search&otracker1=search&fm=SEARCH&iid=5c34e335-79b6-4b34-a97c-0af8f2fe23ea.MOBGFG79NYAKZFH5.SEARCH&ppt=hp&ppn=homepage&ssid=7c2l2qr3xs0000001625486865336&qH=1c23e341fbd6b5e3',\n",
       " 'https://www.flipkart.com/samsung-galaxy-f62-laser-blue-128-gb/p/itmba1329c393a14?pid=MOBFZWSTSZGFGGTR&lid=LSTMOBFZWSTSZGFGGTREMWENA&marketplace=FLIPKART&q=samsung+galaxy&store=tyy&srno=s_1_23&otracker=search&otracker1=search&fm=SEARCH&iid=5c34e335-79b6-4b34-a97c-0af8f2fe23ea.MOBFZWSTSZGFGGTR.SEARCH&ppt=hp&ppn=homepage&ssid=7c2l2qr3xs0000001625486865336&qH=1c23e341fbd6b5e3',\n",
       " 'https://www.flipkart.com/samsung-galaxy-m42-5g-prism-dot-gray-128-gb/p/itm5ac0d190db66c?pid=MOBG2VPGK8RCMGQY&lid=LSTMOBG2VPGK8RCMGQY1IMJLY&marketplace=FLIPKART&q=samsung+galaxy&store=tyy&srno=s_1_24&otracker=search&otracker1=search&fm=SEARCH&iid=5c34e335-79b6-4b34-a97c-0af8f2fe23ea.MOBG2VPGK8RCMGQY.SEARCH&ppt=hp&ppn=homepage&ssid=7c2l2qr3xs0000001625486865336&qH=1c23e341fbd6b5e3',\n",
       " 'https://www.flipkart.com/samsung-galaxy-m31-ocean-blue-128-gb/p/itm1e7ce328b07b6?pid=MOBFUYQTFBAYCFKG&lid=LSTMOBFUYQTFBAYCFKGG98HR9&marketplace=FLIPKART&q=samsung+galaxy&store=tyy&srno=s_1_25&otracker=search&otracker1=search&fm=SEARCH&iid=5c34e335-79b6-4b34-a97c-0af8f2fe23ea.MOBFUYQTFBAYCFKG.SEARCH&ppt=hp&ppn=homepage&ssid=7c2l2qr3xs0000001625486865336&qH=1c23e341fbd6b5e3',\n",
       " 'https://www.flipkart.com/samsung-galaxy-f62-laser-green-128-gb/p/itm48722edba16c9?pid=MOBFZWSUZZ2Y7YYG&lid=LSTMOBFZWSUZZ2Y7YYGX2NE2S&marketplace=FLIPKART&q=samsung+galaxy&store=tyy&srno=s_1_26&otracker=search&otracker1=search&fm=SEARCH&iid=5c34e335-79b6-4b34-a97c-0af8f2fe23ea.MOBFZWSUZZ2Y7YYG.SEARCH&ppt=hp&ppn=homepage&ssid=7c2l2qr3xs0000001625486865336&qH=1c23e341fbd6b5e3',\n",
       " 'https://www.flipkart.com/samsung-galaxy-m51-celestial-black-128-gb/p/itmd2177301257bb?pid=MOBFVV4HRYZSYBA6&lid=LSTMOBFVV4HRYZSYBA6BGMEPF&marketplace=FLIPKART&q=samsung+galaxy&store=tyy&srno=s_1_27&otracker=search&otracker1=search&fm=SEARCH&iid=5c34e335-79b6-4b34-a97c-0af8f2fe23ea.MOBFVV4HRYZSYBA6.SEARCH&ppt=hp&ppn=homepage&ssid=7c2l2qr3xs0000001625486865336&qH=1c23e341fbd6b5e3',\n",
       " 'https://www.flipkart.com/samsung-galaxy-m31-space-black-64-gb/p/itme0c5a25c1e64a?pid=MOBFPNPSZWQ7YKGH&lid=LSTMOBFPNPSZWQ7YKGHYM1L79&marketplace=FLIPKART&q=samsung+galaxy&store=tyy&srno=s_1_28&otracker=search&otracker1=search&fm=SEARCH&iid=5c34e335-79b6-4b34-a97c-0af8f2fe23ea.MOBFPNPSZWQ7YKGH.SEARCH&ppt=hp&ppn=homepage&ssid=7c2l2qr3xs0000001625486865336&qH=1c23e341fbd6b5e3',\n",
       " 'https://www.flipkart.com/samsung-galaxy-m31-iceberg-blue-128-gb/p/itmed6043337ac0e?pid=MOBFYZ8Y9VJNACEM&lid=LSTMOBFYZ8Y9VJNACEMEBJFED&marketplace=FLIPKART&q=samsung+galaxy&store=tyy&srno=s_1_29&otracker=search&otracker1=search&fm=SEARCH&iid=5c34e335-79b6-4b34-a97c-0af8f2fe23ea.MOBFYZ8Y9VJNACEM.SEARCH&ppt=hp&ppn=homepage&ssid=7c2l2qr3xs0000001625486865336&qH=1c23e341fbd6b5e3',\n",
       " 'https://www.flipkart.com/samsung-galaxy-m51-electric-blue-128-gb/p/itm4c319bae3c362?pid=MOBFX2HBBH8BSPTE&lid=LSTMOBFX2HBBH8BSPTEUUASIM&marketplace=FLIPKART&q=samsung+galaxy&store=tyy&srno=s_1_30&otracker=search&otracker1=search&fm=SEARCH&iid=5c34e335-79b6-4b34-a97c-0af8f2fe23ea.MOBFX2HBBH8BSPTE.SEARCH&ppt=hp&ppn=homepage&ssid=7c2l2qr3xs0000001625486865336&qH=1c23e341fbd6b5e3',\n",
       " 'https://www.flipkart.com/samsung-galaxy-m31s-mirage-blue-128-gb/p/itmad022b9abd4b6?pid=MOBFUYMQUW5EKE7R&lid=LSTMOBFUYMQUW5EKE7RVPGGSK&marketplace=FLIPKART&q=samsung+galaxy&store=tyy&srno=s_1_31&otracker=search&otracker1=search&fm=SEARCH&iid=5c34e335-79b6-4b34-a97c-0af8f2fe23ea.MOBFUYMQUW5EKE7R.SEARCH&ppt=hp&ppn=homepage&ssid=7c2l2qr3xs0000001625486865336&qH=1c23e341fbd6b5e3',\n",
       " 'https://www.flipkart.com/samsung-galaxy-m11-metallic-blue-64-gb/p/itm1a7c4dfe52d9c?pid=MOBFRZZHZGSRRWUZ&lid=LSTMOBFRZZHZGSRRWUZ6PC6BB&marketplace=FLIPKART&q=samsung+galaxy&store=tyy&srno=s_1_32&otracker=search&otracker1=search&fm=SEARCH&iid=5c34e335-79b6-4b34-a97c-0af8f2fe23ea.MOBFRZZHZGSRRWUZ.SEARCH&ppt=hp&ppn=homepage&ssid=7c2l2qr3xs0000001625486865336&qH=1c23e341fbd6b5e3',\n",
       " 'https://www.flipkart.com/samsung-galaxy-f62-laser-blue-128-gb/p/itmf82cc5e797312?pid=MOBFZWSUHXGQMUPH&lid=LSTMOBFZWSUHXGQMUPHYZDVLJ&marketplace=FLIPKART&q=samsung+galaxy&store=tyy&srno=s_1_33&otracker=search&otracker1=search&fm=SEARCH&iid=5c34e335-79b6-4b34-a97c-0af8f2fe23ea.MOBFZWSUHXGQMUPH.SEARCH&ppt=hp&ppn=homepage&ssid=7c2l2qr3xs0000001625486865336&qH=1c23e341fbd6b5e3',\n",
       " 'https://www.flipkart.com/samsung-galaxy-m12-black-64-gb/p/itm425898eedc4ce?pid=MOBGFG8H4A32HTKJ&lid=LSTMOBGFG8H4A32HTKJJZYBMO&marketplace=FLIPKART&q=samsung+galaxy&store=tyy&srno=s_1_34&otracker=search&otracker1=search&fm=SEARCH&iid=5c34e335-79b6-4b34-a97c-0af8f2fe23ea.MOBGFG8H4A32HTKJ.SEARCH&ppt=hp&ppn=homepage&ssid=7c2l2qr3xs0000001625486865336&qH=1c23e341fbd6b5e3',\n",
       " 'https://www.flipkart.com/samsung-galaxy-m51-celestial-black-128-gb/p/itm69f1475058168?pid=MOBFX3JN2QA3RYZE&lid=LSTMOBFX3JN2QA3RYZEL7HLO0&marketplace=FLIPKART&q=samsung+galaxy&store=tyy&srno=s_1_35&otracker=search&otracker1=search&fm=SEARCH&iid=5c34e335-79b6-4b34-a97c-0af8f2fe23ea.MOBFX3JN2QA3RYZE.SEARCH&ppt=hp&ppn=homepage&ssid=7c2l2qr3xs0000001625486865336&qH=1c23e341fbd6b5e3',\n",
       " 'https://www.flipkart.com/samsung-galaxy-a21s-blue-64-gb/p/itm08a6ca5d92b9d?pid=MOBFSFMJHFVHCQ2X&lid=LSTMOBFSFMJHFVHCQ2XZ40R0X&marketplace=FLIPKART&q=samsung+galaxy&store=tyy&srno=s_1_36&otracker=search&otracker1=search&fm=SEARCH&iid=5c34e335-79b6-4b34-a97c-0af8f2fe23ea.MOBFSFMJHFVHCQ2X.SEARCH&ppt=hp&ppn=homepage&ssid=7c2l2qr3xs0000001625486865336&qH=1c23e341fbd6b5e3',\n",
       " 'https://www.flipkart.com/samsung-galaxy-a12-blue-64-gb/p/itmbabb87f25be1f?pid=MOBGYCCGCCAAXUVV&lid=LSTMOBGYCCGCCAAXUVVJUBGUD&marketplace=FLIPKART&q=samsung+galaxy&store=tyy&srno=s_1_37&otracker=search&otracker1=search&fm=SEARCH&iid=5c34e335-79b6-4b34-a97c-0af8f2fe23ea.MOBGYCCGCCAAXUVV.SEARCH&ppt=hp&ppn=homepage&ssid=7c2l2qr3xs0000001625486865336&qH=1c23e341fbd6b5e3',\n",
       " 'https://www.flipkart.com/samsung-galaxy-f02s-diamond-black-32-gb/p/itm220082c8c872e?pid=MOBGFG79GYGKEHCA&lid=LSTMOBGFG79GYGKEHCA8JXDS1&marketplace=FLIPKART&q=samsung+galaxy&store=tyy&srno=s_1_38&otracker=search&otracker1=search&fm=SEARCH&iid=5c34e335-79b6-4b34-a97c-0af8f2fe23ea.MOBGFG79GYGKEHCA.SEARCH&ppt=hp&ppn=homepage&ssid=7c2l2qr3xs0000001625486865336&qH=1c23e341fbd6b5e3',\n",
       " 'https://www.flipkart.com/samsung-galaxy-m51-electric-blue-128-gb/p/itme2ec4f481bae3?pid=MOBFVVEJRYZ73YSF&lid=LSTMOBFVVEJRYZ73YSFWSSHNJ&marketplace=FLIPKART&q=samsung+galaxy&store=tyy&srno=s_1_39&otracker=search&otracker1=search&fm=SEARCH&iid=5c34e335-79b6-4b34-a97c-0af8f2fe23ea.MOBFVVEJRYZ73YSF.SEARCH&ppt=hp&ppn=homepage&ssid=7c2l2qr3xs0000001625486865336&qH=1c23e341fbd6b5e3',\n",
       " 'https://www.flipkart.com/samsung-galaxy-m11-metallic-blue-32-gb/p/itme875f568bb05b?pid=MOBFRZZHHUZTTYCZ&lid=LSTMOBFRZZHHUZTTYCZPPT2BT&marketplace=FLIPKART&q=samsung+galaxy&store=tyy&srno=s_1_40&otracker=search&otracker1=search&fm=SEARCH&iid=5c34e335-79b6-4b34-a97c-0af8f2fe23ea.MOBFRZZHHUZTTYCZ.SEARCH&ppt=hp&ppn=homepage&ssid=7c2l2qr3xs0000001625486865336&qH=1c23e341fbd6b5e3']"
      ]
     },
     "execution_count": 239,
     "metadata": {},
     "output_type": "execute_result"
    }
   ],
   "source": [
    "url=[]\n",
    "for i in driver.find_elements_by_xpath('//a[@class=\"s1Q9rs\"]'):\n",
    "    url.append(i.get_attribute('href'))\n",
    "print(len(url)) \n",
    "url"
   ]
  },
  {
   "cell_type": "code",
   "execution_count": null,
   "metadata": {},
   "outputs": [],
   "source": []
  },
  {
   "cell_type": "code",
   "execution_count": 242,
   "metadata": {},
   "outputs": [
    {
     "name": "stdout",
     "output_type": "stream",
     "text": [
      "4\n"
     ]
    },
    {
     "data": {
      "text/plain": [
       "['SAMSUNG Galaxy Tab S7 FE 4 GB RAM 64 GB ROM 12.4 inches with Wi-Fi+4G Tablet (Black)',\n",
       " 'SAMSUNG Galaxy F41 (Fusion Green, 64 GB)  (6 GB RAM)',\n",
       " 'SAMSUNG Galaxy F12 (Sea Green, 128 GB)  (4 GB RAM)',\n",
       " 'SAMSUNG Galaxy F12 (Sea Green, 64 GB)  (4 GB RAM)']"
      ]
     },
     "execution_count": 242,
     "metadata": {},
     "output_type": "execute_result"
    }
   ],
   "source": [
    "brand_name=[]\n",
    "for i in url[:4]:\n",
    "    driver.get(i)\n",
    "    try:\n",
    "        brand_name_tag=driver.find_element_by_xpath('//span[@class=\"B_NuCI\"]')\n",
    "        brand_name.append(brand_name_tag.text)\n",
    "    except NoSuchElementException:\n",
    "        brand_name.append('-')   \n",
    "print(len(brand_name))\n",
    "brand_name        "
   ]
  },
  {
   "cell_type": "code",
   "execution_count": 243,
   "metadata": {},
   "outputs": [
    {
     "name": "stdout",
     "output_type": "stream",
     "text": [
      "4\n"
     ]
    },
    {
     "data": {
      "text/plain": [
       "['SAMSUNG Galaxy Tab S7 FE 4 GB RAM 64 GB ROM 12.4 inches with Wi-Fi+4G Tablet (Black)',\n",
       " 'SAMSUNG Galaxy F41 (Fusion Green, 64 GB)  (6 GB RAM)',\n",
       " 'SAMSUNG Galaxy F12 (Sea Green, 128 GB)  (4 GB RAM)',\n",
       " 'SAMSUNG Galaxy F12 (Sea Green, 64 GB)  (4 GB RAM)']"
      ]
     },
     "execution_count": 243,
     "metadata": {},
     "output_type": "execute_result"
    }
   ],
   "source": [
    "smartphone_name=[]\n",
    "for i in url[:4]:\n",
    "    driver.get(i)\n",
    "    try:\n",
    "        smartphone_name_tag=driver.find_element_by_xpath('//span[@class=\"B_NuCI\"]')\n",
    "        smartphone_name.append(smartphone_name_tag.text)\n",
    "    except NoSuchElementException:\n",
    "        smartphone_name.append('-')\n",
    "print(len(smartphone_name))\n",
    "smartphone_name"
   ]
  },
  {
   "cell_type": "code",
   "execution_count": 246,
   "metadata": {},
   "outputs": [
    {
     "name": "stdout",
     "output_type": "stream",
     "text": [
      "4\n"
     ]
    },
    {
     "data": {
      "text/plain": [
       "['-', 'Fusion Green', 'Sea Green', 'Sea Green']"
      ]
     },
     "execution_count": 246,
     "metadata": {},
     "output_type": "execute_result"
    }
   ],
   "source": [
    "color=[]\n",
    "for i in url[:4]:\n",
    "    driver.get(i)\n",
    "    try:\n",
    "        color_tag=driver.find_element_by_xpath('/html/body/div[1]/div/div[3]/div[1]/div[2]/div[9]/div[5]/div/div[2]/div/div[1]/table/tbody/tr[4]/td[2]/ul/li')\n",
    "        color.append(color_tag.text)\n",
    "    except NoSuchElementException:\n",
    "        color.append('-')\n",
    "print(len(color))\n",
    "color"
   ]
  },
  {
   "cell_type": "code",
   "execution_count": 252,
   "metadata": {},
   "outputs": [
    {
     "name": "stdout",
     "output_type": "stream",
     "text": [
      "3\n"
     ]
    },
    {
     "data": {
      "text/plain": [
       "['6 GB', '4 GB', '4 GB']"
      ]
     },
     "execution_count": 252,
     "metadata": {},
     "output_type": "execute_result"
    }
   ],
   "source": [
    "RAM=[]\n",
    "for i in url[:4]:\n",
    "    driver.get(i)\n",
    "    driver.find_element_by_xpath('//button[@class=\"_2KpZ6l _1FH0tX\"]').click()\n",
    "    try:\n",
    "        RAM_tag=driver.find_element_by_xpath('/html/body/div[1]/div/div[3]/div[1]/div[2]/div[9]/div[5]/div/div[2]/div[1]/div[4]/table/tbody/tr[2]/td[2]/ul/li')\n",
    "        RAM.append(RAM_tag.text)\n",
    "    except NoSuchElementException:\n",
    "        color.append('-')\n",
    "print(len(RAM))\n",
    "RAM"
   ]
  },
  {
   "cell_type": "code",
   "execution_count": 250,
   "metadata": {},
   "outputs": [
    {
     "name": "stdout",
     "output_type": "stream",
     "text": [
      "3\n"
     ]
    },
    {
     "data": {
      "text/plain": [
       "['64 GB', '128 GB', '64 GB']"
      ]
     },
     "execution_count": 250,
     "metadata": {},
     "output_type": "execute_result"
    }
   ],
   "source": [
    "storage=[]\n",
    "for i in url[:4]:\n",
    "    driver.get(i)\n",
    "    driver.find_element_by_xpath('//button[@class=\"_2KpZ6l _1FH0tX\"]').click()\n",
    "    try:\n",
    "        storage_tag=driver.find_element_by_xpath('/html/body/div[1]/div/div[3]/div[1]/div[2]/div[9]/div[5]/div/div[2]/div[1]/div[4]/table/tbody/tr[1]/td[2]/ul/li')\n",
    "        storage.append(storage_tag.text)\n",
    "    except NoSuchElementException:\n",
    "        color.append('-')\n",
    "print(len(storage))\n",
    "storage"
   ]
  },
  {
   "cell_type": "code",
   "execution_count": 253,
   "metadata": {},
   "outputs": [
    {
     "name": "stdout",
     "output_type": "stream",
     "text": [
      "3\n"
     ]
    },
    {
     "data": {
      "text/plain": [
       "['64MP + 8MP + 5MP', '48MP + 5MP + 2MP + 2MP', '48MP + 5MP + 2MP + 2MP']"
      ]
     },
     "execution_count": 253,
     "metadata": {},
     "output_type": "execute_result"
    }
   ],
   "source": [
    "primary_camera=[]\n",
    "for i in url[:4]:\n",
    "    driver.get(i)\n",
    "    driver.find_element_by_xpath('//button[@class=\"_2KpZ6l _1FH0tX\"]').click()\n",
    "    try:\n",
    "        primary_camera_tag=driver.find_element_by_xpath('/html/body/div[1]/div/div[3]/div[1]/div[2]/div[9]/div[5]/div/div[2]/div[1]/div[5]/table/tbody/tr[2]/td[2]/ul/li')\n",
    "        primary_camera.append(primary_camera_tag.text)\n",
    "    except NoSuchElementException:\n",
    "        color.append('-')\n",
    "print(len(primary_camera))\n",
    "primary_camera"
   ]
  },
  {
   "cell_type": "code",
   "execution_count": 254,
   "metadata": {},
   "outputs": [
    {
     "name": "stdout",
     "output_type": "stream",
     "text": [
      "3\n"
     ]
    },
    {
     "data": {
      "text/plain": [
       "['32MP Front Camera', '8MP Front Camera', '8MP Front Camera']"
      ]
     },
     "execution_count": 254,
     "metadata": {},
     "output_type": "execute_result"
    }
   ],
   "source": [
    "secondary_camera=[]\n",
    "for i in url[:4]:\n",
    "    driver.get(i)\n",
    "    driver.find_element_by_xpath('//button[@class=\"_2KpZ6l _1FH0tX\"]').click()\n",
    "    try:\n",
    "        secondary_camera_tag=driver.find_element_by_xpath('/html/body/div[1]/div/div[3]/div[1]/div[2]/div[9]/div[5]/div/div[2]/div[1]/div[5]/table/tbody/tr[5]/td[2]/ul/li')\n",
    "        secondary_camera.append(secondary_camera_tag.text)\n",
    "    except NoSuchElementException:\n",
    "        color.append('-')\n",
    "print(len(secondary_camera))\n",
    "secondary_camera"
   ]
  },
  {
   "cell_type": "code",
   "execution_count": 255,
   "metadata": {},
   "outputs": [
    {
     "name": "stdout",
     "output_type": "stream",
     "text": [
      "3\n"
     ]
    },
    {
     "data": {
      "text/plain": [
       "['16.26 cm (6.4 inch)', '16.55 cm (6.515 inch)', '16.55 cm (6.515 inch)']"
      ]
     },
     "execution_count": 255,
     "metadata": {},
     "output_type": "execute_result"
    }
   ],
   "source": [
    "display_size=[]\n",
    "for i in url[:4]:\n",
    "    driver.get(i)\n",
    "    driver.find_element_by_xpath('//button[@class=\"_2KpZ6l _1FH0tX\"]').click()\n",
    "    try:\n",
    "        display_size_tag=driver.find_element_by_xpath('/html/body/div[1]/div/div[3]/div[1]/div[2]/div[9]/div[5]/div/div[2]/div[1]/div[2]/table/tbody/tr[1]/td[2]/ul/li')\n",
    "        display_size.append(display_size_tag.text)\n",
    "    except NoSuchElementException:\n",
    "        color.append('-')\n",
    "print(len(display_size))\n",
    "display_size"
   ]
  },
  {
   "cell_type": "code",
   "execution_count": 256,
   "metadata": {},
   "outputs": [
    {
     "name": "stdout",
     "output_type": "stream",
     "text": [
      "3\n"
     ]
    },
    {
     "data": {
      "text/plain": [
       "['2340 x 1080 Pixels', '1600 x 720 Pixels', '1600 x 720 Pixels']"
      ]
     },
     "execution_count": 256,
     "metadata": {},
     "output_type": "execute_result"
    }
   ],
   "source": [
    "display_resolution=[]\n",
    "for i in url[:4]:\n",
    "    driver.get(i)\n",
    "    driver.find_element_by_xpath('//button[@class=\"_2KpZ6l _1FH0tX\"]').click()\n",
    "    try:\n",
    "        display_resolution_tag=driver.find_element_by_xpath('/html/body/div[1]/div/div[3]/div[1]/div[2]/div[9]/div[5]/div/div[2]/div[1]/div[2]/table/tbody/tr[2]/td[2]/ul/li')\n",
    "        display_resolution.append(display_resolution_tag.text)\n",
    "    except NoSuchElementException:\n",
    "        color.append('-')\n",
    "print(len(display_resolution))\n",
    "display_resolution"
   ]
  },
  {
   "cell_type": "code",
   "execution_count": 257,
   "metadata": {},
   "outputs": [
    {
     "name": "stdout",
     "output_type": "stream",
     "text": [
      "3\n"
     ]
    },
    {
     "data": {
      "text/plain": [
       "['Exynos 9611', 'Exynos 850', 'Exynos 850']"
      ]
     },
     "execution_count": 257,
     "metadata": {},
     "output_type": "execute_result"
    }
   ],
   "source": [
    "processor=[]\n",
    "for i in url[:4]:\n",
    "    driver.get(i)\n",
    "    driver.find_element_by_xpath('//button[@class=\"_2KpZ6l _1FH0tX\"]').click()\n",
    "    try:\n",
    "        processor_tag=driver.find_element_by_xpath('/html/body/div[1]/div/div[3]/div[1]/div[2]/div[9]/div[5]/div/div[2]/div[1]/div[3]/table/tbody/tr[2]/td[2]/ul/li')\n",
    "        processor.append(processor_tag.text)\n",
    "    except NoSuchElementException:\n",
    "        color.append('-')\n",
    "print(len(processor))\n",
    "processor"
   ]
  },
  {
   "cell_type": "code",
   "execution_count": 258,
   "metadata": {},
   "outputs": [
    {
     "name": "stdout",
     "output_type": "stream",
     "text": [
      "3\n"
     ]
    },
    {
     "data": {
      "text/plain": [
       "['Octa Core', 'Octa Core', 'Octa Core']"
      ]
     },
     "execution_count": 258,
     "metadata": {},
     "output_type": "execute_result"
    }
   ],
   "source": [
    "processor_core=[]\n",
    "for i in url[:4]:\n",
    "    driver.get(i)\n",
    "    driver.find_element_by_xpath('//button[@class=\"_2KpZ6l _1FH0tX\"]').click()\n",
    "    try:\n",
    "        processor_core_tag=driver.find_element_by_xpath('/html/body/div[1]/div/div[3]/div[1]/div[2]/div[9]/div[5]/div/div[2]/div[1]/div[3]/table/tbody/tr[3]/td[2]/ul/li')\n",
    "        processor_core.append(processor_core_tag.text)\n",
    "    except NoSuchElementException:\n",
    "        color.append('-')\n",
    "print(len(processor_core))\n",
    "processor_core"
   ]
  },
  {
   "cell_type": "code",
   "execution_count": 259,
   "metadata": {},
   "outputs": [
    {
     "name": "stdout",
     "output_type": "stream",
     "text": [
      "3\n"
     ]
    },
    {
     "data": {
      "text/plain": [
       "['75.1 mm', '6000 mAh', '6000 mAh']"
      ]
     },
     "execution_count": 259,
     "metadata": {},
     "output_type": "execute_result"
    }
   ],
   "source": [
    "battery_capacity=[]\n",
    "for i in url[:4]:\n",
    "    driver.get(i)\n",
    "    driver.find_element_by_xpath('//button[@class=\"_2KpZ6l _1FH0tX\"]').click()\n",
    "    try:\n",
    "        battery_capacity_tag=driver.find_element_by_xpath('/html/body/div[1]/div/div[3]/div[1]/div[2]/div[9]/div[5]/div/div[2]/div[1]/div[10]/table/tbody/tr/td[2]/ul/li')\n",
    "        battery_capacity.append(battery_capacity_tag.text)\n",
    "    except NoSuchElementException:\n",
    "        color.append('-')\n",
    "print(len(battery_capacity))\n",
    "battery_capacity"
   ]
  },
  {
   "cell_type": "code",
   "execution_count": 260,
   "metadata": {},
   "outputs": [
    {
     "name": "stdout",
     "output_type": "stream",
     "text": [
      "3\n"
     ]
    },
    {
     "data": {
      "text/plain": [
       "['₹15,999', '₹11,999', '₹10,999']"
      ]
     },
     "execution_count": 260,
     "metadata": {},
     "output_type": "execute_result"
    }
   ],
   "source": [
    "price=[]\n",
    "for i in url[:4]:\n",
    "    driver.get(i)\n",
    "    try:\n",
    "        price_tag=driver.find_element_by_xpath('/html/body/div[1]/div/div[3]/div[1]/div[2]/div[2]/div/div[4]/div[1]/div/div[1]')\n",
    "        price.append(price_tag.text)\n",
    "    except NoSuchElementException:\n",
    "        color.append('-')\n",
    "print(len(price))\n",
    "price"
   ]
  },
  {
   "cell_type": "code",
   "execution_count": 261,
   "metadata": {},
   "outputs": [
    {
     "ename": "ValueError",
     "evalue": "Length of values (3) does not match length of index (4)",
     "output_type": "error",
     "traceback": [
      "\u001b[1;31m---------------------------------------------------------------------------\u001b[0m",
      "\u001b[1;31mValueError\u001b[0m                                Traceback (most recent call last)",
      "\u001b[1;32m<ipython-input-261-005a9ddea2a9>\u001b[0m in \u001b[0;36m<module>\u001b[1;34m\u001b[0m\n\u001b[0;32m      2\u001b[0m \u001b[0mdf\u001b[0m\u001b[1;33m[\u001b[0m\u001b[1;34m'Brand Name'\u001b[0m\u001b[1;33m]\u001b[0m\u001b[1;33m=\u001b[0m\u001b[0mbrand_name\u001b[0m\u001b[1;33m\u001b[0m\u001b[1;33m\u001b[0m\u001b[0m\n\u001b[0;32m      3\u001b[0m \u001b[0mdf\u001b[0m\u001b[1;33m[\u001b[0m\u001b[1;34m'Smartphone Name'\u001b[0m\u001b[1;33m]\u001b[0m\u001b[1;33m=\u001b[0m\u001b[0msmartphone_name\u001b[0m\u001b[1;33m\u001b[0m\u001b[1;33m\u001b[0m\u001b[0m\n\u001b[1;32m----> 4\u001b[1;33m \u001b[0mdf\u001b[0m\u001b[1;33m[\u001b[0m\u001b[1;34m'RAM'\u001b[0m\u001b[1;33m]\u001b[0m\u001b[1;33m=\u001b[0m\u001b[0mRAM\u001b[0m\u001b[1;33m\u001b[0m\u001b[1;33m\u001b[0m\u001b[0m\n\u001b[0m\u001b[0;32m      5\u001b[0m \u001b[0mdf\u001b[0m\u001b[1;33m[\u001b[0m\u001b[1;34m'Storage/ROM'\u001b[0m\u001b[1;33m]\u001b[0m\u001b[1;33m=\u001b[0m\u001b[0mstorage\u001b[0m\u001b[1;33m=\u001b[0m\u001b[1;33m[\u001b[0m\u001b[1;33m]\u001b[0m\u001b[1;33m\u001b[0m\u001b[1;33m\u001b[0m\u001b[0m\n\u001b[0;32m      6\u001b[0m \u001b[0mdf\u001b[0m\u001b[1;33m[\u001b[0m\u001b[1;34m'Primary Camera'\u001b[0m\u001b[1;33m]\u001b[0m\u001b[1;33m=\u001b[0m\u001b[0mprimary_camera\u001b[0m\u001b[1;33m=\u001b[0m\u001b[1;33m[\u001b[0m\u001b[1;33m]\u001b[0m\u001b[1;33m\u001b[0m\u001b[1;33m\u001b[0m\u001b[0m\n",
      "\u001b[1;32m~\\Anaconda3\\lib\\site-packages\\pandas\\core\\frame.py\u001b[0m in \u001b[0;36m__setitem__\u001b[1;34m(self, key, value)\u001b[0m\n\u001b[0;32m   3038\u001b[0m         \u001b[1;32melse\u001b[0m\u001b[1;33m:\u001b[0m\u001b[1;33m\u001b[0m\u001b[1;33m\u001b[0m\u001b[0m\n\u001b[0;32m   3039\u001b[0m             \u001b[1;31m# set column\u001b[0m\u001b[1;33m\u001b[0m\u001b[1;33m\u001b[0m\u001b[1;33m\u001b[0m\u001b[0m\n\u001b[1;32m-> 3040\u001b[1;33m             \u001b[0mself\u001b[0m\u001b[1;33m.\u001b[0m\u001b[0m_set_item\u001b[0m\u001b[1;33m(\u001b[0m\u001b[0mkey\u001b[0m\u001b[1;33m,\u001b[0m \u001b[0mvalue\u001b[0m\u001b[1;33m)\u001b[0m\u001b[1;33m\u001b[0m\u001b[1;33m\u001b[0m\u001b[0m\n\u001b[0m\u001b[0;32m   3041\u001b[0m \u001b[1;33m\u001b[0m\u001b[0m\n\u001b[0;32m   3042\u001b[0m     \u001b[1;32mdef\u001b[0m \u001b[0m_setitem_slice\u001b[0m\u001b[1;33m(\u001b[0m\u001b[0mself\u001b[0m\u001b[1;33m,\u001b[0m \u001b[0mkey\u001b[0m\u001b[1;33m:\u001b[0m \u001b[0mslice\u001b[0m\u001b[1;33m,\u001b[0m \u001b[0mvalue\u001b[0m\u001b[1;33m)\u001b[0m\u001b[1;33m:\u001b[0m\u001b[1;33m\u001b[0m\u001b[1;33m\u001b[0m\u001b[0m\n",
      "\u001b[1;32m~\\Anaconda3\\lib\\site-packages\\pandas\\core\\frame.py\u001b[0m in \u001b[0;36m_set_item\u001b[1;34m(self, key, value)\u001b[0m\n\u001b[0;32m   3114\u001b[0m         \"\"\"\n\u001b[0;32m   3115\u001b[0m         \u001b[0mself\u001b[0m\u001b[1;33m.\u001b[0m\u001b[0m_ensure_valid_index\u001b[0m\u001b[1;33m(\u001b[0m\u001b[0mvalue\u001b[0m\u001b[1;33m)\u001b[0m\u001b[1;33m\u001b[0m\u001b[1;33m\u001b[0m\u001b[0m\n\u001b[1;32m-> 3116\u001b[1;33m         \u001b[0mvalue\u001b[0m \u001b[1;33m=\u001b[0m \u001b[0mself\u001b[0m\u001b[1;33m.\u001b[0m\u001b[0m_sanitize_column\u001b[0m\u001b[1;33m(\u001b[0m\u001b[0mkey\u001b[0m\u001b[1;33m,\u001b[0m \u001b[0mvalue\u001b[0m\u001b[1;33m)\u001b[0m\u001b[1;33m\u001b[0m\u001b[1;33m\u001b[0m\u001b[0m\n\u001b[0m\u001b[0;32m   3117\u001b[0m         \u001b[0mNDFrame\u001b[0m\u001b[1;33m.\u001b[0m\u001b[0m_set_item\u001b[0m\u001b[1;33m(\u001b[0m\u001b[0mself\u001b[0m\u001b[1;33m,\u001b[0m \u001b[0mkey\u001b[0m\u001b[1;33m,\u001b[0m \u001b[0mvalue\u001b[0m\u001b[1;33m)\u001b[0m\u001b[1;33m\u001b[0m\u001b[1;33m\u001b[0m\u001b[0m\n\u001b[0;32m   3118\u001b[0m \u001b[1;33m\u001b[0m\u001b[0m\n",
      "\u001b[1;32m~\\Anaconda3\\lib\\site-packages\\pandas\\core\\frame.py\u001b[0m in \u001b[0;36m_sanitize_column\u001b[1;34m(self, key, value, broadcast)\u001b[0m\n\u001b[0;32m   3762\u001b[0m \u001b[1;33m\u001b[0m\u001b[0m\n\u001b[0;32m   3763\u001b[0m             \u001b[1;31m# turn me into an ndarray\u001b[0m\u001b[1;33m\u001b[0m\u001b[1;33m\u001b[0m\u001b[1;33m\u001b[0m\u001b[0m\n\u001b[1;32m-> 3764\u001b[1;33m             \u001b[0mvalue\u001b[0m \u001b[1;33m=\u001b[0m \u001b[0msanitize_index\u001b[0m\u001b[1;33m(\u001b[0m\u001b[0mvalue\u001b[0m\u001b[1;33m,\u001b[0m \u001b[0mself\u001b[0m\u001b[1;33m.\u001b[0m\u001b[0mindex\u001b[0m\u001b[1;33m)\u001b[0m\u001b[1;33m\u001b[0m\u001b[1;33m\u001b[0m\u001b[0m\n\u001b[0m\u001b[0;32m   3765\u001b[0m             \u001b[1;32mif\u001b[0m \u001b[1;32mnot\u001b[0m \u001b[0misinstance\u001b[0m\u001b[1;33m(\u001b[0m\u001b[0mvalue\u001b[0m\u001b[1;33m,\u001b[0m \u001b[1;33m(\u001b[0m\u001b[0mnp\u001b[0m\u001b[1;33m.\u001b[0m\u001b[0mndarray\u001b[0m\u001b[1;33m,\u001b[0m \u001b[0mIndex\u001b[0m\u001b[1;33m)\u001b[0m\u001b[1;33m)\u001b[0m\u001b[1;33m:\u001b[0m\u001b[1;33m\u001b[0m\u001b[1;33m\u001b[0m\u001b[0m\n\u001b[0;32m   3766\u001b[0m                 \u001b[1;32mif\u001b[0m \u001b[0misinstance\u001b[0m\u001b[1;33m(\u001b[0m\u001b[0mvalue\u001b[0m\u001b[1;33m,\u001b[0m \u001b[0mlist\u001b[0m\u001b[1;33m)\u001b[0m \u001b[1;32mand\u001b[0m \u001b[0mlen\u001b[0m\u001b[1;33m(\u001b[0m\u001b[0mvalue\u001b[0m\u001b[1;33m)\u001b[0m \u001b[1;33m>\u001b[0m \u001b[1;36m0\u001b[0m\u001b[1;33m:\u001b[0m\u001b[1;33m\u001b[0m\u001b[1;33m\u001b[0m\u001b[0m\n",
      "\u001b[1;32m~\\Anaconda3\\lib\\site-packages\\pandas\\core\\internals\\construction.py\u001b[0m in \u001b[0;36msanitize_index\u001b[1;34m(data, index)\u001b[0m\n\u001b[0;32m    745\u001b[0m     \"\"\"\n\u001b[0;32m    746\u001b[0m     \u001b[1;32mif\u001b[0m \u001b[0mlen\u001b[0m\u001b[1;33m(\u001b[0m\u001b[0mdata\u001b[0m\u001b[1;33m)\u001b[0m \u001b[1;33m!=\u001b[0m \u001b[0mlen\u001b[0m\u001b[1;33m(\u001b[0m\u001b[0mindex\u001b[0m\u001b[1;33m)\u001b[0m\u001b[1;33m:\u001b[0m\u001b[1;33m\u001b[0m\u001b[1;33m\u001b[0m\u001b[0m\n\u001b[1;32m--> 747\u001b[1;33m         raise ValueError(\n\u001b[0m\u001b[0;32m    748\u001b[0m             \u001b[1;34m\"Length of values \"\u001b[0m\u001b[1;33m\u001b[0m\u001b[1;33m\u001b[0m\u001b[0m\n\u001b[0;32m    749\u001b[0m             \u001b[1;34mf\"({len(data)}) \"\u001b[0m\u001b[1;33m\u001b[0m\u001b[1;33m\u001b[0m\u001b[0m\n",
      "\u001b[1;31mValueError\u001b[0m: Length of values (3) does not match length of index (4)"
     ]
    }
   ],
   "source": [
    "df=pd.DataFrame({})\n",
    "df['Brand Name']=brand_name\n",
    "df['Smartphone Name']=smartphone_name\n",
    "df['RAM']=RAM\n",
    "df['Storage/ROM']=storage=[]\n",
    "df['Primary Camera']=primary_camera=[]\n",
    "df['Secondary Camera']=secondary_camera=[]\n",
    "df['Display Size']=display_size=[]\n",
    "df['Display Resolution']=display_resolution=[]\n",
    "df['Processor']=processor=[]\n",
    "df['Processor Core']=processor_core=[]\n",
    "df['Battery Capacity']=battery_capacity=[]\n",
    "df['Price']=price=[]\n",
    "df"
   ]
  },
  {
   "cell_type": "markdown",
   "metadata": {},
   "source": [
    "# Answer 5. Write a program to scrap geospatial coordinates (latitude, longitude) of a city searched on google maps."
   ]
  },
  {
   "cell_type": "code",
   "execution_count": 270,
   "metadata": {},
   "outputs": [],
   "source": [
    "driver=webdriver.Chrome('chromedriver.exe')\n",
    "url='https://www.google.com/maps/'\n",
    "driver.get(url)"
   ]
  },
  {
   "cell_type": "code",
   "execution_count": 271,
   "metadata": {},
   "outputs": [
    {
     "name": "stdout",
     "output_type": "stream",
     "text": [
      "Enter City Name:Pune\n"
     ]
    }
   ],
   "source": [
    "city=input('Enter City Name:')\n",
    "search=driver.find_element_by_xpath('//input[@autofocus=\"autofocus\"]')\n",
    "search.send_keys(city)\n",
    "search_btn=driver.find_element_by_xpath('//button[@aria-label=\"Search\"]').click()\n",
    "search_btn"
   ]
  },
  {
   "cell_type": "code",
   "execution_count": 274,
   "metadata": {},
   "outputs": [
    {
     "ename": "AttributeError",
     "evalue": "'str' object has no attribute 'click'",
     "output_type": "error",
     "traceback": [
      "\u001b[1;31m---------------------------------------------------------------------------\u001b[0m",
      "\u001b[1;31mAttributeError\u001b[0m                            Traceback (most recent call last)",
      "\u001b[1;32m<ipython-input-274-21f63496aef7>\u001b[0m in \u001b[0;36m<module>\u001b[1;34m\u001b[0m\n\u001b[0;32m      1\u001b[0m \u001b[0mcorr\u001b[0m\u001b[1;33m=\u001b[0m\u001b[1;33m[\u001b[0m\u001b[1;33m]\u001b[0m\u001b[1;33m\u001b[0m\u001b[1;33m\u001b[0m\u001b[0m\n\u001b[1;32m----> 2\u001b[1;33m \u001b[0murl\u001b[0m\u001b[1;33m.\u001b[0m\u001b[0mclick\u001b[0m\u001b[1;33m(\u001b[0m\u001b[1;33m)\u001b[0m\u001b[1;33m\u001b[0m\u001b[1;33m\u001b[0m\u001b[0m\n\u001b[0m\u001b[0;32m      3\u001b[0m \u001b[0mcoordinate\u001b[0m\u001b[1;33m=\u001b[0m\u001b[0mdriver\u001b[0m\u001b[1;33m.\u001b[0m\u001b[0mfind_element_by_xpath\u001b[0m\u001b[1;33m(\u001b[0m\u001b[1;34m'/html/body/jsl/div[3]/div[9]/div[22]/div[1]/div[1]/div[2]/div/div[2]/button[2]'\u001b[0m\u001b[1;33m)\u001b[0m\u001b[1;33m\u001b[0m\u001b[1;33m\u001b[0m\u001b[0m\n\u001b[0;32m      4\u001b[0m \u001b[0mcorr\u001b[0m\u001b[1;33m.\u001b[0m\u001b[0mappend\u001b[0m\u001b[1;33m(\u001b[0m\u001b[0mcoordinate\u001b[0m\u001b[1;33m.\u001b[0m\u001b[0mtext\u001b[0m\u001b[1;33m)\u001b[0m\u001b[1;33m\u001b[0m\u001b[1;33m\u001b[0m\u001b[0m\n\u001b[0;32m      5\u001b[0m \u001b[0mprint\u001b[0m\u001b[1;33m(\u001b[0m\u001b[0mcorr\u001b[0m\u001b[1;33m)\u001b[0m\u001b[1;33m\u001b[0m\u001b[1;33m\u001b[0m\u001b[0m\n",
      "\u001b[1;31mAttributeError\u001b[0m: 'str' object has no attribute 'click'"
     ]
    }
   ],
   "source": [
    "corr=[]\n",
    "coordinate=driver.find_element_by_xpath('/html/body/jsl/div[3]/div[9]/div[22]/div[1]/div[1]/div[2]/div/div[2]/button[2]')\n",
    "corr.append(coordinate.text)\n",
    "print(corr)"
   ]
  },
  {
   "cell_type": "markdown",
   "metadata": {},
   "source": [
    "# Answer 6. Write a program to scrap details of all the funding deals for second quarter (i.e. July 20 – September 20) from trak.in. "
   ]
  },
  {
   "cell_type": "code",
   "execution_count": 114,
   "metadata": {},
   "outputs": [],
   "source": [
    "driver=webdriver.Chrome('chromedriver.exe')\n",
    "url='https://trak.in/'\n",
    "driver.get(url)"
   ]
  },
  {
   "cell_type": "code",
   "execution_count": 116,
   "metadata": {},
   "outputs": [],
   "source": [
    "driver.find_element_by_xpath('//a[@title=\"http://trak.in/india-startup-funding-investment-2015/\"]').click()"
   ]
  },
  {
   "cell_type": "code",
   "execution_count": null,
   "metadata": {},
   "outputs": [],
   "source": [
    "July=driver.find_element_by_xpath('//a[@title=\"http://trak.in/india-startup-funding-investment-2015/\"]').click()s"
   ]
  },
  {
   "cell_type": "code",
   "execution_count": null,
   "metadata": {},
   "outputs": [],
   "source": [
    "Date=[]\n",
    "Startup_name=[]\n",
    "Industry=[]\n",
    "Subvertical=[]\n",
    "City_location=[]\n",
    "Investor_name=[]\n",
    "Investor_type=[]\n",
    "amount=[]"
   ]
  },
  {
   "cell_type": "markdown",
   "metadata": {},
   "source": [
    "# Answer 7. Write a program to scrap all the available details of best gaming laptops from digit.in."
   ]
  },
  {
   "cell_type": "code",
   "execution_count": 122,
   "metadata": {},
   "outputs": [],
   "source": [
    "driver=webdriver.Chrome('chromedriver.exe')\n",
    "url='https://www.digit.in/'\n",
    "driver.get(url)"
   ]
  },
  {
   "cell_type": "code",
   "execution_count": 123,
   "metadata": {},
   "outputs": [
    {
     "ename": "NoSuchElementException",
     "evalue": "Message: no such element: Unable to locate element: {\"method\":\"xpath\",\"selector\":\"//div[@id=\"cssmenu\"]/li/li\"}\n  (Session info: chrome=91.0.4472.124)\n",
     "output_type": "error",
     "traceback": [
      "\u001b[1;31m---------------------------------------------------------------------------\u001b[0m",
      "\u001b[1;31mNoSuchElementException\u001b[0m                    Traceback (most recent call last)",
      "\u001b[1;32m<ipython-input-123-7775d4aa4838>\u001b[0m in \u001b[0;36m<module>\u001b[1;34m\u001b[0m\n\u001b[1;32m----> 1\u001b[1;33m \u001b[0mdriver\u001b[0m\u001b[1;33m.\u001b[0m\u001b[0mfind_element_by_xpath\u001b[0m\u001b[1;33m(\u001b[0m\u001b[1;34m'//div[@id=\"cssmenu\"]/li/li'\u001b[0m\u001b[1;33m)\u001b[0m\u001b[1;33m.\u001b[0m\u001b[0mclick\u001b[0m\u001b[1;33m(\u001b[0m\u001b[1;33m)\u001b[0m\u001b[1;33m\u001b[0m\u001b[1;33m\u001b[0m\u001b[0m\n\u001b[0m",
      "\u001b[1;32m~\\Anaconda3\\lib\\site-packages\\selenium\\webdriver\\remote\\webdriver.py\u001b[0m in \u001b[0;36mfind_element_by_xpath\u001b[1;34m(self, xpath)\u001b[0m\n\u001b[0;32m    392\u001b[0m             \u001b[0melement\u001b[0m \u001b[1;33m=\u001b[0m \u001b[0mdriver\u001b[0m\u001b[1;33m.\u001b[0m\u001b[0mfind_element_by_xpath\u001b[0m\u001b[1;33m(\u001b[0m\u001b[1;34m'//div/td[1]'\u001b[0m\u001b[1;33m)\u001b[0m\u001b[1;33m\u001b[0m\u001b[1;33m\u001b[0m\u001b[0m\n\u001b[0;32m    393\u001b[0m         \"\"\"\n\u001b[1;32m--> 394\u001b[1;33m         \u001b[1;32mreturn\u001b[0m \u001b[0mself\u001b[0m\u001b[1;33m.\u001b[0m\u001b[0mfind_element\u001b[0m\u001b[1;33m(\u001b[0m\u001b[0mby\u001b[0m\u001b[1;33m=\u001b[0m\u001b[0mBy\u001b[0m\u001b[1;33m.\u001b[0m\u001b[0mXPATH\u001b[0m\u001b[1;33m,\u001b[0m \u001b[0mvalue\u001b[0m\u001b[1;33m=\u001b[0m\u001b[0mxpath\u001b[0m\u001b[1;33m)\u001b[0m\u001b[1;33m\u001b[0m\u001b[1;33m\u001b[0m\u001b[0m\n\u001b[0m\u001b[0;32m    395\u001b[0m \u001b[1;33m\u001b[0m\u001b[0m\n\u001b[0;32m    396\u001b[0m     \u001b[1;32mdef\u001b[0m \u001b[0mfind_elements_by_xpath\u001b[0m\u001b[1;33m(\u001b[0m\u001b[0mself\u001b[0m\u001b[1;33m,\u001b[0m \u001b[0mxpath\u001b[0m\u001b[1;33m)\u001b[0m\u001b[1;33m:\u001b[0m\u001b[1;33m\u001b[0m\u001b[1;33m\u001b[0m\u001b[0m\n",
      "\u001b[1;32m~\\Anaconda3\\lib\\site-packages\\selenium\\webdriver\\remote\\webdriver.py\u001b[0m in \u001b[0;36mfind_element\u001b[1;34m(self, by, value)\u001b[0m\n\u001b[0;32m    974\u001b[0m                 \u001b[0mby\u001b[0m \u001b[1;33m=\u001b[0m \u001b[0mBy\u001b[0m\u001b[1;33m.\u001b[0m\u001b[0mCSS_SELECTOR\u001b[0m\u001b[1;33m\u001b[0m\u001b[1;33m\u001b[0m\u001b[0m\n\u001b[0;32m    975\u001b[0m                 \u001b[0mvalue\u001b[0m \u001b[1;33m=\u001b[0m \u001b[1;34m'[name=\"%s\"]'\u001b[0m \u001b[1;33m%\u001b[0m \u001b[0mvalue\u001b[0m\u001b[1;33m\u001b[0m\u001b[1;33m\u001b[0m\u001b[0m\n\u001b[1;32m--> 976\u001b[1;33m         return self.execute(Command.FIND_ELEMENT, {\n\u001b[0m\u001b[0;32m    977\u001b[0m             \u001b[1;34m'using'\u001b[0m\u001b[1;33m:\u001b[0m \u001b[0mby\u001b[0m\u001b[1;33m,\u001b[0m\u001b[1;33m\u001b[0m\u001b[1;33m\u001b[0m\u001b[0m\n\u001b[0;32m    978\u001b[0m             'value': value})['value']\n",
      "\u001b[1;32m~\\Anaconda3\\lib\\site-packages\\selenium\\webdriver\\remote\\webdriver.py\u001b[0m in \u001b[0;36mexecute\u001b[1;34m(self, driver_command, params)\u001b[0m\n\u001b[0;32m    319\u001b[0m         \u001b[0mresponse\u001b[0m \u001b[1;33m=\u001b[0m \u001b[0mself\u001b[0m\u001b[1;33m.\u001b[0m\u001b[0mcommand_executor\u001b[0m\u001b[1;33m.\u001b[0m\u001b[0mexecute\u001b[0m\u001b[1;33m(\u001b[0m\u001b[0mdriver_command\u001b[0m\u001b[1;33m,\u001b[0m \u001b[0mparams\u001b[0m\u001b[1;33m)\u001b[0m\u001b[1;33m\u001b[0m\u001b[1;33m\u001b[0m\u001b[0m\n\u001b[0;32m    320\u001b[0m         \u001b[1;32mif\u001b[0m \u001b[0mresponse\u001b[0m\u001b[1;33m:\u001b[0m\u001b[1;33m\u001b[0m\u001b[1;33m\u001b[0m\u001b[0m\n\u001b[1;32m--> 321\u001b[1;33m             \u001b[0mself\u001b[0m\u001b[1;33m.\u001b[0m\u001b[0merror_handler\u001b[0m\u001b[1;33m.\u001b[0m\u001b[0mcheck_response\u001b[0m\u001b[1;33m(\u001b[0m\u001b[0mresponse\u001b[0m\u001b[1;33m)\u001b[0m\u001b[1;33m\u001b[0m\u001b[1;33m\u001b[0m\u001b[0m\n\u001b[0m\u001b[0;32m    322\u001b[0m             response['value'] = self._unwrap_value(\n\u001b[0;32m    323\u001b[0m                 response.get('value', None))\n",
      "\u001b[1;32m~\\Anaconda3\\lib\\site-packages\\selenium\\webdriver\\remote\\errorhandler.py\u001b[0m in \u001b[0;36mcheck_response\u001b[1;34m(self, response)\u001b[0m\n\u001b[0;32m    240\u001b[0m                 \u001b[0malert_text\u001b[0m \u001b[1;33m=\u001b[0m \u001b[0mvalue\u001b[0m\u001b[1;33m[\u001b[0m\u001b[1;34m'alert'\u001b[0m\u001b[1;33m]\u001b[0m\u001b[1;33m.\u001b[0m\u001b[0mget\u001b[0m\u001b[1;33m(\u001b[0m\u001b[1;34m'text'\u001b[0m\u001b[1;33m)\u001b[0m\u001b[1;33m\u001b[0m\u001b[1;33m\u001b[0m\u001b[0m\n\u001b[0;32m    241\u001b[0m             \u001b[1;32mraise\u001b[0m \u001b[0mexception_class\u001b[0m\u001b[1;33m(\u001b[0m\u001b[0mmessage\u001b[0m\u001b[1;33m,\u001b[0m \u001b[0mscreen\u001b[0m\u001b[1;33m,\u001b[0m \u001b[0mstacktrace\u001b[0m\u001b[1;33m,\u001b[0m \u001b[0malert_text\u001b[0m\u001b[1;33m)\u001b[0m\u001b[1;33m\u001b[0m\u001b[1;33m\u001b[0m\u001b[0m\n\u001b[1;32m--> 242\u001b[1;33m         \u001b[1;32mraise\u001b[0m \u001b[0mexception_class\u001b[0m\u001b[1;33m(\u001b[0m\u001b[0mmessage\u001b[0m\u001b[1;33m,\u001b[0m \u001b[0mscreen\u001b[0m\u001b[1;33m,\u001b[0m \u001b[0mstacktrace\u001b[0m\u001b[1;33m)\u001b[0m\u001b[1;33m\u001b[0m\u001b[1;33m\u001b[0m\u001b[0m\n\u001b[0m\u001b[0;32m    243\u001b[0m \u001b[1;33m\u001b[0m\u001b[0m\n\u001b[0;32m    244\u001b[0m     \u001b[1;32mdef\u001b[0m \u001b[0m_value_or_default\u001b[0m\u001b[1;33m(\u001b[0m\u001b[0mself\u001b[0m\u001b[1;33m,\u001b[0m \u001b[0mobj\u001b[0m\u001b[1;33m,\u001b[0m \u001b[0mkey\u001b[0m\u001b[1;33m,\u001b[0m \u001b[0mdefault\u001b[0m\u001b[1;33m)\u001b[0m\u001b[1;33m:\u001b[0m\u001b[1;33m\u001b[0m\u001b[1;33m\u001b[0m\u001b[0m\n",
      "\u001b[1;31mNoSuchElementException\u001b[0m: Message: no such element: Unable to locate element: {\"method\":\"xpath\",\"selector\":\"//div[@id=\"cssmenu\"]/li/li\"}\n  (Session info: chrome=91.0.4472.124)\n"
     ]
    }
   ],
   "source": [
    "driver.find_element_by_xpath('//div[@id=\"cssmenu\"]/li/li').click()"
   ]
  },
  {
   "cell_type": "markdown",
   "metadata": {},
   "source": [
    "# Answer 8. Write a python program to scrape the details for all billionaires from www.forbes.com. Details to be scrapped: “Rank”, “Name”, “Net worth”, “Age”, “Citizenship”, “Source”, “Industry”."
   ]
  },
  {
   "cell_type": "code",
   "execution_count": 285,
   "metadata": {},
   "outputs": [],
   "source": [
    "driver=webdriver.Chrome('chromedriver.exe')\n",
    "url='https://www.forbes.com/billionaires/'\n",
    "driver.get(url)"
   ]
  },
  {
   "cell_type": "code",
   "execution_count": 286,
   "metadata": {},
   "outputs": [
    {
     "name": "stdout",
     "output_type": "stream",
     "text": [
      "200\n"
     ]
    }
   ],
   "source": [
    "name_tag=driver.find_elements_by_xpath('//div[@class=\"personName\"]')\n",
    "name=[]\n",
    "for i in name_tag:\n",
    "    name.append(i.text)\n",
    "print(len(name))"
   ]
  },
  {
   "cell_type": "code",
   "execution_count": 287,
   "metadata": {},
   "outputs": [
    {
     "name": "stdout",
     "output_type": "stream",
     "text": [
      "200\n"
     ]
    }
   ],
   "source": [
    "networth_tag=driver.find_elements_by_xpath('//div[@class=\"netWorth\"]')\n",
    "networth=[]\n",
    "for i in networth_tag:\n",
    "    networth.append(i.text)\n",
    "print(len(networth))"
   ]
  },
  {
   "cell_type": "code",
   "execution_count": 288,
   "metadata": {},
   "outputs": [
    {
     "name": "stdout",
     "output_type": "stream",
     "text": [
      "200\n",
      "['United States', 'United States', 'France', 'United States', 'United States', 'United States', 'United States', 'United States', 'United States', 'India', 'Spain', 'France', 'China', 'United States', 'China', 'Mexico', 'United States', 'United States', 'United States', 'United States', 'China', 'United States', 'United States', 'India', 'United States', 'China', 'United States', 'United States', 'Japan', 'United States', 'Japan', 'France', 'Canada', 'Germany', 'China', 'United States', 'China', 'Germany', 'China', 'Italy', 'France', 'France', 'Hong Kong', 'China', 'China', 'United States', 'Hong Kong', 'United States', 'United States', 'China', 'Russia', 'Hong Kong', 'China', 'Germany', 'Russia', 'Austria', 'China', 'Germany', 'Russia', 'China', 'Mexico', 'Italy', 'Japan', 'United States', 'United States', 'Russia', 'Russia', 'United States', 'China', 'Australia', 'United States', 'India', 'China', 'Chile', 'China', 'Singapore', 'China', 'Russia', 'United States', 'Singapore', 'Germany', 'Singapore', 'United States', 'Sweden', 'United States', 'Indonesia', 'Australia', 'United States', 'Indonesia', 'China', 'China', 'Hong Kong', 'Hong Kong', 'France', 'United States', 'United States', 'China', 'Germany', 'Russia', 'United States', 'China', 'China', 'Thailand', 'Hong Kong', 'China', 'Russia', 'United States', 'China', 'United States', 'Czechia', 'Hong Kong', 'Russia', 'United Kingdom', 'Brazil', 'Germany', 'Netherlands', 'India', 'China', 'United States', 'United States', 'China', 'United States', 'India', 'United States', 'Russia', 'United States', 'United States', 'Russia', 'China', 'China', 'Hong Kong', 'United States', 'United Kingdom', 'India', 'Germany', 'United States', 'China', 'Hong Kong', 'China', 'Ireland', 'Brazil', 'Russia', 'United States', 'Hong Kong', 'Australia', 'United States', 'South Korea', 'China', 'China', 'Australia', 'Sweden', 'Sweden', 'Sweden', 'United States', 'Hong Kong', 'United States', 'Thailand', 'South Korea', 'Singapore', 'China', 'Denmark', 'China', 'China', 'Russia', 'United Kingdom', 'China', 'Mexico', 'India', 'China', 'India', 'Malaysia', 'United States', 'United States', 'China', 'China', 'China', 'United States', 'United States', 'United States', 'Singapore', 'China', 'China', 'United States', 'United States', 'United States', 'France', 'United States', 'Germany', 'China', 'Canada', 'Nigeria', 'Brazil', 'Russia', 'Brazil', 'Russia', 'Australia', 'Russia', 'Israel', 'United States', 'Colombia']\n"
     ]
    }
   ],
   "source": [
    "country_tag=driver.find_elements_by_xpath('//div[@class=\"countryOfCitizenship\"]')\n",
    "country=[]\n",
    "for i in country_tag:\n",
    "    country.append(i.text)\n",
    "print(len(country))\n",
    "print(country)"
   ]
  },
  {
   "cell_type": "code",
   "execution_count": 289,
   "metadata": {},
   "outputs": [
    {
     "name": "stdout",
     "output_type": "stream",
     "text": [
      "200\n",
      "['Amazon', 'Tesla, SpaceX', 'LVMH', 'Microsoft', 'Facebook', 'Berkshire Hathaway', 'software', 'Google', 'Google', 'diversified', 'Zara', \"L'Oréal\", 'beverages, pharmaceuticals', 'Microsoft', 'internet media', 'telecom', 'Walmart', 'Walmart', 'Walmart', 'Bloomberg LP', 'e-commerce', 'Amazon', 'Quicken Loans', 'infrastructure, commodities', 'Nike', 'e-commerce', 'Koch Industries', 'Koch Industries', 'internet, telecom', 'Dell computers', 'fashion retail', 'luxury goods', 'media', 'supermarkets', 'package delivery', 'casinos', 'home appliances', 'retail', 'TikTok', 'Nutella, chocolates', 'Chanel', 'Chanel', 'diversified', 'pig breeding', 'online games', 'music, chemicals', 'real estate', 'candy, pet food', 'candy, pet food', 'real estate', 'steel, investments', 'batteries', 'real estate', 'BMW, pharmaceuticals', 'metals', 'Red Bull', 'soy sauce', 'shipping', 'steel, transport', 'e-commerce', 'mining', 'eyeglasses', 'sensors', 'Estee Lauder', 'discount brokerage', 'oil', 'gas, chemicals', 'hedge funds', 'vaccines', 'mining', 'newspapers, TV network', 'software services', 'internet media', 'mining', 'smartphones', 'restaurants', 'e-commerce', 'oil, gas', 'investments', 'paints', 'BMW', 'medical devices', 'eBay, PayPal', 'H&M', 'money management', 'banking, tobacco', 'mining', 'hedge funds', 'banking, tobacco', 'automobiles', 'pharmaceuticals', 'medical devices', 'casinos/hotels', 'cheese', 'Apple, Disney', 'Google', 'pharmaceuticals', \"Aldi, Trader Joe's\", 'steel, telecom, investments', 'wireless networking gear', 'real estate', 'petrochemicals', 'diversified', 'real estate', 'hospitals', 'coal, fertilizers', 'Facebook', 'video streaming', 'media', 'finance, telecommunications', 'food', 'messaging app', 'chemicals', 'beer', 'fasteners', 'Heineken', 'retail, investments', 'batteries, automobiles', 'hedge funds', 'hedge funds', 'e-cigarettes', 'used cars', 'banking', 'investments', 'investments', 'hospitals', 'Walmart', 'oil, banking, telecom', 'automobiles', 'real estate services', 'smartphone screens', 'real estate', 'diversified', 'steel', 'auto parts', 'video conferencing', 'real estate', 'real estate', 'internet search', 'construction', 'Facebook', 'steel, investments', 'hedge funds', 'video surveillance', 'software', 'home improvement stores', 'biotech', 'video streaming app', 'construction equipment', 'software', 'packaging', 'packaging', 'packaging', 'Airbnb', 'real estate', 'business software', 'alcohol, real estate', 'online games', 'real estate', 'education', 'fashion retail', 'mining, copper products', 'hydraulic machinery', 'ecommerce', 'hedge funds', 'batteries', 'retail, media', 'commodities', 'coal', 'vaccines', 'palm oil, shipping, property', 'supermarkets', 'Twitter, Square', 'education', 'textiles, apparel', 'e-commerce', 'Airbnb', 'venture capital', 'Airbnb', 'gaming', 'semiconductors', 'agribusiness', 'Intel', 'trading, investments', 'Snapchat', 'telecom', 'semiconductors', 'real estate', 'pharmaceuticals', 'e-commerce', 'cement, sugar', 'beer', 'investments', 'hospitals', 'steel', 'real estate', 'oil', 'real estate, shipping', 'Snapchat', 'banking']\n"
     ]
    }
   ],
   "source": [
    "source_tag=driver.find_elements_by_xpath('//div[@class=\"source\"]')\n",
    "source=[]\n",
    "for i in source_tag:\n",
    "    source.append(i.text)\n",
    "print(len(source))\n",
    "print(source)"
   ]
  },
  {
   "cell_type": "code",
   "execution_count": 290,
   "metadata": {},
   "outputs": [
    {
     "name": "stdout",
     "output_type": "stream",
     "text": [
      "200\n",
      "['Technology', 'Automotive', 'Fashion & Retail', 'Technology', 'Technology', 'Finance & Investments', 'Technology', 'Technology', 'Technology', 'Diversified', 'Fashion & Retail', 'Fashion & Retail', 'Food & Beverage', 'Technology', 'Technology', 'Telecom', 'Fashion & Retail', 'Fashion & Retail', 'Fashion & Retail', 'Media & Entertainment', 'Technology', 'Technology', 'Finance & Investments', 'Diversified', 'Fashion & Retail', 'Technology', 'Diversified', 'Diversified', 'Telecom', 'Technology', 'Fashion & Retail', 'Fashion & Retail', 'Media & Entertainment', 'Fashion & Retail', 'Service', 'Gambling & Casinos', 'Manufacturing', 'Fashion & Retail', 'Technology', 'Food & Beverage', 'Fashion & Retail', 'Fashion & Retail', 'Diversified', 'Food & Beverage', 'Technology', 'Diversified', 'Real Estate', 'Food & Beverage', 'Food & Beverage', 'Real Estate', 'Metals & Mining', 'Energy', 'Real Estate', 'Automotive', 'Metals & Mining', 'Food & Beverage', 'Food & Beverage', 'Logistics', 'Metals & Mining', 'Technology', 'Metals & Mining', 'Fashion & Retail', 'Manufacturing', 'Fashion & Retail', 'Finance & Investments', 'Energy', 'Energy', 'Finance & Investments', 'Healthcare', 'Metals & Mining', 'Media & Entertainment', 'Technology', 'Technology', 'Metals & Mining', 'Technology', 'Food & Beverage', 'Technology', 'Energy', 'Finance & Investments', 'Manufacturing', 'Automotive', 'Healthcare', 'Technology', 'Fashion & Retail', 'Finance & Investments', 'Finance & Investments', 'Metals & Mining', 'Finance & Investments', 'Manufacturing', 'Automotive', 'Healthcare', 'Healthcare', 'Gambling & Casinos', 'Food & Beverage', 'Technology', 'Technology', 'Healthcare', 'Fashion & Retail', 'Metals & Mining', 'Technology', 'Real Estate', 'Energy', 'Diversified', 'Real Estate', 'Healthcare', 'Energy', 'Technology', 'Media & Entertainment', 'Media & Entertainment', 'Finance & Investments', 'Food & Beverage', 'Technology', 'Manufacturing', 'Food & Beverage', 'Manufacturing', 'Food & Beverage', 'Fashion & Retail', 'Automotive', 'Finance & Investments', 'Finance & Investments', 'Manufacturing', 'Automotive', 'Finance & Investments', 'Finance & Investments', 'Finance & Investments', 'Healthcare', 'Fashion & Retail', 'Energy', 'Automotive', 'Real Estate', 'Technology', 'Real Estate', 'Diversified', 'Metals & Mining', 'Automotive', 'Technology', 'Real Estate', 'Real Estate', 'Technology', 'Construction & Engineering', 'Technology', 'Diversified', 'Finance & Investments', 'Finance & Investments', 'Technology', 'Fashion & Retail', 'Healthcare', 'Media & Entertainment', 'Manufacturing', 'Technology', 'Food & Beverage', 'Food & Beverage', 'Food & Beverage', 'Technology', 'Real Estate', 'Technology', 'Food & Beverage', 'Technology', 'Real Estate', 'Service', 'Fashion & Retail', 'Metals & Mining', 'Manufacturing', 'Fashion & Retail', 'Finance & Investments', 'Energy', 'Fashion & Retail', 'Diversified', 'Metals & Mining', 'Healthcare', 'Diversified', 'Fashion & Retail', 'Technology', 'Automotive', 'Fashion & Retail', 'Fashion & Retail', 'Technology', 'Technology', 'Technology', 'Media & Entertainment', 'Manufacturing', 'Service', 'Technology', 'Finance & Investments', 'Technology', 'Telecom', 'Technology', 'Real Estate', 'Healthcare', 'Technology', 'Manufacturing', 'Food & Beverage', 'Finance & Investments', 'Healthcare', 'Manufacturing', 'Real Estate', 'Energy', 'Diversified', 'Technology', 'Finance & Investments']\n"
     ]
    }
   ],
   "source": [
    "industry_tag=driver.find_elements_by_xpath('//div[@class=\"category\"]/div')\n",
    "industry=[]\n",
    "for i in industry_tag:\n",
    "    industry.append(i.text)\n",
    "print(len(industry))\n",
    "print(industry)"
   ]
  },
  {
   "cell_type": "code",
   "execution_count": null,
   "metadata": {},
   "outputs": [],
   "source": []
  },
  {
   "cell_type": "code",
   "execution_count": 291,
   "metadata": {},
   "outputs": [
    {
     "data": {
      "text/html": [
       "<div>\n",
       "<style scoped>\n",
       "    .dataframe tbody tr th:only-of-type {\n",
       "        vertical-align: middle;\n",
       "    }\n",
       "\n",
       "    .dataframe tbody tr th {\n",
       "        vertical-align: top;\n",
       "    }\n",
       "\n",
       "    .dataframe thead th {\n",
       "        text-align: right;\n",
       "    }\n",
       "</style>\n",
       "<table border=\"1\" class=\"dataframe\">\n",
       "  <thead>\n",
       "    <tr style=\"text-align: right;\">\n",
       "      <th></th>\n",
       "      <th>Name</th>\n",
       "      <th>Net Worth</th>\n",
       "      <th>Country</th>\n",
       "      <th>Source</th>\n",
       "      <th>Industry</th>\n",
       "    </tr>\n",
       "  </thead>\n",
       "  <tbody>\n",
       "    <tr>\n",
       "      <th>0</th>\n",
       "      <td>Jeff Bezos</td>\n",
       "      <td>$177 B</td>\n",
       "      <td>United States</td>\n",
       "      <td>Amazon</td>\n",
       "      <td>Technology</td>\n",
       "    </tr>\n",
       "    <tr>\n",
       "      <th>1</th>\n",
       "      <td>Elon Musk</td>\n",
       "      <td>$151 B</td>\n",
       "      <td>United States</td>\n",
       "      <td>Tesla, SpaceX</td>\n",
       "      <td>Automotive</td>\n",
       "    </tr>\n",
       "    <tr>\n",
       "      <th>2</th>\n",
       "      <td>Bernard Arnault &amp; family</td>\n",
       "      <td>$150 B</td>\n",
       "      <td>France</td>\n",
       "      <td>LVMH</td>\n",
       "      <td>Fashion &amp; Retail</td>\n",
       "    </tr>\n",
       "    <tr>\n",
       "      <th>3</th>\n",
       "      <td>Bill Gates</td>\n",
       "      <td>$124 B</td>\n",
       "      <td>United States</td>\n",
       "      <td>Microsoft</td>\n",
       "      <td>Technology</td>\n",
       "    </tr>\n",
       "    <tr>\n",
       "      <th>4</th>\n",
       "      <td>Mark Zuckerberg</td>\n",
       "      <td>$97 B</td>\n",
       "      <td>United States</td>\n",
       "      <td>Facebook</td>\n",
       "      <td>Technology</td>\n",
       "    </tr>\n",
       "    <tr>\n",
       "      <th>...</th>\n",
       "      <td>...</td>\n",
       "      <td>...</td>\n",
       "      <td>...</td>\n",
       "      <td>...</td>\n",
       "      <td>...</td>\n",
       "    </tr>\n",
       "    <tr>\n",
       "      <th>195</th>\n",
       "      <td>Harry Triguboff</td>\n",
       "      <td>$11.2 B</td>\n",
       "      <td>Australia</td>\n",
       "      <td>real estate</td>\n",
       "      <td>Real Estate</td>\n",
       "    </tr>\n",
       "    <tr>\n",
       "      <th>196</th>\n",
       "      <td>Leonid Fedun &amp; family</td>\n",
       "      <td>$11.1 B</td>\n",
       "      <td>Russia</td>\n",
       "      <td>oil</td>\n",
       "      <td>Energy</td>\n",
       "    </tr>\n",
       "    <tr>\n",
       "      <th>197</th>\n",
       "      <td>Eyal Ofer</td>\n",
       "      <td>$11.1 B</td>\n",
       "      <td>Israel</td>\n",
       "      <td>real estate, shipping</td>\n",
       "      <td>Diversified</td>\n",
       "    </tr>\n",
       "    <tr>\n",
       "      <th>198</th>\n",
       "      <td>Evan Spiegel</td>\n",
       "      <td>$11.1 B</td>\n",
       "      <td>United States</td>\n",
       "      <td>Snapchat</td>\n",
       "      <td>Technology</td>\n",
       "    </tr>\n",
       "    <tr>\n",
       "      <th>199</th>\n",
       "      <td>Luis Carlos Sarmiento</td>\n",
       "      <td>$11 B</td>\n",
       "      <td>Colombia</td>\n",
       "      <td>banking</td>\n",
       "      <td>Finance &amp; Investments</td>\n",
       "    </tr>\n",
       "  </tbody>\n",
       "</table>\n",
       "<p>200 rows × 5 columns</p>\n",
       "</div>"
      ],
      "text/plain": [
       "                         Name Net Worth        Country                 Source  \\\n",
       "0                  Jeff Bezos    $177 B  United States                 Amazon   \n",
       "1                   Elon Musk    $151 B  United States          Tesla, SpaceX   \n",
       "2    Bernard Arnault & family    $150 B         France                   LVMH   \n",
       "3                  Bill Gates    $124 B  United States              Microsoft   \n",
       "4             Mark Zuckerberg     $97 B  United States               Facebook   \n",
       "..                        ...       ...            ...                    ...   \n",
       "195           Harry Triguboff   $11.2 B      Australia            real estate   \n",
       "196     Leonid Fedun & family   $11.1 B         Russia                    oil   \n",
       "197                 Eyal Ofer   $11.1 B         Israel  real estate, shipping   \n",
       "198              Evan Spiegel   $11.1 B  United States               Snapchat   \n",
       "199     Luis Carlos Sarmiento     $11 B       Colombia                banking   \n",
       "\n",
       "                  Industry  \n",
       "0               Technology  \n",
       "1               Automotive  \n",
       "2         Fashion & Retail  \n",
       "3               Technology  \n",
       "4               Technology  \n",
       "..                     ...  \n",
       "195            Real Estate  \n",
       "196                 Energy  \n",
       "197            Diversified  \n",
       "198             Technology  \n",
       "199  Finance & Investments  \n",
       "\n",
       "[200 rows x 5 columns]"
      ]
     },
     "execution_count": 291,
     "metadata": {},
     "output_type": "execute_result"
    }
   ],
   "source": [
    "df=pd.DataFrame({})\n",
    "df['Name']=name\n",
    "df['Net Worth']=networth\n",
    "df['Country']=country\n",
    "df['Source']=source\n",
    "df['Industry']=industry\n",
    "df"
   ]
  },
  {
   "cell_type": "markdown",
   "metadata": {},
   "source": [
    "# Answer 9. Write a program to extract at least 500 Comments, Comment upvote and time when comment was posted from any YouTube Video."
   ]
  },
  {
   "cell_type": "code",
   "execution_count": 299,
   "metadata": {},
   "outputs": [],
   "source": [
    "driver= webdriver.Chrome('chromedriver.exe')\n",
    "url='https://www.youtube.com/watch?v=4-079YIasck'\n",
    "driver.get(url)"
   ]
  },
  {
   "cell_type": "code",
   "execution_count": 309,
   "metadata": {},
   "outputs": [
    {
     "data": {
      "text/plain": [
       "[<selenium.webdriver.remote.webelement.WebElement (session=\"d53a5447fac50926cd2b33854ed524d9\", element=\"d4b97fcd-c495-4246-8027-802a93619229\")>,\n",
       " <selenium.webdriver.remote.webelement.WebElement (session=\"d53a5447fac50926cd2b33854ed524d9\", element=\"faf5b82a-116c-4e92-94fe-fec14cd6b5bb\")>,\n",
       " <selenium.webdriver.remote.webelement.WebElement (session=\"d53a5447fac50926cd2b33854ed524d9\", element=\"0c26e944-86cd-4d64-bb9a-2d2c8ce45a4d\")>,\n",
       " <selenium.webdriver.remote.webelement.WebElement (session=\"d53a5447fac50926cd2b33854ed524d9\", element=\"069dfb53-4c04-4df4-a0d3-d2fcb5b7260b\")>,\n",
       " <selenium.webdriver.remote.webelement.WebElement (session=\"d53a5447fac50926cd2b33854ed524d9\", element=\"c0cdfdca-f48a-4a9e-9a9c-bd3537cc4379\")>,\n",
       " <selenium.webdriver.remote.webelement.WebElement (session=\"d53a5447fac50926cd2b33854ed524d9\", element=\"527e3184-a5b9-405a-8c7f-05bfde8b9082\")>,\n",
       " <selenium.webdriver.remote.webelement.WebElement (session=\"d53a5447fac50926cd2b33854ed524d9\", element=\"5573fb11-53ec-4e4b-a895-651289c16ef2\")>,\n",
       " <selenium.webdriver.remote.webelement.WebElement (session=\"d53a5447fac50926cd2b33854ed524d9\", element=\"2ffd0421-c94c-44fa-8bd9-777fb4624705\")>,\n",
       " <selenium.webdriver.remote.webelement.WebElement (session=\"d53a5447fac50926cd2b33854ed524d9\", element=\"9053c8ed-4df4-49ad-88fd-3974fa3e224a\")>,\n",
       " <selenium.webdriver.remote.webelement.WebElement (session=\"d53a5447fac50926cd2b33854ed524d9\", element=\"056743bd-c5f3-4da3-bf39-ea252d2b45d2\")>,\n",
       " <selenium.webdriver.remote.webelement.WebElement (session=\"d53a5447fac50926cd2b33854ed524d9\", element=\"8f00ed02-3e54-47c5-9d7c-57c6376ff1f3\")>,\n",
       " <selenium.webdriver.remote.webelement.WebElement (session=\"d53a5447fac50926cd2b33854ed524d9\", element=\"953ca097-dc7a-47fa-a40e-ff27921b15eb\")>,\n",
       " <selenium.webdriver.remote.webelement.WebElement (session=\"d53a5447fac50926cd2b33854ed524d9\", element=\"40e3a7bc-25f1-445c-b777-88b3ccf52a73\")>,\n",
       " <selenium.webdriver.remote.webelement.WebElement (session=\"d53a5447fac50926cd2b33854ed524d9\", element=\"ecc20dfd-70a1-496e-a169-6ddf0209cda6\")>,\n",
       " <selenium.webdriver.remote.webelement.WebElement (session=\"d53a5447fac50926cd2b33854ed524d9\", element=\"4e009405-531b-4f23-9596-21271afdab05\")>,\n",
       " <selenium.webdriver.remote.webelement.WebElement (session=\"d53a5447fac50926cd2b33854ed524d9\", element=\"d8369ad1-65be-43d3-904c-043f63e1ed90\")>,\n",
       " <selenium.webdriver.remote.webelement.WebElement (session=\"d53a5447fac50926cd2b33854ed524d9\", element=\"1af2e7ec-0281-48d3-80cc-c3d804a4542b\")>,\n",
       " <selenium.webdriver.remote.webelement.WebElement (session=\"d53a5447fac50926cd2b33854ed524d9\", element=\"76fd7416-f6d4-44a5-991f-5a4ec8c6421c\")>,\n",
       " <selenium.webdriver.remote.webelement.WebElement (session=\"d53a5447fac50926cd2b33854ed524d9\", element=\"d7697632-bb8c-4784-8337-b0f3326c4560\")>,\n",
       " <selenium.webdriver.remote.webelement.WebElement (session=\"d53a5447fac50926cd2b33854ed524d9\", element=\"34c15cab-4e9f-4250-8aef-581571a0b626\")>,\n",
       " <selenium.webdriver.remote.webelement.WebElement (session=\"d53a5447fac50926cd2b33854ed524d9\", element=\"f2302327-787c-4443-8512-a78b563cafa4\")>,\n",
       " <selenium.webdriver.remote.webelement.WebElement (session=\"d53a5447fac50926cd2b33854ed524d9\", element=\"dee52782-cb3b-4b41-88a0-feccd30e62f7\")>,\n",
       " <selenium.webdriver.remote.webelement.WebElement (session=\"d53a5447fac50926cd2b33854ed524d9\", element=\"aaea3fc6-a3f5-4749-a67c-3857b8f2f1e3\")>,\n",
       " <selenium.webdriver.remote.webelement.WebElement (session=\"d53a5447fac50926cd2b33854ed524d9\", element=\"3892fc90-51c6-401a-86e7-3e652fd2fe84\")>,\n",
       " <selenium.webdriver.remote.webelement.WebElement (session=\"d53a5447fac50926cd2b33854ed524d9\", element=\"3241856e-8a21-4672-8e0e-54f8424d02de\")>,\n",
       " <selenium.webdriver.remote.webelement.WebElement (session=\"d53a5447fac50926cd2b33854ed524d9\", element=\"ddd90fdf-d8b7-401f-8b49-ce61115e1b63\")>,\n",
       " <selenium.webdriver.remote.webelement.WebElement (session=\"d53a5447fac50926cd2b33854ed524d9\", element=\"a18637aa-bde5-47ba-9b0e-f7a497306959\")>,\n",
       " <selenium.webdriver.remote.webelement.WebElement (session=\"d53a5447fac50926cd2b33854ed524d9\", element=\"241c02d4-6875-4779-992d-3cf1b4512d42\")>,\n",
       " <selenium.webdriver.remote.webelement.WebElement (session=\"d53a5447fac50926cd2b33854ed524d9\", element=\"fbc0ced8-018a-4f3e-8680-9cdeb8e59b2e\")>,\n",
       " <selenium.webdriver.remote.webelement.WebElement (session=\"d53a5447fac50926cd2b33854ed524d9\", element=\"1762e362-89d3-4c61-9cb3-f38eeef9a23a\")>,\n",
       " <selenium.webdriver.remote.webelement.WebElement (session=\"d53a5447fac50926cd2b33854ed524d9\", element=\"e0a61157-3b6a-40c8-b6c8-2c0a829c44a9\")>,\n",
       " <selenium.webdriver.remote.webelement.WebElement (session=\"d53a5447fac50926cd2b33854ed524d9\", element=\"ae3ee5d9-c39f-4390-9a93-ab9faf72c09e\")>,\n",
       " <selenium.webdriver.remote.webelement.WebElement (session=\"d53a5447fac50926cd2b33854ed524d9\", element=\"78be2b73-ea80-4615-97ca-774104ffbf1b\")>,\n",
       " <selenium.webdriver.remote.webelement.WebElement (session=\"d53a5447fac50926cd2b33854ed524d9\", element=\"8b3a91cd-3d0b-4444-9f2a-ebdd46a30a5e\")>,\n",
       " <selenium.webdriver.remote.webelement.WebElement (session=\"d53a5447fac50926cd2b33854ed524d9\", element=\"eaad1c7f-e034-41b1-9192-22b2b86fbc00\")>,\n",
       " <selenium.webdriver.remote.webelement.WebElement (session=\"d53a5447fac50926cd2b33854ed524d9\", element=\"a5fd4146-0134-466e-baa1-a5228bd78b2f\")>,\n",
       " <selenium.webdriver.remote.webelement.WebElement (session=\"d53a5447fac50926cd2b33854ed524d9\", element=\"de8f3df5-4563-4398-9a16-dd18ca3a79b0\")>,\n",
       " <selenium.webdriver.remote.webelement.WebElement (session=\"d53a5447fac50926cd2b33854ed524d9\", element=\"2a6fa585-8ee7-4860-852e-1207a2f55629\")>,\n",
       " <selenium.webdriver.remote.webelement.WebElement (session=\"d53a5447fac50926cd2b33854ed524d9\", element=\"df074537-fc41-4b7b-9cce-9da66d14b32b\")>,\n",
       " <selenium.webdriver.remote.webelement.WebElement (session=\"d53a5447fac50926cd2b33854ed524d9\", element=\"8bb63e47-e3bf-40f5-9a06-0509f186b52f\")>,\n",
       " <selenium.webdriver.remote.webelement.WebElement (session=\"d53a5447fac50926cd2b33854ed524d9\", element=\"62569eb9-dea7-40a5-937f-c12e836812dc\")>,\n",
       " <selenium.webdriver.remote.webelement.WebElement (session=\"d53a5447fac50926cd2b33854ed524d9\", element=\"c86654d6-f5f5-4dad-8edc-16087e06b4a0\")>,\n",
       " <selenium.webdriver.remote.webelement.WebElement (session=\"d53a5447fac50926cd2b33854ed524d9\", element=\"bb0dac66-6a57-4c2b-8195-672868f5cd5a\")>,\n",
       " <selenium.webdriver.remote.webelement.WebElement (session=\"d53a5447fac50926cd2b33854ed524d9\", element=\"fab47500-7750-4900-99fb-00b6ae3cf142\")>,\n",
       " <selenium.webdriver.remote.webelement.WebElement (session=\"d53a5447fac50926cd2b33854ed524d9\", element=\"884e60e7-0056-4101-9a6f-2696d7d13807\")>,\n",
       " <selenium.webdriver.remote.webelement.WebElement (session=\"d53a5447fac50926cd2b33854ed524d9\", element=\"f7ef80eb-c10e-47d4-a4ec-f1a535e4180f\")>,\n",
       " <selenium.webdriver.remote.webelement.WebElement (session=\"d53a5447fac50926cd2b33854ed524d9\", element=\"1bfcc98e-941c-42e7-9528-679ce2421624\")>,\n",
       " <selenium.webdriver.remote.webelement.WebElement (session=\"d53a5447fac50926cd2b33854ed524d9\", element=\"89cca0b0-bba3-4206-b961-954ecc493505\")>,\n",
       " <selenium.webdriver.remote.webelement.WebElement (session=\"d53a5447fac50926cd2b33854ed524d9\", element=\"495ec892-fe57-46c6-a019-8304ef3ebae0\")>,\n",
       " <selenium.webdriver.remote.webelement.WebElement (session=\"d53a5447fac50926cd2b33854ed524d9\", element=\"4b8da89a-50fd-4e76-88a2-dc7571e01654\")>,\n",
       " <selenium.webdriver.remote.webelement.WebElement (session=\"d53a5447fac50926cd2b33854ed524d9\", element=\"a7487635-bed0-4ff4-b29e-265cc6cf5275\")>,\n",
       " <selenium.webdriver.remote.webelement.WebElement (session=\"d53a5447fac50926cd2b33854ed524d9\", element=\"3e2c7025-97e8-43f4-a908-9ca2e3aebeb7\")>,\n",
       " <selenium.webdriver.remote.webelement.WebElement (session=\"d53a5447fac50926cd2b33854ed524d9\", element=\"08e8b7a1-0066-4022-b656-27626eb5e802\")>,\n",
       " <selenium.webdriver.remote.webelement.WebElement (session=\"d53a5447fac50926cd2b33854ed524d9\", element=\"be2a40d2-bccd-4b3c-bc3f-3216443ad118\")>,\n",
       " <selenium.webdriver.remote.webelement.WebElement (session=\"d53a5447fac50926cd2b33854ed524d9\", element=\"122b18ed-09f0-48f5-bf82-abac51936a0a\")>,\n",
       " <selenium.webdriver.remote.webelement.WebElement (session=\"d53a5447fac50926cd2b33854ed524d9\", element=\"e85c855a-955c-4bfb-98cf-091dada3f65d\")>,\n",
       " <selenium.webdriver.remote.webelement.WebElement (session=\"d53a5447fac50926cd2b33854ed524d9\", element=\"63ec424c-9f98-454d-91f7-e03b4b6c5983\")>,\n",
       " <selenium.webdriver.remote.webelement.WebElement (session=\"d53a5447fac50926cd2b33854ed524d9\", element=\"82030934-cb5f-43c8-b164-60c21e1cb2fd\")>,\n",
       " <selenium.webdriver.remote.webelement.WebElement (session=\"d53a5447fac50926cd2b33854ed524d9\", element=\"d975dd24-056f-42c3-bfe9-335e8a54b7de\")>,\n",
       " <selenium.webdriver.remote.webelement.WebElement (session=\"d53a5447fac50926cd2b33854ed524d9\", element=\"6fb3e978-7d6e-4fc8-a60c-3f6382c9edc4\")>,\n",
       " <selenium.webdriver.remote.webelement.WebElement (session=\"d53a5447fac50926cd2b33854ed524d9\", element=\"268df329-117b-4204-9fa0-596c0b45f47d\")>,\n",
       " <selenium.webdriver.remote.webelement.WebElement (session=\"d53a5447fac50926cd2b33854ed524d9\", element=\"afa5c4a0-16e5-4d94-b4a9-22434181747b\")>,\n",
       " <selenium.webdriver.remote.webelement.WebElement (session=\"d53a5447fac50926cd2b33854ed524d9\", element=\"18381b17-2005-4b7c-9514-12e02c528e8c\")>,\n",
       " <selenium.webdriver.remote.webelement.WebElement (session=\"d53a5447fac50926cd2b33854ed524d9\", element=\"b02f4f8b-8eb7-41f9-be35-f1ca2590132d\")>,\n",
       " <selenium.webdriver.remote.webelement.WebElement (session=\"d53a5447fac50926cd2b33854ed524d9\", element=\"a04e690f-9c92-4b5c-a656-b15a3a0514b2\")>,\n",
       " <selenium.webdriver.remote.webelement.WebElement (session=\"d53a5447fac50926cd2b33854ed524d9\", element=\"6360a5fa-aed2-4314-8b3b-6acb59275666\")>,\n",
       " <selenium.webdriver.remote.webelement.WebElement (session=\"d53a5447fac50926cd2b33854ed524d9\", element=\"027efcfa-8897-4bbb-b63d-c5b1c0a8ab69\")>,\n",
       " <selenium.webdriver.remote.webelement.WebElement (session=\"d53a5447fac50926cd2b33854ed524d9\", element=\"7bf947c1-db44-477f-99de-b2f8f8a56cf9\")>,\n",
       " <selenium.webdriver.remote.webelement.WebElement (session=\"d53a5447fac50926cd2b33854ed524d9\", element=\"96345db0-744a-4460-b8d2-1cb9f6cc2c81\")>,\n",
       " <selenium.webdriver.remote.webelement.WebElement (session=\"d53a5447fac50926cd2b33854ed524d9\", element=\"cd877ccb-5e59-4bc0-ac28-74ca601a028a\")>,\n",
       " <selenium.webdriver.remote.webelement.WebElement (session=\"d53a5447fac50926cd2b33854ed524d9\", element=\"87afe1c8-0d35-40a8-9bdf-7592707bee68\")>,\n",
       " <selenium.webdriver.remote.webelement.WebElement (session=\"d53a5447fac50926cd2b33854ed524d9\", element=\"e0f7f62b-f1e4-407d-9275-f35565bfde41\")>,\n",
       " <selenium.webdriver.remote.webelement.WebElement (session=\"d53a5447fac50926cd2b33854ed524d9\", element=\"80c8e733-f5f6-458e-8677-a23672cda3fc\")>,\n",
       " <selenium.webdriver.remote.webelement.WebElement (session=\"d53a5447fac50926cd2b33854ed524d9\", element=\"ab4e509a-9e15-42da-af16-d992e16c60bf\")>,\n",
       " <selenium.webdriver.remote.webelement.WebElement (session=\"d53a5447fac50926cd2b33854ed524d9\", element=\"fb49e558-8f98-4a49-a74f-edcef77a8498\")>,\n",
       " <selenium.webdriver.remote.webelement.WebElement (session=\"d53a5447fac50926cd2b33854ed524d9\", element=\"94cd412d-cbbf-4888-98cf-b4e0af672354\")>,\n",
       " <selenium.webdriver.remote.webelement.WebElement (session=\"d53a5447fac50926cd2b33854ed524d9\", element=\"bc6fc4e2-91bf-4614-b2f3-dada5203cc90\")>,\n",
       " <selenium.webdriver.remote.webelement.WebElement (session=\"d53a5447fac50926cd2b33854ed524d9\", element=\"3d691d4f-9558-466d-8ce5-6511c3cff390\")>,\n",
       " <selenium.webdriver.remote.webelement.WebElement (session=\"d53a5447fac50926cd2b33854ed524d9\", element=\"cd19138b-3983-420d-9f7b-0a51f6ab7cda\")>,\n",
       " <selenium.webdriver.remote.webelement.WebElement (session=\"d53a5447fac50926cd2b33854ed524d9\", element=\"26c6d9be-b9a1-45ff-8146-dec12da79b0b\")>,\n",
       " <selenium.webdriver.remote.webelement.WebElement (session=\"d53a5447fac50926cd2b33854ed524d9\", element=\"12008ea6-6ab2-4c41-982b-cef720bf81cd\")>,\n",
       " <selenium.webdriver.remote.webelement.WebElement (session=\"d53a5447fac50926cd2b33854ed524d9\", element=\"86093178-2ad0-4da2-965d-16dba69b35f5\")>,\n",
       " <selenium.webdriver.remote.webelement.WebElement (session=\"d53a5447fac50926cd2b33854ed524d9\", element=\"6e95f7a1-fa6c-4ba6-b1e6-7851a59ba541\")>,\n",
       " <selenium.webdriver.remote.webelement.WebElement (session=\"d53a5447fac50926cd2b33854ed524d9\", element=\"d79e48dc-9891-40d8-93c1-aedbbfa0406b\")>,\n",
       " <selenium.webdriver.remote.webelement.WebElement (session=\"d53a5447fac50926cd2b33854ed524d9\", element=\"91169881-202a-4284-b9fc-b929476cbdef\")>,\n",
       " <selenium.webdriver.remote.webelement.WebElement (session=\"d53a5447fac50926cd2b33854ed524d9\", element=\"30f5ada9-989b-47fe-8ffc-be44e65c0ad3\")>,\n",
       " <selenium.webdriver.remote.webelement.WebElement (session=\"d53a5447fac50926cd2b33854ed524d9\", element=\"63befc64-ba22-4d5d-9bf7-ac8809afc06a\")>,\n",
       " <selenium.webdriver.remote.webelement.WebElement (session=\"d53a5447fac50926cd2b33854ed524d9\", element=\"5a921d57-c3d5-46e1-b9df-30a21e445361\")>,\n",
       " <selenium.webdriver.remote.webelement.WebElement (session=\"d53a5447fac50926cd2b33854ed524d9\", element=\"b895cd72-a0e3-4f51-8d2a-9f5813e317a0\")>,\n",
       " <selenium.webdriver.remote.webelement.WebElement (session=\"d53a5447fac50926cd2b33854ed524d9\", element=\"59ea0c29-ec2f-4725-b11f-4164c240d864\")>,\n",
       " <selenium.webdriver.remote.webelement.WebElement (session=\"d53a5447fac50926cd2b33854ed524d9\", element=\"7f86418d-81e5-4074-bd04-bb251c483bbc\")>,\n",
       " <selenium.webdriver.remote.webelement.WebElement (session=\"d53a5447fac50926cd2b33854ed524d9\", element=\"cde2f442-a9d6-4dd3-ad5a-b72133aeae58\")>,\n",
       " <selenium.webdriver.remote.webelement.WebElement (session=\"d53a5447fac50926cd2b33854ed524d9\", element=\"82c6cd07-784d-479e-9dd0-fab019c9071e\")>,\n",
       " <selenium.webdriver.remote.webelement.WebElement (session=\"d53a5447fac50926cd2b33854ed524d9\", element=\"51b4e803-22eb-4c66-b505-65dd4549fa6a\")>,\n",
       " <selenium.webdriver.remote.webelement.WebElement (session=\"d53a5447fac50926cd2b33854ed524d9\", element=\"59cb38f1-c430-4322-97cf-ee7e139e7348\")>,\n",
       " <selenium.webdriver.remote.webelement.WebElement (session=\"d53a5447fac50926cd2b33854ed524d9\", element=\"8a06db06-e939-4fd2-95ae-2ca9449be686\")>,\n",
       " <selenium.webdriver.remote.webelement.WebElement (session=\"d53a5447fac50926cd2b33854ed524d9\", element=\"0255e47f-5fde-4918-b916-6d5fb90fdb4c\")>,\n",
       " <selenium.webdriver.remote.webelement.WebElement (session=\"d53a5447fac50926cd2b33854ed524d9\", element=\"452f512b-5abb-484f-a014-4cc5a74c17c3\")>,\n",
       " <selenium.webdriver.remote.webelement.WebElement (session=\"d53a5447fac50926cd2b33854ed524d9\", element=\"8db7ec03-548f-4c03-b508-40edf5e7f5fc\")>,\n",
       " <selenium.webdriver.remote.webelement.WebElement (session=\"d53a5447fac50926cd2b33854ed524d9\", element=\"2d198935-741b-447c-84ff-a7f99c771273\")>,\n",
       " <selenium.webdriver.remote.webelement.WebElement (session=\"d53a5447fac50926cd2b33854ed524d9\", element=\"f3e951da-8eff-44d0-b896-30025a66fc8c\")>,\n",
       " <selenium.webdriver.remote.webelement.WebElement (session=\"d53a5447fac50926cd2b33854ed524d9\", element=\"4465e1f6-e809-4ff6-8dc6-07ec919b9108\")>,\n",
       " <selenium.webdriver.remote.webelement.WebElement (session=\"d53a5447fac50926cd2b33854ed524d9\", element=\"543fe8ad-6e88-4516-bdd2-a5d09b1bb784\")>,\n",
       " <selenium.webdriver.remote.webelement.WebElement (session=\"d53a5447fac50926cd2b33854ed524d9\", element=\"64678d49-039c-4afb-bf04-50b14cd44155\")>,\n",
       " <selenium.webdriver.remote.webelement.WebElement (session=\"d53a5447fac50926cd2b33854ed524d9\", element=\"b5dfb539-b75e-433b-9b48-f2abdb7ad864\")>,\n",
       " <selenium.webdriver.remote.webelement.WebElement (session=\"d53a5447fac50926cd2b33854ed524d9\", element=\"8028037a-ec34-4b48-9468-d364dde70045\")>,\n",
       " <selenium.webdriver.remote.webelement.WebElement (session=\"d53a5447fac50926cd2b33854ed524d9\", element=\"25bbd917-52f0-41c8-8d3c-e5b3f2abd533\")>,\n",
       " <selenium.webdriver.remote.webelement.WebElement (session=\"d53a5447fac50926cd2b33854ed524d9\", element=\"a3edf9d3-0d09-447e-b650-e0e8cc7cadc1\")>,\n",
       " <selenium.webdriver.remote.webelement.WebElement (session=\"d53a5447fac50926cd2b33854ed524d9\", element=\"50f90d4d-e551-4721-87b2-0f22e23562c6\")>,\n",
       " <selenium.webdriver.remote.webelement.WebElement (session=\"d53a5447fac50926cd2b33854ed524d9\", element=\"1875f76c-73c9-411d-878b-b8495c1fe1ef\")>,\n",
       " <selenium.webdriver.remote.webelement.WebElement (session=\"d53a5447fac50926cd2b33854ed524d9\", element=\"903c5595-46ea-4229-9850-f19c1958c5f6\")>,\n",
       " <selenium.webdriver.remote.webelement.WebElement (session=\"d53a5447fac50926cd2b33854ed524d9\", element=\"c80322cc-fa4f-4623-aa07-6c1e92465e99\")>,\n",
       " <selenium.webdriver.remote.webelement.WebElement (session=\"d53a5447fac50926cd2b33854ed524d9\", element=\"2cfce22a-4dcf-451c-af08-27955c3ee4be\")>,\n",
       " <selenium.webdriver.remote.webelement.WebElement (session=\"d53a5447fac50926cd2b33854ed524d9\", element=\"f38d1bd0-ef2c-443e-bd2c-8ea58276a642\")>,\n",
       " <selenium.webdriver.remote.webelement.WebElement (session=\"d53a5447fac50926cd2b33854ed524d9\", element=\"b3f56cd0-f556-4cb6-a67f-2944e739984c\")>,\n",
       " <selenium.webdriver.remote.webelement.WebElement (session=\"d53a5447fac50926cd2b33854ed524d9\", element=\"41bd1ed5-0113-4d94-970d-d732f3d99394\")>,\n",
       " <selenium.webdriver.remote.webelement.WebElement (session=\"d53a5447fac50926cd2b33854ed524d9\", element=\"e838bef4-9b5e-41c9-9f72-f2be7f874dd0\")>,\n",
       " <selenium.webdriver.remote.webelement.WebElement (session=\"d53a5447fac50926cd2b33854ed524d9\", element=\"ea7eae1d-99ca-4e0f-a51b-fc97af413fd2\")>,\n",
       " <selenium.webdriver.remote.webelement.WebElement (session=\"d53a5447fac50926cd2b33854ed524d9\", element=\"bf3fec7c-e1e4-42c0-ac7a-869c1cbc5d12\")>,\n",
       " <selenium.webdriver.remote.webelement.WebElement (session=\"d53a5447fac50926cd2b33854ed524d9\", element=\"2897cd32-63ac-47d0-86e4-3d584f1ae9ea\")>,\n",
       " <selenium.webdriver.remote.webelement.WebElement (session=\"d53a5447fac50926cd2b33854ed524d9\", element=\"69f7c318-93b0-42bf-9bf2-16e1395a375f\")>,\n",
       " <selenium.webdriver.remote.webelement.WebElement (session=\"d53a5447fac50926cd2b33854ed524d9\", element=\"7555a122-b1a1-4bb1-84da-1e050b231205\")>,\n",
       " <selenium.webdriver.remote.webelement.WebElement (session=\"d53a5447fac50926cd2b33854ed524d9\", element=\"f6b5539e-a222-4db5-a3a7-34adb5bc8f2b\")>,\n",
       " <selenium.webdriver.remote.webelement.WebElement (session=\"d53a5447fac50926cd2b33854ed524d9\", element=\"f5145131-fe94-48c4-907e-1bf9d7fbfe5d\")>,\n",
       " <selenium.webdriver.remote.webelement.WebElement (session=\"d53a5447fac50926cd2b33854ed524d9\", element=\"f64be5e2-de71-4d73-955c-05549b4b7022\")>,\n",
       " <selenium.webdriver.remote.webelement.WebElement (session=\"d53a5447fac50926cd2b33854ed524d9\", element=\"4334131b-f694-4d0a-9d44-8bbdf60494d3\")>,\n",
       " <selenium.webdriver.remote.webelement.WebElement (session=\"d53a5447fac50926cd2b33854ed524d9\", element=\"cb92211e-3b68-4920-90df-817dcc767046\")>,\n",
       " <selenium.webdriver.remote.webelement.WebElement (session=\"d53a5447fac50926cd2b33854ed524d9\", element=\"6e346324-5c4c-4c46-ae74-e507caf34a08\")>,\n",
       " <selenium.webdriver.remote.webelement.WebElement (session=\"d53a5447fac50926cd2b33854ed524d9\", element=\"b76f2fbd-defb-4951-b41c-9150a696f682\")>,\n",
       " <selenium.webdriver.remote.webelement.WebElement (session=\"d53a5447fac50926cd2b33854ed524d9\", element=\"3291d244-e5e5-4039-9034-2be6441ba03b\")>,\n",
       " <selenium.webdriver.remote.webelement.WebElement (session=\"d53a5447fac50926cd2b33854ed524d9\", element=\"513b1312-dada-491d-8bfd-4a0781a55063\")>,\n",
       " <selenium.webdriver.remote.webelement.WebElement (session=\"d53a5447fac50926cd2b33854ed524d9\", element=\"e3bd3c7a-30d8-4158-b1f8-72ca9bb372db\")>,\n",
       " <selenium.webdriver.remote.webelement.WebElement (session=\"d53a5447fac50926cd2b33854ed524d9\", element=\"cf0c8824-733b-4add-b065-54506c63d90e\")>,\n",
       " <selenium.webdriver.remote.webelement.WebElement (session=\"d53a5447fac50926cd2b33854ed524d9\", element=\"6d238881-224c-4dc2-93a6-687e16c3456a\")>,\n",
       " <selenium.webdriver.remote.webelement.WebElement (session=\"d53a5447fac50926cd2b33854ed524d9\", element=\"114e125b-c1bd-44e9-9316-bdc9da7bb9a2\")>,\n",
       " <selenium.webdriver.remote.webelement.WebElement (session=\"d53a5447fac50926cd2b33854ed524d9\", element=\"e015ecf0-4ffc-418e-b5a6-f992448eb71f\")>,\n",
       " <selenium.webdriver.remote.webelement.WebElement (session=\"d53a5447fac50926cd2b33854ed524d9\", element=\"1bff4176-def6-4dca-84a4-942ff364d4dd\")>,\n",
       " <selenium.webdriver.remote.webelement.WebElement (session=\"d53a5447fac50926cd2b33854ed524d9\", element=\"86a68934-359e-49e3-b062-0dc9d02c7e30\")>,\n",
       " <selenium.webdriver.remote.webelement.WebElement (session=\"d53a5447fac50926cd2b33854ed524d9\", element=\"4944ae0d-fc08-44d1-b8e0-0a3ab6aa92ce\")>,\n",
       " <selenium.webdriver.remote.webelement.WebElement (session=\"d53a5447fac50926cd2b33854ed524d9\", element=\"230be4eb-658c-4f11-a6cd-55bef2f037bb\")>,\n",
       " <selenium.webdriver.remote.webelement.WebElement (session=\"d53a5447fac50926cd2b33854ed524d9\", element=\"824195c7-7c9e-49be-99d7-c11801fb33e2\")>,\n",
       " <selenium.webdriver.remote.webelement.WebElement (session=\"d53a5447fac50926cd2b33854ed524d9\", element=\"4176df97-75d6-46fc-8be7-3213a24a0db3\")>,\n",
       " <selenium.webdriver.remote.webelement.WebElement (session=\"d53a5447fac50926cd2b33854ed524d9\", element=\"6d523db3-98d0-4388-a88f-12e969b0746a\")>,\n",
       " <selenium.webdriver.remote.webelement.WebElement (session=\"d53a5447fac50926cd2b33854ed524d9\", element=\"da8486df-6c62-45a5-8a62-84d72d93bb1d\")>,\n",
       " <selenium.webdriver.remote.webelement.WebElement (session=\"d53a5447fac50926cd2b33854ed524d9\", element=\"e19b5ad7-bfa4-4747-bbce-ff87b42d1b0a\")>,\n",
       " <selenium.webdriver.remote.webelement.WebElement (session=\"d53a5447fac50926cd2b33854ed524d9\", element=\"04cb9fb5-aacd-44af-807b-3f182b69fce6\")>,\n",
       " <selenium.webdriver.remote.webelement.WebElement (session=\"d53a5447fac50926cd2b33854ed524d9\", element=\"462fb45c-bb2a-4fd8-9330-b124fd8742c7\")>,\n",
       " <selenium.webdriver.remote.webelement.WebElement (session=\"d53a5447fac50926cd2b33854ed524d9\", element=\"17ea241b-e98c-4656-b45d-70fb1cc755fc\")>,\n",
       " <selenium.webdriver.remote.webelement.WebElement (session=\"d53a5447fac50926cd2b33854ed524d9\", element=\"c08d2053-c311-47c4-81e0-41c7b0939002\")>,\n",
       " <selenium.webdriver.remote.webelement.WebElement (session=\"d53a5447fac50926cd2b33854ed524d9\", element=\"564d3f97-ab95-4497-a3e5-0346fb16809f\")>,\n",
       " <selenium.webdriver.remote.webelement.WebElement (session=\"d53a5447fac50926cd2b33854ed524d9\", element=\"1a088db5-94bd-4fc1-8192-593a44e510ad\")>,\n",
       " <selenium.webdriver.remote.webelement.WebElement (session=\"d53a5447fac50926cd2b33854ed524d9\", element=\"da177275-7035-4364-b9a6-e964195daeff\")>,\n",
       " <selenium.webdriver.remote.webelement.WebElement (session=\"d53a5447fac50926cd2b33854ed524d9\", element=\"e04dfae1-576a-4067-95e9-5a35b7350953\")>,\n",
       " <selenium.webdriver.remote.webelement.WebElement (session=\"d53a5447fac50926cd2b33854ed524d9\", element=\"35b5402c-f91b-4f9c-ab76-d041f28c9ad8\")>,\n",
       " <selenium.webdriver.remote.webelement.WebElement (session=\"d53a5447fac50926cd2b33854ed524d9\", element=\"3192fa29-e219-4b2c-87bd-6c4795b8fc23\")>,\n",
       " <selenium.webdriver.remote.webelement.WebElement (session=\"d53a5447fac50926cd2b33854ed524d9\", element=\"86319136-58f6-48e3-821d-e58c8f305d8f\")>,\n",
       " <selenium.webdriver.remote.webelement.WebElement (session=\"d53a5447fac50926cd2b33854ed524d9\", element=\"e7cd14d7-7b57-4a7e-bfc9-1e49be700b7d\")>,\n",
       " <selenium.webdriver.remote.webelement.WebElement (session=\"d53a5447fac50926cd2b33854ed524d9\", element=\"ba9cdedb-dc5b-46ed-be09-ee695e802e03\")>,\n",
       " <selenium.webdriver.remote.webelement.WebElement (session=\"d53a5447fac50926cd2b33854ed524d9\", element=\"d151d9c6-ad01-4e46-b426-b98f82f23c3b\")>,\n",
       " <selenium.webdriver.remote.webelement.WebElement (session=\"d53a5447fac50926cd2b33854ed524d9\", element=\"b2040f4f-9b45-4a47-b178-ced94f13a2be\")>,\n",
       " <selenium.webdriver.remote.webelement.WebElement (session=\"d53a5447fac50926cd2b33854ed524d9\", element=\"f3471049-73c5-41e3-828b-fcd50a815eef\")>,\n",
       " <selenium.webdriver.remote.webelement.WebElement (session=\"d53a5447fac50926cd2b33854ed524d9\", element=\"51eab8c9-1479-4f32-8a66-26361bd30dac\")>,\n",
       " <selenium.webdriver.remote.webelement.WebElement (session=\"d53a5447fac50926cd2b33854ed524d9\", element=\"231332e3-9387-4004-9497-23af1ce43b39\")>,\n",
       " <selenium.webdriver.remote.webelement.WebElement (session=\"d53a5447fac50926cd2b33854ed524d9\", element=\"1814ef0a-3c7d-4034-9df9-515864cfa6a4\")>,\n",
       " <selenium.webdriver.remote.webelement.WebElement (session=\"d53a5447fac50926cd2b33854ed524d9\", element=\"929c694f-dbbd-44dc-869a-7705bc155291\")>,\n",
       " <selenium.webdriver.remote.webelement.WebElement (session=\"d53a5447fac50926cd2b33854ed524d9\", element=\"0bb9b9db-587f-4c9d-a1f4-c492c1121f28\")>,\n",
       " <selenium.webdriver.remote.webelement.WebElement (session=\"d53a5447fac50926cd2b33854ed524d9\", element=\"00f32c3d-9f61-42d9-9293-4c31247e7461\")>,\n",
       " <selenium.webdriver.remote.webelement.WebElement (session=\"d53a5447fac50926cd2b33854ed524d9\", element=\"b97e8416-ac1b-4acc-b873-7c472ab21496\")>,\n",
       " <selenium.webdriver.remote.webelement.WebElement (session=\"d53a5447fac50926cd2b33854ed524d9\", element=\"1512f8c4-c054-4f75-8084-386c00d78bd9\")>,\n",
       " <selenium.webdriver.remote.webelement.WebElement (session=\"d53a5447fac50926cd2b33854ed524d9\", element=\"95135c51-625d-4148-ae1a-37ab54472f3f\")>,\n",
       " <selenium.webdriver.remote.webelement.WebElement (session=\"d53a5447fac50926cd2b33854ed524d9\", element=\"8657ae66-6a10-4dbe-b172-a618f5e14ab4\")>,\n",
       " <selenium.webdriver.remote.webelement.WebElement (session=\"d53a5447fac50926cd2b33854ed524d9\", element=\"857e6a43-c830-4490-ac7f-331e76664e04\")>,\n",
       " <selenium.webdriver.remote.webelement.WebElement (session=\"d53a5447fac50926cd2b33854ed524d9\", element=\"7eb66acf-cbce-463c-aa9b-dc435f0aeaa6\")>,\n",
       " <selenium.webdriver.remote.webelement.WebElement (session=\"d53a5447fac50926cd2b33854ed524d9\", element=\"9d239e53-8028-4f4b-99a4-93008ae7a008\")>,\n",
       " <selenium.webdriver.remote.webelement.WebElement (session=\"d53a5447fac50926cd2b33854ed524d9\", element=\"86ca3a6a-ab6d-44a2-ba78-273de8da4f90\")>,\n",
       " <selenium.webdriver.remote.webelement.WebElement (session=\"d53a5447fac50926cd2b33854ed524d9\", element=\"bad1486c-8da8-4ce8-a886-cb33969e96de\")>,\n",
       " <selenium.webdriver.remote.webelement.WebElement (session=\"d53a5447fac50926cd2b33854ed524d9\", element=\"a087b771-f4e4-4a04-84bd-f8115752f0bd\")>,\n",
       " <selenium.webdriver.remote.webelement.WebElement (session=\"d53a5447fac50926cd2b33854ed524d9\", element=\"257c04b9-a37c-4662-af82-5fde83847fb5\")>,\n",
       " <selenium.webdriver.remote.webelement.WebElement (session=\"d53a5447fac50926cd2b33854ed524d9\", element=\"9cf68257-b69d-4d72-bbd8-f373cbaeb984\")>,\n",
       " <selenium.webdriver.remote.webelement.WebElement (session=\"d53a5447fac50926cd2b33854ed524d9\", element=\"5e7e1ba1-6445-4b07-815f-1ec81f75f33c\")>,\n",
       " <selenium.webdriver.remote.webelement.WebElement (session=\"d53a5447fac50926cd2b33854ed524d9\", element=\"47a43e56-0ee1-42fa-ad7c-e9eb21e24761\")>,\n",
       " <selenium.webdriver.remote.webelement.WebElement (session=\"d53a5447fac50926cd2b33854ed524d9\", element=\"44d415d7-7e10-4060-847e-c3b47072cf0a\")>,\n",
       " <selenium.webdriver.remote.webelement.WebElement (session=\"d53a5447fac50926cd2b33854ed524d9\", element=\"1cf5514a-fa82-41ab-9cce-819cab75b5e2\")>,\n",
       " <selenium.webdriver.remote.webelement.WebElement (session=\"d53a5447fac50926cd2b33854ed524d9\", element=\"07e554a7-fe85-4fdf-9892-3025915b051e\")>,\n",
       " <selenium.webdriver.remote.webelement.WebElement (session=\"d53a5447fac50926cd2b33854ed524d9\", element=\"94a68ffc-290f-454b-a4ad-95a8b5c9a775\")>,\n",
       " <selenium.webdriver.remote.webelement.WebElement (session=\"d53a5447fac50926cd2b33854ed524d9\", element=\"cbfd6fc8-8704-4ff0-993a-f5311b7f7593\")>,\n",
       " <selenium.webdriver.remote.webelement.WebElement (session=\"d53a5447fac50926cd2b33854ed524d9\", element=\"4f770136-7e2e-4e38-bc25-130166193104\")>,\n",
       " <selenium.webdriver.remote.webelement.WebElement (session=\"d53a5447fac50926cd2b33854ed524d9\", element=\"d504c408-b94c-496c-bf22-c7950650ed59\")>,\n",
       " <selenium.webdriver.remote.webelement.WebElement (session=\"d53a5447fac50926cd2b33854ed524d9\", element=\"1b475e48-3333-4166-8ce7-33ebe5054264\")>,\n",
       " <selenium.webdriver.remote.webelement.WebElement (session=\"d53a5447fac50926cd2b33854ed524d9\", element=\"41ab7a45-d26a-464f-85de-5319647b7345\")>,\n",
       " <selenium.webdriver.remote.webelement.WebElement (session=\"d53a5447fac50926cd2b33854ed524d9\", element=\"23148f23-2820-4fbc-89e2-44731689337d\")>,\n",
       " <selenium.webdriver.remote.webelement.WebElement (session=\"d53a5447fac50926cd2b33854ed524d9\", element=\"5ccc46ce-872f-48e7-b58b-bb2f3d8172fa\")>,\n",
       " <selenium.webdriver.remote.webelement.WebElement (session=\"d53a5447fac50926cd2b33854ed524d9\", element=\"ba3accb8-827b-4981-8dc7-30d7f08e5cfe\")>,\n",
       " <selenium.webdriver.remote.webelement.WebElement (session=\"d53a5447fac50926cd2b33854ed524d9\", element=\"4cf98587-beb5-4f98-81cf-06888ba83d8d\")>,\n",
       " <selenium.webdriver.remote.webelement.WebElement (session=\"d53a5447fac50926cd2b33854ed524d9\", element=\"5f1bbb0e-1c66-42f6-8f2c-1470b2cf069a\")>,\n",
       " <selenium.webdriver.remote.webelement.WebElement (session=\"d53a5447fac50926cd2b33854ed524d9\", element=\"1542ee02-055e-46a4-8dcf-8cc13fe77da3\")>,\n",
       " <selenium.webdriver.remote.webelement.WebElement (session=\"d53a5447fac50926cd2b33854ed524d9\", element=\"dfed4004-3af1-4a62-bfaa-23a2e29a4d38\")>,\n",
       " <selenium.webdriver.remote.webelement.WebElement (session=\"d53a5447fac50926cd2b33854ed524d9\", element=\"5740fa01-066a-434c-90d8-ba6a3a7d76c3\")>,\n",
       " <selenium.webdriver.remote.webelement.WebElement (session=\"d53a5447fac50926cd2b33854ed524d9\", element=\"274a284c-2929-4685-bd68-6b5546ac78cf\")>,\n",
       " <selenium.webdriver.remote.webelement.WebElement (session=\"d53a5447fac50926cd2b33854ed524d9\", element=\"4a6ceb70-a35a-4edd-bae3-1e37450abf53\")>,\n",
       " <selenium.webdriver.remote.webelement.WebElement (session=\"d53a5447fac50926cd2b33854ed524d9\", element=\"1547af75-bda8-4051-be47-e474d914e14b\")>,\n",
       " <selenium.webdriver.remote.webelement.WebElement (session=\"d53a5447fac50926cd2b33854ed524d9\", element=\"f1e664dd-ff75-415b-b67e-ddc38275fa40\")>,\n",
       " <selenium.webdriver.remote.webelement.WebElement (session=\"d53a5447fac50926cd2b33854ed524d9\", element=\"85159458-ccfe-407f-ae61-e7e2e80f2c29\")>,\n",
       " <selenium.webdriver.remote.webelement.WebElement (session=\"d53a5447fac50926cd2b33854ed524d9\", element=\"91665a55-4752-4e82-ae6c-da8002eff515\")>,\n",
       " <selenium.webdriver.remote.webelement.WebElement (session=\"d53a5447fac50926cd2b33854ed524d9\", element=\"03598652-7698-4b95-8b10-088b2796ba70\")>,\n",
       " <selenium.webdriver.remote.webelement.WebElement (session=\"d53a5447fac50926cd2b33854ed524d9\", element=\"ff52da12-0e2c-4390-83ce-f8084f8221f7\")>,\n",
       " <selenium.webdriver.remote.webelement.WebElement (session=\"d53a5447fac50926cd2b33854ed524d9\", element=\"241efc5b-07aa-4442-a9b0-348e2ccb375f\")>,\n",
       " <selenium.webdriver.remote.webelement.WebElement (session=\"d53a5447fac50926cd2b33854ed524d9\", element=\"082b0acb-e249-4e58-b4ee-db81e3efe9e1\")>,\n",
       " <selenium.webdriver.remote.webelement.WebElement (session=\"d53a5447fac50926cd2b33854ed524d9\", element=\"58929e5f-e7af-4380-ac69-ed099a88dae5\")>,\n",
       " <selenium.webdriver.remote.webelement.WebElement (session=\"d53a5447fac50926cd2b33854ed524d9\", element=\"8e252662-6dd0-4a94-b8f9-b2a01fcf4344\")>,\n",
       " <selenium.webdriver.remote.webelement.WebElement (session=\"d53a5447fac50926cd2b33854ed524d9\", element=\"25de5094-e655-4dab-b9b7-40f703295aa0\")>,\n",
       " <selenium.webdriver.remote.webelement.WebElement (session=\"d53a5447fac50926cd2b33854ed524d9\", element=\"2f4e2e7f-a3be-447c-8f7d-fa6faf95eac5\")>,\n",
       " <selenium.webdriver.remote.webelement.WebElement (session=\"d53a5447fac50926cd2b33854ed524d9\", element=\"168d3be2-1343-4f01-8816-ad9cc8620675\")>,\n",
       " <selenium.webdriver.remote.webelement.WebElement (session=\"d53a5447fac50926cd2b33854ed524d9\", element=\"16a5d58a-bf7a-41de-bbf8-dde6b6641b39\")>,\n",
       " <selenium.webdriver.remote.webelement.WebElement (session=\"d53a5447fac50926cd2b33854ed524d9\", element=\"5a687099-7349-4e24-83d7-b0b659e800a8\")>,\n",
       " <selenium.webdriver.remote.webelement.WebElement (session=\"d53a5447fac50926cd2b33854ed524d9\", element=\"4b586b00-ba0b-4b0a-b1bc-d4ad4c3c3930\")>,\n",
       " <selenium.webdriver.remote.webelement.WebElement (session=\"d53a5447fac50926cd2b33854ed524d9\", element=\"2d0094a2-b081-40a5-aff7-6e9479c392a6\")>,\n",
       " <selenium.webdriver.remote.webelement.WebElement (session=\"d53a5447fac50926cd2b33854ed524d9\", element=\"65970806-aff3-4324-8b31-e44668891cf4\")>,\n",
       " <selenium.webdriver.remote.webelement.WebElement (session=\"d53a5447fac50926cd2b33854ed524d9\", element=\"f1461d9e-8f09-4948-a79f-6cd300181995\")>,\n",
       " <selenium.webdriver.remote.webelement.WebElement (session=\"d53a5447fac50926cd2b33854ed524d9\", element=\"accba36d-0781-4cd8-882a-8d40c231953b\")>,\n",
       " <selenium.webdriver.remote.webelement.WebElement (session=\"d53a5447fac50926cd2b33854ed524d9\", element=\"b2a56e60-1298-4c27-b462-4b0a0db7ac03\")>,\n",
       " <selenium.webdriver.remote.webelement.WebElement (session=\"d53a5447fac50926cd2b33854ed524d9\", element=\"22b8a187-d69a-418e-86db-e5900bbc5130\")>,\n",
       " <selenium.webdriver.remote.webelement.WebElement (session=\"d53a5447fac50926cd2b33854ed524d9\", element=\"6f9fb759-e4e9-48bd-b111-c765219a5d2e\")>,\n",
       " <selenium.webdriver.remote.webelement.WebElement (session=\"d53a5447fac50926cd2b33854ed524d9\", element=\"6e6f5318-a650-4c57-ada3-93ef4b3f486b\")>,\n",
       " <selenium.webdriver.remote.webelement.WebElement (session=\"d53a5447fac50926cd2b33854ed524d9\", element=\"b4cf156e-4ba9-4812-8729-1a739a287b1b\")>,\n",
       " <selenium.webdriver.remote.webelement.WebElement (session=\"d53a5447fac50926cd2b33854ed524d9\", element=\"b6742e03-3977-48fd-b2a6-36538d437bf9\")>,\n",
       " <selenium.webdriver.remote.webelement.WebElement (session=\"d53a5447fac50926cd2b33854ed524d9\", element=\"e0739c41-81f8-44b8-b2f6-6ad04e1627c9\")>,\n",
       " <selenium.webdriver.remote.webelement.WebElement (session=\"d53a5447fac50926cd2b33854ed524d9\", element=\"315cf6a2-bb3f-43be-9a51-317ae20927ca\")>,\n",
       " <selenium.webdriver.remote.webelement.WebElement (session=\"d53a5447fac50926cd2b33854ed524d9\", element=\"eef60df4-733c-4aec-9ad4-024b384fb551\")>,\n",
       " <selenium.webdriver.remote.webelement.WebElement (session=\"d53a5447fac50926cd2b33854ed524d9\", element=\"d0b30c3e-57bb-425a-a386-8f5c77be5499\")>,\n",
       " <selenium.webdriver.remote.webelement.WebElement (session=\"d53a5447fac50926cd2b33854ed524d9\", element=\"abe58ebd-c328-49b6-bdc8-97ea02bc748e\")>,\n",
       " <selenium.webdriver.remote.webelement.WebElement (session=\"d53a5447fac50926cd2b33854ed524d9\", element=\"039fc5bf-f9c8-4b80-afff-e489a82e2e06\")>,\n",
       " <selenium.webdriver.remote.webelement.WebElement (session=\"d53a5447fac50926cd2b33854ed524d9\", element=\"636b1152-e47e-4ddc-8e92-6abdc3a045ae\")>,\n",
       " <selenium.webdriver.remote.webelement.WebElement (session=\"d53a5447fac50926cd2b33854ed524d9\", element=\"d76a3399-4160-41af-877c-19099fdd1028\")>,\n",
       " <selenium.webdriver.remote.webelement.WebElement (session=\"d53a5447fac50926cd2b33854ed524d9\", element=\"e680bf86-0679-4c80-bed4-8c2947fff843\")>,\n",
       " <selenium.webdriver.remote.webelement.WebElement (session=\"d53a5447fac50926cd2b33854ed524d9\", element=\"e91a99dd-0ec0-4e1c-9151-22f203dcc6b7\")>,\n",
       " <selenium.webdriver.remote.webelement.WebElement (session=\"d53a5447fac50926cd2b33854ed524d9\", element=\"44e66c6b-d28f-4127-978b-6977b98c3dca\")>,\n",
       " <selenium.webdriver.remote.webelement.WebElement (session=\"d53a5447fac50926cd2b33854ed524d9\", element=\"44e2edcb-e1c2-43bb-9efa-fe25b17bf021\")>,\n",
       " <selenium.webdriver.remote.webelement.WebElement (session=\"d53a5447fac50926cd2b33854ed524d9\", element=\"fc0d530e-845f-44cc-9ea1-a5928d95de6e\")>,\n",
       " <selenium.webdriver.remote.webelement.WebElement (session=\"d53a5447fac50926cd2b33854ed524d9\", element=\"92e89c80-5f91-44e2-97f0-96b25a5030c7\")>,\n",
       " <selenium.webdriver.remote.webelement.WebElement (session=\"d53a5447fac50926cd2b33854ed524d9\", element=\"3931884b-8c88-40b3-b1df-5cc6ad0bb8d0\")>,\n",
       " <selenium.webdriver.remote.webelement.WebElement (session=\"d53a5447fac50926cd2b33854ed524d9\", element=\"732eb282-6427-48cd-8fe8-6af67ef11c48\")>,\n",
       " <selenium.webdriver.remote.webelement.WebElement (session=\"d53a5447fac50926cd2b33854ed524d9\", element=\"0140764b-cf8e-4950-adda-36d9c586e54d\")>,\n",
       " <selenium.webdriver.remote.webelement.WebElement (session=\"d53a5447fac50926cd2b33854ed524d9\", element=\"2266a708-5dc9-4040-8c7f-5d24f36a8e56\")>,\n",
       " <selenium.webdriver.remote.webelement.WebElement (session=\"d53a5447fac50926cd2b33854ed524d9\", element=\"e9ed9c84-b277-465a-8f7e-5c88baef6871\")>,\n",
       " <selenium.webdriver.remote.webelement.WebElement (session=\"d53a5447fac50926cd2b33854ed524d9\", element=\"b7a57dcf-7ab4-48fb-9f5e-62353415f789\")>,\n",
       " <selenium.webdriver.remote.webelement.WebElement (session=\"d53a5447fac50926cd2b33854ed524d9\", element=\"d8dc2c0d-919d-47d1-bada-366931a9e029\")>,\n",
       " <selenium.webdriver.remote.webelement.WebElement (session=\"d53a5447fac50926cd2b33854ed524d9\", element=\"34acf67a-e125-4624-9927-9baca6486080\")>,\n",
       " <selenium.webdriver.remote.webelement.WebElement (session=\"d53a5447fac50926cd2b33854ed524d9\", element=\"7088fc92-4f6d-41e4-9de8-dd6e17f16efb\")>,\n",
       " <selenium.webdriver.remote.webelement.WebElement (session=\"d53a5447fac50926cd2b33854ed524d9\", element=\"f6bb9c27-d080-453a-9759-94c75a622421\")>,\n",
       " <selenium.webdriver.remote.webelement.WebElement (session=\"d53a5447fac50926cd2b33854ed524d9\", element=\"37b0bc58-8c57-450c-a0e1-73cad9186d2f\")>,\n",
       " <selenium.webdriver.remote.webelement.WebElement (session=\"d53a5447fac50926cd2b33854ed524d9\", element=\"6b75d8f1-fdfe-4f7e-9c46-8257807c8462\")>,\n",
       " <selenium.webdriver.remote.webelement.WebElement (session=\"d53a5447fac50926cd2b33854ed524d9\", element=\"8e285557-3ff2-42f6-991b-12de02dff952\")>,\n",
       " <selenium.webdriver.remote.webelement.WebElement (session=\"d53a5447fac50926cd2b33854ed524d9\", element=\"309d7e85-50ab-483c-9898-9051deb7531f\")>,\n",
       " <selenium.webdriver.remote.webelement.WebElement (session=\"d53a5447fac50926cd2b33854ed524d9\", element=\"c27234fd-9c9d-4e55-bab9-e20431da9b0d\")>,\n",
       " <selenium.webdriver.remote.webelement.WebElement (session=\"d53a5447fac50926cd2b33854ed524d9\", element=\"c3c015c3-f553-4e31-ba3b-56023ca65660\")>,\n",
       " <selenium.webdriver.remote.webelement.WebElement (session=\"d53a5447fac50926cd2b33854ed524d9\", element=\"0e03a6d7-12bf-466e-9b7b-4623b42bdf7b\")>,\n",
       " <selenium.webdriver.remote.webelement.WebElement (session=\"d53a5447fac50926cd2b33854ed524d9\", element=\"3e9dc8bb-3120-4a86-ac15-fc45aba64026\")>,\n",
       " <selenium.webdriver.remote.webelement.WebElement (session=\"d53a5447fac50926cd2b33854ed524d9\", element=\"a20fcdc6-eacf-4dc4-ae06-5716197d41f9\")>,\n",
       " <selenium.webdriver.remote.webelement.WebElement (session=\"d53a5447fac50926cd2b33854ed524d9\", element=\"3ed59bcc-4072-48f0-b762-6811e6a9d7c4\")>,\n",
       " <selenium.webdriver.remote.webelement.WebElement (session=\"d53a5447fac50926cd2b33854ed524d9\", element=\"22b2fb40-8cb6-4742-9360-5e9b7c69fd9b\")>,\n",
       " <selenium.webdriver.remote.webelement.WebElement (session=\"d53a5447fac50926cd2b33854ed524d9\", element=\"efc36418-36c1-4886-ab7a-0211cf7a497a\")>,\n",
       " <selenium.webdriver.remote.webelement.WebElement (session=\"d53a5447fac50926cd2b33854ed524d9\", element=\"4ad718bb-63a5-493b-86f1-12fd0afe783f\")>,\n",
       " <selenium.webdriver.remote.webelement.WebElement (session=\"d53a5447fac50926cd2b33854ed524d9\", element=\"44223769-d7f3-4002-897f-64e18cf24e0a\")>,\n",
       " <selenium.webdriver.remote.webelement.WebElement (session=\"d53a5447fac50926cd2b33854ed524d9\", element=\"3dede65e-167d-4c99-8150-6af2e69b8206\")>,\n",
       " <selenium.webdriver.remote.webelement.WebElement (session=\"d53a5447fac50926cd2b33854ed524d9\", element=\"97b98fe1-6224-47bb-8276-9a080a1b342a\")>,\n",
       " <selenium.webdriver.remote.webelement.WebElement (session=\"d53a5447fac50926cd2b33854ed524d9\", element=\"a7d6e0aa-6942-4d27-b441-9046c1566024\")>,\n",
       " <selenium.webdriver.remote.webelement.WebElement (session=\"d53a5447fac50926cd2b33854ed524d9\", element=\"03955af4-5536-4460-ad9b-17aa1662d9d4\")>,\n",
       " <selenium.webdriver.remote.webelement.WebElement (session=\"d53a5447fac50926cd2b33854ed524d9\", element=\"6eb4611e-a399-41e9-808b-d3f469019b22\")>,\n",
       " <selenium.webdriver.remote.webelement.WebElement (session=\"d53a5447fac50926cd2b33854ed524d9\", element=\"bc768771-703b-4140-9eb0-fe4112caeff8\")>,\n",
       " <selenium.webdriver.remote.webelement.WebElement (session=\"d53a5447fac50926cd2b33854ed524d9\", element=\"7cc406d3-960f-4ced-81c8-e975c3c3aded\")>,\n",
       " <selenium.webdriver.remote.webelement.WebElement (session=\"d53a5447fac50926cd2b33854ed524d9\", element=\"764a6904-c916-48bc-8826-36b75c013b5d\")>,\n",
       " <selenium.webdriver.remote.webelement.WebElement (session=\"d53a5447fac50926cd2b33854ed524d9\", element=\"ba10a159-2bbf-417b-ac92-f16f3a96da6f\")>,\n",
       " <selenium.webdriver.remote.webelement.WebElement (session=\"d53a5447fac50926cd2b33854ed524d9\", element=\"afe443fc-fca6-4717-946b-29e8bcf1bf69\")>,\n",
       " <selenium.webdriver.remote.webelement.WebElement (session=\"d53a5447fac50926cd2b33854ed524d9\", element=\"582a135e-3e0a-43c3-8cb9-9042e4807470\")>,\n",
       " <selenium.webdriver.remote.webelement.WebElement (session=\"d53a5447fac50926cd2b33854ed524d9\", element=\"a5c61040-640e-4c89-b76d-74f77415f764\")>,\n",
       " <selenium.webdriver.remote.webelement.WebElement (session=\"d53a5447fac50926cd2b33854ed524d9\", element=\"d6832f51-87d6-4311-978e-27456df60c99\")>,\n",
       " <selenium.webdriver.remote.webelement.WebElement (session=\"d53a5447fac50926cd2b33854ed524d9\", element=\"ef0bd7e8-1d9c-496e-99fb-67a17ef28750\")>,\n",
       " <selenium.webdriver.remote.webelement.WebElement (session=\"d53a5447fac50926cd2b33854ed524d9\", element=\"c7444baf-1949-4666-9b44-6605010dd145\")>,\n",
       " <selenium.webdriver.remote.webelement.WebElement (session=\"d53a5447fac50926cd2b33854ed524d9\", element=\"06bac93e-bb8d-486e-ac05-7af4924efc69\")>,\n",
       " <selenium.webdriver.remote.webelement.WebElement (session=\"d53a5447fac50926cd2b33854ed524d9\", element=\"b6d8415f-df5e-4111-b205-028537ffd5fb\")>,\n",
       " <selenium.webdriver.remote.webelement.WebElement (session=\"d53a5447fac50926cd2b33854ed524d9\", element=\"2fb4851c-9109-4a77-91bd-030198b8d8a8\")>,\n",
       " <selenium.webdriver.remote.webelement.WebElement (session=\"d53a5447fac50926cd2b33854ed524d9\", element=\"e1c013f9-dfe0-4a5d-be35-c24626b1bb5d\")>,\n",
       " <selenium.webdriver.remote.webelement.WebElement (session=\"d53a5447fac50926cd2b33854ed524d9\", element=\"bbdfeaf9-0ea4-4edf-aa48-fddfecec3a81\")>,\n",
       " <selenium.webdriver.remote.webelement.WebElement (session=\"d53a5447fac50926cd2b33854ed524d9\", element=\"c4493f16-da99-4c33-9fa3-5f68dc24bdfe\")>,\n",
       " <selenium.webdriver.remote.webelement.WebElement (session=\"d53a5447fac50926cd2b33854ed524d9\", element=\"49877af4-5b0b-4aa0-a766-d11a905ebfb8\")>,\n",
       " <selenium.webdriver.remote.webelement.WebElement (session=\"d53a5447fac50926cd2b33854ed524d9\", element=\"9c1d921b-6ccc-4748-aee6-ec2e7da90414\")>,\n",
       " <selenium.webdriver.remote.webelement.WebElement (session=\"d53a5447fac50926cd2b33854ed524d9\", element=\"40471a17-1eb0-4b64-a27e-656025cd45d7\")>,\n",
       " <selenium.webdriver.remote.webelement.WebElement (session=\"d53a5447fac50926cd2b33854ed524d9\", element=\"0de2db64-a48d-44e7-ac37-91839e3848f3\")>,\n",
       " <selenium.webdriver.remote.webelement.WebElement (session=\"d53a5447fac50926cd2b33854ed524d9\", element=\"62801f75-5ee7-4c81-8b70-09f6431a78df\")>,\n",
       " <selenium.webdriver.remote.webelement.WebElement (session=\"d53a5447fac50926cd2b33854ed524d9\", element=\"2ee0d980-3c07-497c-9564-aa89a7617218\")>,\n",
       " <selenium.webdriver.remote.webelement.WebElement (session=\"d53a5447fac50926cd2b33854ed524d9\", element=\"98554a5d-7b0f-4b47-9b8b-f86227725566\")>,\n",
       " <selenium.webdriver.remote.webelement.WebElement (session=\"d53a5447fac50926cd2b33854ed524d9\", element=\"df56ec30-fdc2-40fc-8efa-bf022dc2691d\")>,\n",
       " <selenium.webdriver.remote.webelement.WebElement (session=\"d53a5447fac50926cd2b33854ed524d9\", element=\"7038bc77-54bb-4fdb-b375-2460f8fc687c\")>,\n",
       " <selenium.webdriver.remote.webelement.WebElement (session=\"d53a5447fac50926cd2b33854ed524d9\", element=\"b58bdce0-c3a6-4a74-ba8f-7a26d54ed78d\")>,\n",
       " <selenium.webdriver.remote.webelement.WebElement (session=\"d53a5447fac50926cd2b33854ed524d9\", element=\"3a86b4e9-b373-41fa-92f4-fa0be69c96d0\")>,\n",
       " <selenium.webdriver.remote.webelement.WebElement (session=\"d53a5447fac50926cd2b33854ed524d9\", element=\"4657f4b3-c414-465e-8260-bbf2409bb71d\")>,\n",
       " <selenium.webdriver.remote.webelement.WebElement (session=\"d53a5447fac50926cd2b33854ed524d9\", element=\"d4c14675-bb59-4ead-aeea-bc605da645f2\")>,\n",
       " <selenium.webdriver.remote.webelement.WebElement (session=\"d53a5447fac50926cd2b33854ed524d9\", element=\"2dfc3f34-4abb-4928-9ecd-6739982406eb\")>,\n",
       " <selenium.webdriver.remote.webelement.WebElement (session=\"d53a5447fac50926cd2b33854ed524d9\", element=\"afb92262-3b2c-4ba1-abe8-6ed880f474cc\")>,\n",
       " <selenium.webdriver.remote.webelement.WebElement (session=\"d53a5447fac50926cd2b33854ed524d9\", element=\"8d5e54f5-4172-43a9-8d4d-0181840ed093\")>,\n",
       " <selenium.webdriver.remote.webelement.WebElement (session=\"d53a5447fac50926cd2b33854ed524d9\", element=\"8ed47255-a1aa-4e5e-a672-ae0d4871943d\")>,\n",
       " <selenium.webdriver.remote.webelement.WebElement (session=\"d53a5447fac50926cd2b33854ed524d9\", element=\"c0207b00-e7ab-41cf-b913-a532fd625826\")>,\n",
       " <selenium.webdriver.remote.webelement.WebElement (session=\"d53a5447fac50926cd2b33854ed524d9\", element=\"763580e5-a3b7-466e-8280-588e56c13740\")>,\n",
       " <selenium.webdriver.remote.webelement.WebElement (session=\"d53a5447fac50926cd2b33854ed524d9\", element=\"f8a32715-1e0c-4be4-801a-4a9d6a55184c\")>,\n",
       " <selenium.webdriver.remote.webelement.WebElement (session=\"d53a5447fac50926cd2b33854ed524d9\", element=\"3d079948-833b-4a56-b494-1a1bf1087834\")>,\n",
       " <selenium.webdriver.remote.webelement.WebElement (session=\"d53a5447fac50926cd2b33854ed524d9\", element=\"c2d1debf-1024-4385-b41c-f2dfd056304d\")>,\n",
       " <selenium.webdriver.remote.webelement.WebElement (session=\"d53a5447fac50926cd2b33854ed524d9\", element=\"068963b8-b664-4b17-9133-4ea65abe076c\")>,\n",
       " <selenium.webdriver.remote.webelement.WebElement (session=\"d53a5447fac50926cd2b33854ed524d9\", element=\"af9e87e2-2694-4325-ad9c-38ce9a6cdb12\")>,\n",
       " <selenium.webdriver.remote.webelement.WebElement (session=\"d53a5447fac50926cd2b33854ed524d9\", element=\"323ba943-a5b9-49ac-bc24-b156d5048e26\")>,\n",
       " <selenium.webdriver.remote.webelement.WebElement (session=\"d53a5447fac50926cd2b33854ed524d9\", element=\"f2d92500-7d2a-48ac-925e-8aa61cdca83b\")>,\n",
       " <selenium.webdriver.remote.webelement.WebElement (session=\"d53a5447fac50926cd2b33854ed524d9\", element=\"194029d4-ff60-4240-9dec-4449996fbeac\")>,\n",
       " <selenium.webdriver.remote.webelement.WebElement (session=\"d53a5447fac50926cd2b33854ed524d9\", element=\"372c67fd-944c-47c2-a074-6f6519380819\")>,\n",
       " <selenium.webdriver.remote.webelement.WebElement (session=\"d53a5447fac50926cd2b33854ed524d9\", element=\"9aa11908-a40f-4d4d-9ca6-0b27a415097a\")>,\n",
       " <selenium.webdriver.remote.webelement.WebElement (session=\"d53a5447fac50926cd2b33854ed524d9\", element=\"b742f723-8b71-43db-95c6-9938da82de2b\")>,\n",
       " <selenium.webdriver.remote.webelement.WebElement (session=\"d53a5447fac50926cd2b33854ed524d9\", element=\"c932e542-8aff-4ccb-95cb-089be03559df\")>,\n",
       " <selenium.webdriver.remote.webelement.WebElement (session=\"d53a5447fac50926cd2b33854ed524d9\", element=\"9ce8378c-98c2-4f7c-af9c-dc483bfb22ee\")>,\n",
       " <selenium.webdriver.remote.webelement.WebElement (session=\"d53a5447fac50926cd2b33854ed524d9\", element=\"2b16e66a-d126-4cfd-b88b-63821731d395\")>,\n",
       " <selenium.webdriver.remote.webelement.WebElement (session=\"d53a5447fac50926cd2b33854ed524d9\", element=\"5031fe23-4e68-49f2-817e-781aac783160\")>,\n",
       " <selenium.webdriver.remote.webelement.WebElement (session=\"d53a5447fac50926cd2b33854ed524d9\", element=\"eed2a14a-ab6c-458d-bf37-3a10bdf380df\")>,\n",
       " <selenium.webdriver.remote.webelement.WebElement (session=\"d53a5447fac50926cd2b33854ed524d9\", element=\"25c0253d-c18c-4e71-97b1-1030406def00\")>,\n",
       " <selenium.webdriver.remote.webelement.WebElement (session=\"d53a5447fac50926cd2b33854ed524d9\", element=\"c3e8ac4a-cb5a-4b47-a86a-bc97f39fdac7\")>,\n",
       " <selenium.webdriver.remote.webelement.WebElement (session=\"d53a5447fac50926cd2b33854ed524d9\", element=\"f2a64d22-7b41-4c75-809e-3ed13090d974\")>,\n",
       " <selenium.webdriver.remote.webelement.WebElement (session=\"d53a5447fac50926cd2b33854ed524d9\", element=\"1d92b083-5183-4fa8-8ec8-af7be8fb0715\")>,\n",
       " <selenium.webdriver.remote.webelement.WebElement (session=\"d53a5447fac50926cd2b33854ed524d9\", element=\"5e565d8c-ee07-4640-a7c5-778e2770cece\")>,\n",
       " <selenium.webdriver.remote.webelement.WebElement (session=\"d53a5447fac50926cd2b33854ed524d9\", element=\"629f2d43-f056-477e-9658-d44afd3f11cf\")>,\n",
       " <selenium.webdriver.remote.webelement.WebElement (session=\"d53a5447fac50926cd2b33854ed524d9\", element=\"d8af69f6-d67d-4c5c-b3fa-fe390b769aaa\")>,\n",
       " <selenium.webdriver.remote.webelement.WebElement (session=\"d53a5447fac50926cd2b33854ed524d9\", element=\"8ee2e486-ec58-4993-b492-ab29b1fa8bf6\")>,\n",
       " <selenium.webdriver.remote.webelement.WebElement (session=\"d53a5447fac50926cd2b33854ed524d9\", element=\"692514a3-34e3-4fd1-83b8-a73436fc8588\")>,\n",
       " <selenium.webdriver.remote.webelement.WebElement (session=\"d53a5447fac50926cd2b33854ed524d9\", element=\"c4357cd3-34ab-4c62-9839-66e25eda1940\")>,\n",
       " <selenium.webdriver.remote.webelement.WebElement (session=\"d53a5447fac50926cd2b33854ed524d9\", element=\"77ece3ee-d2e8-4568-8a30-9cf8d53b4965\")>,\n",
       " <selenium.webdriver.remote.webelement.WebElement (session=\"d53a5447fac50926cd2b33854ed524d9\", element=\"33571c0f-ebf2-4e56-8947-8f832a3ff034\")>,\n",
       " <selenium.webdriver.remote.webelement.WebElement (session=\"d53a5447fac50926cd2b33854ed524d9\", element=\"c636b0e9-f698-49be-ada7-65fe86ae79aa\")>,\n",
       " <selenium.webdriver.remote.webelement.WebElement (session=\"d53a5447fac50926cd2b33854ed524d9\", element=\"47056572-f9a9-40c3-8ee9-a214b3303c70\")>,\n",
       " <selenium.webdriver.remote.webelement.WebElement (session=\"d53a5447fac50926cd2b33854ed524d9\", element=\"18dd68d2-a12e-4354-b41a-cd293025dbf5\")>,\n",
       " <selenium.webdriver.remote.webelement.WebElement (session=\"d53a5447fac50926cd2b33854ed524d9\", element=\"6d8c9dd4-c221-452f-b954-8b44a5a46b85\")>,\n",
       " <selenium.webdriver.remote.webelement.WebElement (session=\"d53a5447fac50926cd2b33854ed524d9\", element=\"b4e02dbd-851a-47a7-9769-8fa90846d781\")>,\n",
       " <selenium.webdriver.remote.webelement.WebElement (session=\"d53a5447fac50926cd2b33854ed524d9\", element=\"f55da71f-5249-46b8-980e-6e8aaa576595\")>,\n",
       " <selenium.webdriver.remote.webelement.WebElement (session=\"d53a5447fac50926cd2b33854ed524d9\", element=\"15adce9d-d2eb-4894-872b-e205049d2f1b\")>,\n",
       " <selenium.webdriver.remote.webelement.WebElement (session=\"d53a5447fac50926cd2b33854ed524d9\", element=\"9dcb5db7-96e7-4094-ba6f-3d4535ce8aa5\")>,\n",
       " <selenium.webdriver.remote.webelement.WebElement (session=\"d53a5447fac50926cd2b33854ed524d9\", element=\"fa15a342-9219-4b29-99a2-ca1517080f7a\")>,\n",
       " <selenium.webdriver.remote.webelement.WebElement (session=\"d53a5447fac50926cd2b33854ed524d9\", element=\"b909db9d-7230-4abf-a90e-fc056bcd5ef3\")>,\n",
       " <selenium.webdriver.remote.webelement.WebElement (session=\"d53a5447fac50926cd2b33854ed524d9\", element=\"9c8a4900-8bf8-433d-af51-afb1c09bd0b2\")>,\n",
       " <selenium.webdriver.remote.webelement.WebElement (session=\"d53a5447fac50926cd2b33854ed524d9\", element=\"e96226ec-85da-41ab-af5f-b968ad1a2351\")>,\n",
       " <selenium.webdriver.remote.webelement.WebElement (session=\"d53a5447fac50926cd2b33854ed524d9\", element=\"4b1c05df-0831-4404-9c1b-da43982dc712\")>,\n",
       " <selenium.webdriver.remote.webelement.WebElement (session=\"d53a5447fac50926cd2b33854ed524d9\", element=\"2564797c-7b63-4b20-acd5-f684124569ac\")>,\n",
       " <selenium.webdriver.remote.webelement.WebElement (session=\"d53a5447fac50926cd2b33854ed524d9\", element=\"37d15ace-2a81-4310-8268-ff071ea78584\")>,\n",
       " <selenium.webdriver.remote.webelement.WebElement (session=\"d53a5447fac50926cd2b33854ed524d9\", element=\"c5d39802-c448-4aad-aea7-d471a04effbf\")>,\n",
       " <selenium.webdriver.remote.webelement.WebElement (session=\"d53a5447fac50926cd2b33854ed524d9\", element=\"b3bf8a2d-3b1b-4cb5-ae03-ff9711c53bc3\")>,\n",
       " <selenium.webdriver.remote.webelement.WebElement (session=\"d53a5447fac50926cd2b33854ed524d9\", element=\"fd6804d0-fee3-4c40-84c0-a5d1e03eec08\")>,\n",
       " <selenium.webdriver.remote.webelement.WebElement (session=\"d53a5447fac50926cd2b33854ed524d9\", element=\"31c957dc-51ae-4861-a8d0-5ba47420115d\")>,\n",
       " <selenium.webdriver.remote.webelement.WebElement (session=\"d53a5447fac50926cd2b33854ed524d9\", element=\"215d03a9-31ad-42ff-9008-4ffd2f010bf2\")>,\n",
       " <selenium.webdriver.remote.webelement.WebElement (session=\"d53a5447fac50926cd2b33854ed524d9\", element=\"1035f23b-b20e-4452-bca9-b425d71a3c31\")>,\n",
       " <selenium.webdriver.remote.webelement.WebElement (session=\"d53a5447fac50926cd2b33854ed524d9\", element=\"a52f3b32-6bec-4fc1-9277-213d1c872603\")>,\n",
       " <selenium.webdriver.remote.webelement.WebElement (session=\"d53a5447fac50926cd2b33854ed524d9\", element=\"187b4b22-811d-458c-a56f-d88184e2a9c5\")>,\n",
       " <selenium.webdriver.remote.webelement.WebElement (session=\"d53a5447fac50926cd2b33854ed524d9\", element=\"f211f2bb-ba01-4947-83e4-1b3a31ee60e6\")>,\n",
       " <selenium.webdriver.remote.webelement.WebElement (session=\"d53a5447fac50926cd2b33854ed524d9\", element=\"ebd923c6-5f3c-4382-8223-17487aabf274\")>,\n",
       " <selenium.webdriver.remote.webelement.WebElement (session=\"d53a5447fac50926cd2b33854ed524d9\", element=\"2166fe20-479e-4bc7-904d-315d26ea2d6b\")>,\n",
       " <selenium.webdriver.remote.webelement.WebElement (session=\"d53a5447fac50926cd2b33854ed524d9\", element=\"cf09be98-b538-4d52-b6e2-2064b6b2c937\")>,\n",
       " <selenium.webdriver.remote.webelement.WebElement (session=\"d53a5447fac50926cd2b33854ed524d9\", element=\"a544f41f-ff73-41e7-97e2-0fda4ca173ae\")>,\n",
       " <selenium.webdriver.remote.webelement.WebElement (session=\"d53a5447fac50926cd2b33854ed524d9\", element=\"0c68e428-49e8-40fa-ac9d-7f3512286b62\")>,\n",
       " <selenium.webdriver.remote.webelement.WebElement (session=\"d53a5447fac50926cd2b33854ed524d9\", element=\"075812cf-7774-4158-9254-bf78d7ca8e03\")>,\n",
       " <selenium.webdriver.remote.webelement.WebElement (session=\"d53a5447fac50926cd2b33854ed524d9\", element=\"2400c652-213c-45a3-8506-60b3543bd4c5\")>,\n",
       " <selenium.webdriver.remote.webelement.WebElement (session=\"d53a5447fac50926cd2b33854ed524d9\", element=\"6cf2767f-2c7f-4b1c-809d-d6eb65db87b3\")>,\n",
       " <selenium.webdriver.remote.webelement.WebElement (session=\"d53a5447fac50926cd2b33854ed524d9\", element=\"c4d5f578-1c1d-43ae-a961-f697f7af7971\")>,\n",
       " <selenium.webdriver.remote.webelement.WebElement (session=\"d53a5447fac50926cd2b33854ed524d9\", element=\"71b36e39-f83c-40ca-b22e-48c4877931d1\")>,\n",
       " <selenium.webdriver.remote.webelement.WebElement (session=\"d53a5447fac50926cd2b33854ed524d9\", element=\"51c52604-ed20-499b-a2ab-c8ed6106cc56\")>,\n",
       " <selenium.webdriver.remote.webelement.WebElement (session=\"d53a5447fac50926cd2b33854ed524d9\", element=\"03915673-8e7a-4db0-8f0e-340c6f951a96\")>,\n",
       " <selenium.webdriver.remote.webelement.WebElement (session=\"d53a5447fac50926cd2b33854ed524d9\", element=\"0fb52a45-7f06-4a73-bcde-44171dd23d06\")>,\n",
       " <selenium.webdriver.remote.webelement.WebElement (session=\"d53a5447fac50926cd2b33854ed524d9\", element=\"f526ecda-403c-4c4a-8fb9-956f16e8443e\")>,\n",
       " <selenium.webdriver.remote.webelement.WebElement (session=\"d53a5447fac50926cd2b33854ed524d9\", element=\"6272545e-0349-412e-887e-5b70bb2f00e7\")>,\n",
       " <selenium.webdriver.remote.webelement.WebElement (session=\"d53a5447fac50926cd2b33854ed524d9\", element=\"5096f719-b05b-4fd2-8933-9a4c05e8114b\")>,\n",
       " <selenium.webdriver.remote.webelement.WebElement (session=\"d53a5447fac50926cd2b33854ed524d9\", element=\"fe982e91-9211-4922-95f7-60e64fba55df\")>,\n",
       " <selenium.webdriver.remote.webelement.WebElement (session=\"d53a5447fac50926cd2b33854ed524d9\", element=\"5c88a6de-f1f6-41ca-a8fd-b54e459afa1c\")>,\n",
       " <selenium.webdriver.remote.webelement.WebElement (session=\"d53a5447fac50926cd2b33854ed524d9\", element=\"1a2f611c-af3d-49ab-801c-723b96eb32f6\")>,\n",
       " <selenium.webdriver.remote.webelement.WebElement (session=\"d53a5447fac50926cd2b33854ed524d9\", element=\"841b2b17-9493-469f-940f-5b3c56c5162d\")>,\n",
       " <selenium.webdriver.remote.webelement.WebElement (session=\"d53a5447fac50926cd2b33854ed524d9\", element=\"abc6f82e-594b-439c-b14a-44290e403735\")>,\n",
       " <selenium.webdriver.remote.webelement.WebElement (session=\"d53a5447fac50926cd2b33854ed524d9\", element=\"73d3a885-ee5c-420d-921d-d3f893d52556\")>,\n",
       " <selenium.webdriver.remote.webelement.WebElement (session=\"d53a5447fac50926cd2b33854ed524d9\", element=\"6b1c41ba-6294-4ca1-9543-444c359a8a54\")>,\n",
       " <selenium.webdriver.remote.webelement.WebElement (session=\"d53a5447fac50926cd2b33854ed524d9\", element=\"aa132da7-0234-4402-8a99-316fd3425ec9\")>,\n",
       " <selenium.webdriver.remote.webelement.WebElement (session=\"d53a5447fac50926cd2b33854ed524d9\", element=\"a74e7738-8cdb-4017-a5a7-213eb22f9a32\")>,\n",
       " <selenium.webdriver.remote.webelement.WebElement (session=\"d53a5447fac50926cd2b33854ed524d9\", element=\"6a756753-cac5-4f74-a5d1-25f6a03d8423\")>,\n",
       " <selenium.webdriver.remote.webelement.WebElement (session=\"d53a5447fac50926cd2b33854ed524d9\", element=\"15fe8394-d333-4250-b8dd-8180c2c1cb04\")>,\n",
       " <selenium.webdriver.remote.webelement.WebElement (session=\"d53a5447fac50926cd2b33854ed524d9\", element=\"191aa6bb-640d-44ba-83fd-472637319810\")>,\n",
       " <selenium.webdriver.remote.webelement.WebElement (session=\"d53a5447fac50926cd2b33854ed524d9\", element=\"dec64b1b-102f-4cff-8a83-308287163a75\")>,\n",
       " <selenium.webdriver.remote.webelement.WebElement (session=\"d53a5447fac50926cd2b33854ed524d9\", element=\"b7aec2ce-55f5-4a41-ba76-a81a60851a33\")>,\n",
       " <selenium.webdriver.remote.webelement.WebElement (session=\"d53a5447fac50926cd2b33854ed524d9\", element=\"eba3bb8c-4534-4844-9151-59d09bf8d474\")>,\n",
       " <selenium.webdriver.remote.webelement.WebElement (session=\"d53a5447fac50926cd2b33854ed524d9\", element=\"145d013c-18a6-4019-a55c-77dc5783b59e\")>,\n",
       " <selenium.webdriver.remote.webelement.WebElement (session=\"d53a5447fac50926cd2b33854ed524d9\", element=\"1c7e4193-a2d3-418f-8392-bf662140c6f8\")>,\n",
       " <selenium.webdriver.remote.webelement.WebElement (session=\"d53a5447fac50926cd2b33854ed524d9\", element=\"4b11ec20-f19e-43ab-8034-558b4e654f99\")>,\n",
       " <selenium.webdriver.remote.webelement.WebElement (session=\"d53a5447fac50926cd2b33854ed524d9\", element=\"56a65a5d-88c0-4631-88b0-de65d43a5f5e\")>,\n",
       " <selenium.webdriver.remote.webelement.WebElement (session=\"d53a5447fac50926cd2b33854ed524d9\", element=\"ac667cff-50a3-4351-ba3d-ae874a76c360\")>,\n",
       " <selenium.webdriver.remote.webelement.WebElement (session=\"d53a5447fac50926cd2b33854ed524d9\", element=\"86270a4f-1ade-4c7d-a6f9-d69f596c6b02\")>,\n",
       " <selenium.webdriver.remote.webelement.WebElement (session=\"d53a5447fac50926cd2b33854ed524d9\", element=\"6fb530ef-0ccd-44a9-a4bd-c9d9a2c28fc9\")>,\n",
       " <selenium.webdriver.remote.webelement.WebElement (session=\"d53a5447fac50926cd2b33854ed524d9\", element=\"76fc1b0c-5e84-46ec-b2f8-f63bdb6b692a\")>,\n",
       " <selenium.webdriver.remote.webelement.WebElement (session=\"d53a5447fac50926cd2b33854ed524d9\", element=\"387bfc1a-a529-4306-a1b8-273ac207cb67\")>,\n",
       " <selenium.webdriver.remote.webelement.WebElement (session=\"d53a5447fac50926cd2b33854ed524d9\", element=\"23a8aa83-37d1-4a31-9f0e-d176eb176f25\")>,\n",
       " <selenium.webdriver.remote.webelement.WebElement (session=\"d53a5447fac50926cd2b33854ed524d9\", element=\"c95c61b6-7008-4db8-8af7-ad366e3f6a4b\")>,\n",
       " <selenium.webdriver.remote.webelement.WebElement (session=\"d53a5447fac50926cd2b33854ed524d9\", element=\"26924f21-7d3b-410d-a663-bffa29ab3bda\")>,\n",
       " <selenium.webdriver.remote.webelement.WebElement (session=\"d53a5447fac50926cd2b33854ed524d9\", element=\"a5cd472d-7ddb-43b1-907f-e2474d260245\")>,\n",
       " <selenium.webdriver.remote.webelement.WebElement (session=\"d53a5447fac50926cd2b33854ed524d9\", element=\"1062543e-b81a-43a9-80e0-78174f11090e\")>,\n",
       " <selenium.webdriver.remote.webelement.WebElement (session=\"d53a5447fac50926cd2b33854ed524d9\", element=\"ccb3b83b-ffb5-4867-b5b8-6836a62d1bcc\")>,\n",
       " <selenium.webdriver.remote.webelement.WebElement (session=\"d53a5447fac50926cd2b33854ed524d9\", element=\"beb72b0e-afac-4ae4-b11c-d31ffc96fdfe\")>,\n",
       " <selenium.webdriver.remote.webelement.WebElement (session=\"d53a5447fac50926cd2b33854ed524d9\", element=\"db182272-c9cc-463d-9ef8-7b07ac5c4cee\")>,\n",
       " <selenium.webdriver.remote.webelement.WebElement (session=\"d53a5447fac50926cd2b33854ed524d9\", element=\"8f2a1fc4-2a51-4f95-b86a-f62920784d51\")>,\n",
       " <selenium.webdriver.remote.webelement.WebElement (session=\"d53a5447fac50926cd2b33854ed524d9\", element=\"aaf4767c-f63e-4a7f-a347-42f8dcaf4a03\")>,\n",
       " <selenium.webdriver.remote.webelement.WebElement (session=\"d53a5447fac50926cd2b33854ed524d9\", element=\"7e0c5287-09c4-4c2b-9f6a-f10a7c2edd1b\")>,\n",
       " <selenium.webdriver.remote.webelement.WebElement (session=\"d53a5447fac50926cd2b33854ed524d9\", element=\"a21f0c2e-88e3-41a6-b13a-81a6fe54fd71\")>,\n",
       " <selenium.webdriver.remote.webelement.WebElement (session=\"d53a5447fac50926cd2b33854ed524d9\", element=\"0e0d223f-500e-4eb5-ab3f-061059f719e9\")>,\n",
       " <selenium.webdriver.remote.webelement.WebElement (session=\"d53a5447fac50926cd2b33854ed524d9\", element=\"906d4119-619e-4d22-bf5d-1009099c9e5e\")>,\n",
       " <selenium.webdriver.remote.webelement.WebElement (session=\"d53a5447fac50926cd2b33854ed524d9\", element=\"48243c9e-9789-4965-95cd-922996673ca2\")>,\n",
       " <selenium.webdriver.remote.webelement.WebElement (session=\"d53a5447fac50926cd2b33854ed524d9\", element=\"ef8a7286-b407-481a-b1b3-436f76d94711\")>,\n",
       " <selenium.webdriver.remote.webelement.WebElement (session=\"d53a5447fac50926cd2b33854ed524d9\", element=\"327b25a4-55c4-49e8-8623-fc42ec094853\")>,\n",
       " <selenium.webdriver.remote.webelement.WebElement (session=\"d53a5447fac50926cd2b33854ed524d9\", element=\"4bae5f91-772d-4169-aa64-86da5b1e15ab\")>,\n",
       " <selenium.webdriver.remote.webelement.WebElement (session=\"d53a5447fac50926cd2b33854ed524d9\", element=\"1244fc19-da09-47f4-be73-f0da1b20e595\")>,\n",
       " <selenium.webdriver.remote.webelement.WebElement (session=\"d53a5447fac50926cd2b33854ed524d9\", element=\"dc8a5c86-13fc-46c5-a2aa-fb74e68154e6\")>,\n",
       " <selenium.webdriver.remote.webelement.WebElement (session=\"d53a5447fac50926cd2b33854ed524d9\", element=\"2fc9f3bf-9639-42d0-b25c-e8fcd365c657\")>,\n",
       " <selenium.webdriver.remote.webelement.WebElement (session=\"d53a5447fac50926cd2b33854ed524d9\", element=\"04b9596d-c60f-401b-ae91-d87d093d052c\")>,\n",
       " <selenium.webdriver.remote.webelement.WebElement (session=\"d53a5447fac50926cd2b33854ed524d9\", element=\"358c5f28-0bff-4936-9d81-2a249acddfc7\")>,\n",
       " <selenium.webdriver.remote.webelement.WebElement (session=\"d53a5447fac50926cd2b33854ed524d9\", element=\"3acb3d60-ebd2-436a-be80-e5ef4d183e9a\")>,\n",
       " <selenium.webdriver.remote.webelement.WebElement (session=\"d53a5447fac50926cd2b33854ed524d9\", element=\"3d3463ba-04f0-471e-a7d6-f417af1e496a\")>,\n",
       " <selenium.webdriver.remote.webelement.WebElement (session=\"d53a5447fac50926cd2b33854ed524d9\", element=\"de7fe1f5-43c3-458c-af15-62a38da7c5d6\")>,\n",
       " <selenium.webdriver.remote.webelement.WebElement (session=\"d53a5447fac50926cd2b33854ed524d9\", element=\"aff11674-3cf6-47bc-b17a-397c4cc158c4\")>,\n",
       " <selenium.webdriver.remote.webelement.WebElement (session=\"d53a5447fac50926cd2b33854ed524d9\", element=\"4bd456a0-f7d3-4bf2-be2a-c8eaee57173b\")>,\n",
       " <selenium.webdriver.remote.webelement.WebElement (session=\"d53a5447fac50926cd2b33854ed524d9\", element=\"22dd2b8a-51fc-4f06-8b0c-d9b306f2482c\")>,\n",
       " <selenium.webdriver.remote.webelement.WebElement (session=\"d53a5447fac50926cd2b33854ed524d9\", element=\"2ca15831-a8b8-4c2c-8f2a-1839e279a763\")>,\n",
       " <selenium.webdriver.remote.webelement.WebElement (session=\"d53a5447fac50926cd2b33854ed524d9\", element=\"32ad000f-73f3-455d-a5c8-d6dcabe44bb0\")>,\n",
       " <selenium.webdriver.remote.webelement.WebElement (session=\"d53a5447fac50926cd2b33854ed524d9\", element=\"dbf4ac48-cb1a-4247-b66c-c3970566bc77\")>,\n",
       " <selenium.webdriver.remote.webelement.WebElement (session=\"d53a5447fac50926cd2b33854ed524d9\", element=\"331b75e8-4873-410a-b4db-acbfbd804a34\")>,\n",
       " <selenium.webdriver.remote.webelement.WebElement (session=\"d53a5447fac50926cd2b33854ed524d9\", element=\"044a97b4-db70-41fe-aa7f-ecc12010fda5\")>,\n",
       " <selenium.webdriver.remote.webelement.WebElement (session=\"d53a5447fac50926cd2b33854ed524d9\", element=\"9478d4e7-8db2-4084-b73a-3f383e231970\")>,\n",
       " <selenium.webdriver.remote.webelement.WebElement (session=\"d53a5447fac50926cd2b33854ed524d9\", element=\"72ab93c1-31a3-4bc6-af88-77c2f51239c6\")>,\n",
       " <selenium.webdriver.remote.webelement.WebElement (session=\"d53a5447fac50926cd2b33854ed524d9\", element=\"e65db165-e5b5-49d3-be71-3d113b9c47d6\")>,\n",
       " <selenium.webdriver.remote.webelement.WebElement (session=\"d53a5447fac50926cd2b33854ed524d9\", element=\"a5fc6b32-b91f-4cca-b9b0-6abf2c002829\")>,\n",
       " <selenium.webdriver.remote.webelement.WebElement (session=\"d53a5447fac50926cd2b33854ed524d9\", element=\"0943e1a1-7da8-4ff9-b15a-efd8267935e2\")>,\n",
       " <selenium.webdriver.remote.webelement.WebElement (session=\"d53a5447fac50926cd2b33854ed524d9\", element=\"685ce311-691e-4b59-9b30-61c0a439bb65\")>,\n",
       " <selenium.webdriver.remote.webelement.WebElement (session=\"d53a5447fac50926cd2b33854ed524d9\", element=\"b02a8e36-19bb-4c71-b99b-a51bec2c504f\")>,\n",
       " <selenium.webdriver.remote.webelement.WebElement (session=\"d53a5447fac50926cd2b33854ed524d9\", element=\"e989f01b-73ed-4dc1-a5ec-6ec93c960b07\")>,\n",
       " <selenium.webdriver.remote.webelement.WebElement (session=\"d53a5447fac50926cd2b33854ed524d9\", element=\"05178df6-677f-4fe3-bdc8-3975d3bb3201\")>,\n",
       " <selenium.webdriver.remote.webelement.WebElement (session=\"d53a5447fac50926cd2b33854ed524d9\", element=\"113b49db-3224-4340-8cf1-b261c703389d\")>,\n",
       " <selenium.webdriver.remote.webelement.WebElement (session=\"d53a5447fac50926cd2b33854ed524d9\", element=\"8ae35ff8-bcc5-4bb7-9c9b-1e2f276ae517\")>,\n",
       " <selenium.webdriver.remote.webelement.WebElement (session=\"d53a5447fac50926cd2b33854ed524d9\", element=\"ace90a5c-25b0-45d5-b5b2-76903636c1d9\")>,\n",
       " <selenium.webdriver.remote.webelement.WebElement (session=\"d53a5447fac50926cd2b33854ed524d9\", element=\"9a4b7305-6178-4c07-95a3-0ecf573db893\")>,\n",
       " <selenium.webdriver.remote.webelement.WebElement (session=\"d53a5447fac50926cd2b33854ed524d9\", element=\"288dc9fc-7ec5-4915-8b6b-8806b1a0a291\")>,\n",
       " <selenium.webdriver.remote.webelement.WebElement (session=\"d53a5447fac50926cd2b33854ed524d9\", element=\"aca1d0e0-410f-44f9-81d5-e88049851fad\")>,\n",
       " <selenium.webdriver.remote.webelement.WebElement (session=\"d53a5447fac50926cd2b33854ed524d9\", element=\"1e75150c-d92d-4be5-bce5-d42c9d2dec8a\")>,\n",
       " <selenium.webdriver.remote.webelement.WebElement (session=\"d53a5447fac50926cd2b33854ed524d9\", element=\"d787a514-2d80-4d86-85d0-6ecf17456cde\")>,\n",
       " <selenium.webdriver.remote.webelement.WebElement (session=\"d53a5447fac50926cd2b33854ed524d9\", element=\"2cf10584-6329-48a6-a1ca-0040c4fa0bc8\")>,\n",
       " <selenium.webdriver.remote.webelement.WebElement (session=\"d53a5447fac50926cd2b33854ed524d9\", element=\"07af8197-e227-483d-84da-3e866d7e1ff7\")>,\n",
       " <selenium.webdriver.remote.webelement.WebElement (session=\"d53a5447fac50926cd2b33854ed524d9\", element=\"14da23c9-6044-4838-bb6b-5bb64e39024b\")>,\n",
       " <selenium.webdriver.remote.webelement.WebElement (session=\"d53a5447fac50926cd2b33854ed524d9\", element=\"a8eb9921-eebb-4ad4-9d0f-2e9c8bf0110c\")>,\n",
       " <selenium.webdriver.remote.webelement.WebElement (session=\"d53a5447fac50926cd2b33854ed524d9\", element=\"4af4f2c4-5632-4c84-a8ed-cb581c3e66ff\")>,\n",
       " <selenium.webdriver.remote.webelement.WebElement (session=\"d53a5447fac50926cd2b33854ed524d9\", element=\"f30af634-b86c-4aac-b7f1-e9a69af63d91\")>,\n",
       " <selenium.webdriver.remote.webelement.WebElement (session=\"d53a5447fac50926cd2b33854ed524d9\", element=\"1f76ab9c-0d6f-4b47-8f70-f8f22199a406\")>,\n",
       " <selenium.webdriver.remote.webelement.WebElement (session=\"d53a5447fac50926cd2b33854ed524d9\", element=\"a701225a-fa44-45d6-b42a-6fa83a6b46c5\")>,\n",
       " <selenium.webdriver.remote.webelement.WebElement (session=\"d53a5447fac50926cd2b33854ed524d9\", element=\"af4ef717-81e8-4233-be93-596b62d352de\")>,\n",
       " <selenium.webdriver.remote.webelement.WebElement (session=\"d53a5447fac50926cd2b33854ed524d9\", element=\"de156831-24ec-4775-95e3-cd2ce3403463\")>,\n",
       " <selenium.webdriver.remote.webelement.WebElement (session=\"d53a5447fac50926cd2b33854ed524d9\", element=\"4a402bb3-853e-47c8-af2b-262b6abebe71\")>,\n",
       " <selenium.webdriver.remote.webelement.WebElement (session=\"d53a5447fac50926cd2b33854ed524d9\", element=\"7a084860-63d1-4398-a92e-db43053b2826\")>,\n",
       " <selenium.webdriver.remote.webelement.WebElement (session=\"d53a5447fac50926cd2b33854ed524d9\", element=\"d8f1da1c-6243-4ef4-be7c-b9c307449a92\")>,\n",
       " <selenium.webdriver.remote.webelement.WebElement (session=\"d53a5447fac50926cd2b33854ed524d9\", element=\"e176f5c4-6ef5-4237-9967-3821d8c8a7f7\")>,\n",
       " <selenium.webdriver.remote.webelement.WebElement (session=\"d53a5447fac50926cd2b33854ed524d9\", element=\"5b26e9ea-e47d-48e8-be5a-db69c4ffa7d9\")>,\n",
       " <selenium.webdriver.remote.webelement.WebElement (session=\"d53a5447fac50926cd2b33854ed524d9\", element=\"51353051-f608-47bf-9b6b-8703463e93ed\")>,\n",
       " <selenium.webdriver.remote.webelement.WebElement (session=\"d53a5447fac50926cd2b33854ed524d9\", element=\"e240865f-ef9a-4ca5-bb31-600682e22294\")>,\n",
       " <selenium.webdriver.remote.webelement.WebElement (session=\"d53a5447fac50926cd2b33854ed524d9\", element=\"7f979326-28db-444b-992c-4db1d8aceeae\")>,\n",
       " <selenium.webdriver.remote.webelement.WebElement (session=\"d53a5447fac50926cd2b33854ed524d9\", element=\"0a11496b-b0ed-4e49-a72b-827e3d102121\")>,\n",
       " <selenium.webdriver.remote.webelement.WebElement (session=\"d53a5447fac50926cd2b33854ed524d9\", element=\"70b7a41a-024c-4350-be93-aa1c2ce912c9\")>,\n",
       " <selenium.webdriver.remote.webelement.WebElement (session=\"d53a5447fac50926cd2b33854ed524d9\", element=\"6ca33640-e239-443a-8604-7a83903d3935\")>,\n",
       " <selenium.webdriver.remote.webelement.WebElement (session=\"d53a5447fac50926cd2b33854ed524d9\", element=\"31c7fef9-e5a2-424f-9c9f-9a1e4569dd52\")>,\n",
       " <selenium.webdriver.remote.webelement.WebElement (session=\"d53a5447fac50926cd2b33854ed524d9\", element=\"7d92830d-ffd7-4488-ac6c-6f3de4509915\")>,\n",
       " <selenium.webdriver.remote.webelement.WebElement (session=\"d53a5447fac50926cd2b33854ed524d9\", element=\"96ebabc7-6926-4802-b9a7-05b648f56140\")>,\n",
       " <selenium.webdriver.remote.webelement.WebElement (session=\"d53a5447fac50926cd2b33854ed524d9\", element=\"4ba4d20e-a57f-4196-a9cc-6b0118a7a7e4\")>,\n",
       " <selenium.webdriver.remote.webelement.WebElement (session=\"d53a5447fac50926cd2b33854ed524d9\", element=\"97b4afe0-6067-44c4-b755-46ccecc7b5d7\")>,\n",
       " <selenium.webdriver.remote.webelement.WebElement (session=\"d53a5447fac50926cd2b33854ed524d9\", element=\"fb3a311e-dc16-4d5d-a761-668fa245677f\")>,\n",
       " <selenium.webdriver.remote.webelement.WebElement (session=\"d53a5447fac50926cd2b33854ed524d9\", element=\"add28773-d0c8-4b05-a498-0c39419c7104\")>,\n",
       " <selenium.webdriver.remote.webelement.WebElement (session=\"d53a5447fac50926cd2b33854ed524d9\", element=\"365b585d-95a6-4507-81f8-b9d986077c1a\")>,\n",
       " <selenium.webdriver.remote.webelement.WebElement (session=\"d53a5447fac50926cd2b33854ed524d9\", element=\"c22f726e-c23e-462a-89c4-b98a4e0f2381\")>,\n",
       " <selenium.webdriver.remote.webelement.WebElement (session=\"d53a5447fac50926cd2b33854ed524d9\", element=\"fc002769-accb-4877-af4f-562c3364c90c\")>,\n",
       " <selenium.webdriver.remote.webelement.WebElement (session=\"d53a5447fac50926cd2b33854ed524d9\", element=\"5e5dbe1d-3de5-4587-aecd-c64c5e50d16b\")>,\n",
       " <selenium.webdriver.remote.webelement.WebElement (session=\"d53a5447fac50926cd2b33854ed524d9\", element=\"15f23073-79ef-4c3d-9d7f-46a5104c0ecc\")>,\n",
       " <selenium.webdriver.remote.webelement.WebElement (session=\"d53a5447fac50926cd2b33854ed524d9\", element=\"c5683255-7818-44f6-a449-e037fd51c3bd\")>,\n",
       " <selenium.webdriver.remote.webelement.WebElement (session=\"d53a5447fac50926cd2b33854ed524d9\", element=\"2cdb8dcc-eaa4-4639-86dc-a7251f3b3c3d\")>,\n",
       " <selenium.webdriver.remote.webelement.WebElement (session=\"d53a5447fac50926cd2b33854ed524d9\", element=\"bfe9c32d-4bf4-44c9-ae53-d5367d40db9a\")>,\n",
       " <selenium.webdriver.remote.webelement.WebElement (session=\"d53a5447fac50926cd2b33854ed524d9\", element=\"0759e31e-4168-4e19-8df0-101134ad717e\")>,\n",
       " <selenium.webdriver.remote.webelement.WebElement (session=\"d53a5447fac50926cd2b33854ed524d9\", element=\"c3877cab-642e-4609-bddb-a218cc290bd3\")>,\n",
       " <selenium.webdriver.remote.webelement.WebElement (session=\"d53a5447fac50926cd2b33854ed524d9\", element=\"e8137d5c-91af-48a4-a3ec-41ce236d2448\")>,\n",
       " <selenium.webdriver.remote.webelement.WebElement (session=\"d53a5447fac50926cd2b33854ed524d9\", element=\"0f7ca7c5-0c10-440f-aa35-b1dd136b3125\")>,\n",
       " <selenium.webdriver.remote.webelement.WebElement (session=\"d53a5447fac50926cd2b33854ed524d9\", element=\"fdf6f6a4-a271-485b-be57-63e43739f515\")>,\n",
       " <selenium.webdriver.remote.webelement.WebElement (session=\"d53a5447fac50926cd2b33854ed524d9\", element=\"bf6ca327-73a5-434b-9df5-d2d453cfd587\")>,\n",
       " <selenium.webdriver.remote.webelement.WebElement (session=\"d53a5447fac50926cd2b33854ed524d9\", element=\"8c48c676-bfbf-4d5d-a87e-864a46575ed9\")>,\n",
       " <selenium.webdriver.remote.webelement.WebElement (session=\"d53a5447fac50926cd2b33854ed524d9\", element=\"81fd1294-0bcc-4efc-8512-b34eb343f904\")>,\n",
       " <selenium.webdriver.remote.webelement.WebElement (session=\"d53a5447fac50926cd2b33854ed524d9\", element=\"800c9f16-c98e-4235-bc1a-7c4e48646997\")>,\n",
       " <selenium.webdriver.remote.webelement.WebElement (session=\"d53a5447fac50926cd2b33854ed524d9\", element=\"94b4a9d7-7cff-4c4c-8311-ead1c0a50ee4\")>,\n",
       " <selenium.webdriver.remote.webelement.WebElement (session=\"d53a5447fac50926cd2b33854ed524d9\", element=\"f1e92d68-b3f7-477e-a936-1c9528818a33\")>,\n",
       " <selenium.webdriver.remote.webelement.WebElement (session=\"d53a5447fac50926cd2b33854ed524d9\", element=\"f197445f-0960-41c2-b93a-4f75615d10c4\")>,\n",
       " <selenium.webdriver.remote.webelement.WebElement (session=\"d53a5447fac50926cd2b33854ed524d9\", element=\"17893bd4-bb6b-45e9-afec-b4cecbc92e0e\")>,\n",
       " <selenium.webdriver.remote.webelement.WebElement (session=\"d53a5447fac50926cd2b33854ed524d9\", element=\"16560099-0e7d-4b2f-bd31-bf67e3b10c0e\")>,\n",
       " <selenium.webdriver.remote.webelement.WebElement (session=\"d53a5447fac50926cd2b33854ed524d9\", element=\"92f2a485-b221-4636-9bcf-7d334209341f\")>,\n",
       " <selenium.webdriver.remote.webelement.WebElement (session=\"d53a5447fac50926cd2b33854ed524d9\", element=\"96b8d111-8a43-4b37-ac1b-927b87a5a29e\")>,\n",
       " <selenium.webdriver.remote.webelement.WebElement (session=\"d53a5447fac50926cd2b33854ed524d9\", element=\"f3f9c9ed-743e-45cb-9db6-6f356258625e\")>,\n",
       " <selenium.webdriver.remote.webelement.WebElement (session=\"d53a5447fac50926cd2b33854ed524d9\", element=\"b91ff4b1-1635-47f5-a0d0-d59946115206\")>,\n",
       " <selenium.webdriver.remote.webelement.WebElement (session=\"d53a5447fac50926cd2b33854ed524d9\", element=\"db47a531-eab5-4372-8cf7-a39393dd24fe\")>,\n",
       " <selenium.webdriver.remote.webelement.WebElement (session=\"d53a5447fac50926cd2b33854ed524d9\", element=\"e649f185-9641-46b7-95e2-f7d49cb52a13\")>,\n",
       " <selenium.webdriver.remote.webelement.WebElement (session=\"d53a5447fac50926cd2b33854ed524d9\", element=\"d8161469-c096-455a-bddf-4237c6b8b8af\")>,\n",
       " <selenium.webdriver.remote.webelement.WebElement (session=\"d53a5447fac50926cd2b33854ed524d9\", element=\"89bbca68-cfb1-4c7a-b879-b9663b420742\")>,\n",
       " <selenium.webdriver.remote.webelement.WebElement (session=\"d53a5447fac50926cd2b33854ed524d9\", element=\"7dc7de18-8887-4f57-b1f3-cac246e20459\")>,\n",
       " <selenium.webdriver.remote.webelement.WebElement (session=\"d53a5447fac50926cd2b33854ed524d9\", element=\"1ba91e94-1278-46a8-a5bc-070f0939b761\")>,\n",
       " <selenium.webdriver.remote.webelement.WebElement (session=\"d53a5447fac50926cd2b33854ed524d9\", element=\"e9b873d4-dd26-415a-9d51-f91c1616e754\")>,\n",
       " <selenium.webdriver.remote.webelement.WebElement (session=\"d53a5447fac50926cd2b33854ed524d9\", element=\"e1270c71-db28-4139-a6dc-fb51230820ff\")>,\n",
       " <selenium.webdriver.remote.webelement.WebElement (session=\"d53a5447fac50926cd2b33854ed524d9\", element=\"90a80036-6334-406b-ac26-c288ae77e48a\")>,\n",
       " <selenium.webdriver.remote.webelement.WebElement (session=\"d53a5447fac50926cd2b33854ed524d9\", element=\"dc7d56b9-1a5f-4be5-8a6c-459bbd18d4ed\")>,\n",
       " <selenium.webdriver.remote.webelement.WebElement (session=\"d53a5447fac50926cd2b33854ed524d9\", element=\"35a06ddc-ccb7-4cc0-bc7e-c8d17d692edd\")>,\n",
       " <selenium.webdriver.remote.webelement.WebElement (session=\"d53a5447fac50926cd2b33854ed524d9\", element=\"7fbcf294-82d9-4f55-aeb1-2a6e49b78620\")>,\n",
       " <selenium.webdriver.remote.webelement.WebElement (session=\"d53a5447fac50926cd2b33854ed524d9\", element=\"2c08d933-f5da-4d5f-b2ae-aefa601b192c\")>,\n",
       " <selenium.webdriver.remote.webelement.WebElement (session=\"d53a5447fac50926cd2b33854ed524d9\", element=\"aed1a996-e988-499f-82e8-9d6494a71d99\")>,\n",
       " <selenium.webdriver.remote.webelement.WebElement (session=\"d53a5447fac50926cd2b33854ed524d9\", element=\"e1c8d600-2846-425d-92be-a1840f0b2321\")>,\n",
       " <selenium.webdriver.remote.webelement.WebElement (session=\"d53a5447fac50926cd2b33854ed524d9\", element=\"cc2a1356-7f8c-4f56-9d90-369d334a94db\")>,\n",
       " <selenium.webdriver.remote.webelement.WebElement (session=\"d53a5447fac50926cd2b33854ed524d9\", element=\"aec4cd09-549e-4b1a-af57-45d91b636371\")>,\n",
       " <selenium.webdriver.remote.webelement.WebElement (session=\"d53a5447fac50926cd2b33854ed524d9\", element=\"79f00baa-67fd-4275-8999-6d877a31cc8d\")>,\n",
       " <selenium.webdriver.remote.webelement.WebElement (session=\"d53a5447fac50926cd2b33854ed524d9\", element=\"be51dd74-ae02-4704-8b51-757c873488ef\")>,\n",
       " <selenium.webdriver.remote.webelement.WebElement (session=\"d53a5447fac50926cd2b33854ed524d9\", element=\"4f25cf3b-67e2-4dfe-91b4-4ed5df42b642\")>,\n",
       " <selenium.webdriver.remote.webelement.WebElement (session=\"d53a5447fac50926cd2b33854ed524d9\", element=\"ac92a123-5918-4f10-bf45-8ce7fdf7f95e\")>,\n",
       " <selenium.webdriver.remote.webelement.WebElement (session=\"d53a5447fac50926cd2b33854ed524d9\", element=\"4c6a9041-0336-4684-8d7e-5ab8d873a77b\")>,\n",
       " <selenium.webdriver.remote.webelement.WebElement (session=\"d53a5447fac50926cd2b33854ed524d9\", element=\"5534c66a-4fa8-47b8-ac11-4f683c526bf7\")>,\n",
       " <selenium.webdriver.remote.webelement.WebElement (session=\"d53a5447fac50926cd2b33854ed524d9\", element=\"87e9b6c2-3a98-4dd5-b59b-fcc5272243fb\")>,\n",
       " <selenium.webdriver.remote.webelement.WebElement (session=\"d53a5447fac50926cd2b33854ed524d9\", element=\"2ab33a79-11d4-44df-a86f-a541e1e69b4e\")>,\n",
       " <selenium.webdriver.remote.webelement.WebElement (session=\"d53a5447fac50926cd2b33854ed524d9\", element=\"ca472190-7e4c-4f3d-a3ed-16efdcbec00a\")>,\n",
       " <selenium.webdriver.remote.webelement.WebElement (session=\"d53a5447fac50926cd2b33854ed524d9\", element=\"3ffe65ea-bdcc-481f-912c-0083bac5bac8\")>,\n",
       " <selenium.webdriver.remote.webelement.WebElement (session=\"d53a5447fac50926cd2b33854ed524d9\", element=\"bd21829b-5120-4c85-b77f-0c831c8b9877\")>,\n",
       " <selenium.webdriver.remote.webelement.WebElement (session=\"d53a5447fac50926cd2b33854ed524d9\", element=\"f6651eb7-f4c2-4ca0-a29f-81592b6b73d8\")>,\n",
       " <selenium.webdriver.remote.webelement.WebElement (session=\"d53a5447fac50926cd2b33854ed524d9\", element=\"4e31d421-727c-42ed-a72c-e0f36590b71b\")>,\n",
       " <selenium.webdriver.remote.webelement.WebElement (session=\"d53a5447fac50926cd2b33854ed524d9\", element=\"59ba1300-f5f5-4cd3-9ba9-e5b64514f195\")>,\n",
       " <selenium.webdriver.remote.webelement.WebElement (session=\"d53a5447fac50926cd2b33854ed524d9\", element=\"b813a1bb-2e14-4d51-ae66-8b9a8d513be8\")>,\n",
       " <selenium.webdriver.remote.webelement.WebElement (session=\"d53a5447fac50926cd2b33854ed524d9\", element=\"57baa127-385c-4e3e-9387-214e5db0dae5\")>,\n",
       " <selenium.webdriver.remote.webelement.WebElement (session=\"d53a5447fac50926cd2b33854ed524d9\", element=\"e9478aa3-41cc-4fbe-8332-eadcd170cb27\")>,\n",
       " <selenium.webdriver.remote.webelement.WebElement (session=\"d53a5447fac50926cd2b33854ed524d9\", element=\"9b7848a8-1c6b-4cb5-8024-891c18727113\")>,\n",
       " <selenium.webdriver.remote.webelement.WebElement (session=\"d53a5447fac50926cd2b33854ed524d9\", element=\"152207ae-6a0d-4318-a1fd-3448b610ca69\")>,\n",
       " <selenium.webdriver.remote.webelement.WebElement (session=\"d53a5447fac50926cd2b33854ed524d9\", element=\"e6391b80-e5cc-40be-ac15-ab6053243b9d\")>,\n",
       " <selenium.webdriver.remote.webelement.WebElement (session=\"d53a5447fac50926cd2b33854ed524d9\", element=\"bf455de9-5f47-40a2-a2f5-9e83641a494f\")>,\n",
       " <selenium.webdriver.remote.webelement.WebElement (session=\"d53a5447fac50926cd2b33854ed524d9\", element=\"004dc352-7c6a-4017-80f8-d8a4c48239be\")>,\n",
       " <selenium.webdriver.remote.webelement.WebElement (session=\"d53a5447fac50926cd2b33854ed524d9\", element=\"a0e0bfa9-304c-4b0a-b7b1-335f55e5658c\")>,\n",
       " <selenium.webdriver.remote.webelement.WebElement (session=\"d53a5447fac50926cd2b33854ed524d9\", element=\"8220d9a3-f240-472d-85ed-d64bc4a48ab6\")>,\n",
       " <selenium.webdriver.remote.webelement.WebElement (session=\"d53a5447fac50926cd2b33854ed524d9\", element=\"e1040760-2f75-44bd-a52b-9cc5dc68bb2f\")>,\n",
       " <selenium.webdriver.remote.webelement.WebElement (session=\"d53a5447fac50926cd2b33854ed524d9\", element=\"63048c23-bae7-47ed-a861-2944994d3675\")>,\n",
       " <selenium.webdriver.remote.webelement.WebElement (session=\"d53a5447fac50926cd2b33854ed524d9\", element=\"83e948b0-902f-42d8-93cf-d5fef98d0bbd\")>,\n",
       " <selenium.webdriver.remote.webelement.WebElement (session=\"d53a5447fac50926cd2b33854ed524d9\", element=\"6a2baf0b-1146-453e-8c9c-1f9d2eab9494\")>,\n",
       " <selenium.webdriver.remote.webelement.WebElement (session=\"d53a5447fac50926cd2b33854ed524d9\", element=\"bcd1b901-d569-4eea-bb23-dc45cc941a45\")>,\n",
       " <selenium.webdriver.remote.webelement.WebElement (session=\"d53a5447fac50926cd2b33854ed524d9\", element=\"d598888e-c35b-4646-8134-206c3c114039\")>,\n",
       " <selenium.webdriver.remote.webelement.WebElement (session=\"d53a5447fac50926cd2b33854ed524d9\", element=\"1577d028-01ef-43f1-9732-7ac29619221b\")>,\n",
       " <selenium.webdriver.remote.webelement.WebElement (session=\"d53a5447fac50926cd2b33854ed524d9\", element=\"60fedbcf-91eb-4313-9d54-ccd9bdd229b4\")>,\n",
       " <selenium.webdriver.remote.webelement.WebElement (session=\"d53a5447fac50926cd2b33854ed524d9\", element=\"ea103006-4364-4f23-9d3b-461db6b0df9d\")>,\n",
       " <selenium.webdriver.remote.webelement.WebElement (session=\"d53a5447fac50926cd2b33854ed524d9\", element=\"ccd6231e-192e-4891-a016-47002c0e2a8c\")>,\n",
       " <selenium.webdriver.remote.webelement.WebElement (session=\"d53a5447fac50926cd2b33854ed524d9\", element=\"1134d61c-ca71-41c7-9127-bb3a3773f88b\")>,\n",
       " <selenium.webdriver.remote.webelement.WebElement (session=\"d53a5447fac50926cd2b33854ed524d9\", element=\"88c3c944-20bd-4286-87b1-0be15ad20fe1\")>,\n",
       " <selenium.webdriver.remote.webelement.WebElement (session=\"d53a5447fac50926cd2b33854ed524d9\", element=\"8602e762-e5d7-4586-ae61-3f810f3e3957\")>,\n",
       " <selenium.webdriver.remote.webelement.WebElement (session=\"d53a5447fac50926cd2b33854ed524d9\", element=\"61d6db2f-fe7a-4a66-8414-3630cec248b3\")>]"
      ]
     },
     "execution_count": 309,
     "metadata": {},
     "output_type": "execute_result"
    }
   ],
   "source": [
    "comment_tag=driver.find_elements_by_xpath('//yt-formatted-string[@class=\"style-scope ytd-comment-renderer\"]')\n",
    "comment_tag"
   ]
  },
  {
   "cell_type": "code",
   "execution_count": 310,
   "metadata": {},
   "outputs": [
    {
     "name": "stdout",
     "output_type": "stream",
     "text": [
      "500\n",
      "['', 'Sensual mind\\nNegative mind\\nSlothful mind\\nUnsettled mind', '', '“You can either experience the pain of discipline or the pain of regret. The choice is yours.”  – ❤️🔥', '', \"Plot twist : The background music isn't edited\\n..it just plays on whenever he speaks\", '', 'Love the way he ended his speech. *If any of you choose to climb the path of Clarity.... I will be glad to meet u at the peak*👌', '', 'Collecting experience is the most important thing in the life.', '', \"Apparently, when you're a Shaolin monk, awesome music emanates from the surroundings whenever you speak.\", '', 'Q: How do I skip past the journey and get to the answer?\\n\\nMonk: there is no answer, there is only the journey', '', 'His drip is on another level man.', '', 'Wishing all 10M viewers a good start of their journey to a better life ! ☺️', '', 'Damn these monks, the way they talk. They make it easy to understand, perfectly calm and clear.', '', 'Took some notes for myself and now sharing them for anyone who might find them valuable :)\\n5 Hindrances to Self-Mastery\\n1. Sensual desire (sight/touch/taste/smell/hearing) = Am I addicted?\\n2. Ill will / aversion = Am I feeling a negative emotion?', '', 'I mean lord forgive me but he’s sooooo handsome the way he carry himself 🥰', '', '\"All of our lives are too unique to copy the path from someone else\"', '', 'These men radiate a different aura even from the screen', '', 'Plot twist : he’s the last avatar', '', 'He never said “um” or “so,” any other filler words/sounds. Amazing.', '', 'I almost cried when he started explaining the 5 hindrances bcs I have each and every thing....and then the last line gave me so many goosebumps I’m still shuddering.\\nI hope we can all make it to the peak, and I wish to sit down with everyone up there and have some tea as we watch the sunlight pierce the night sky with its paintbrush, and paint a picture of peace. 💗 🌄', '', 'Did anyone notice what he said in the end.. He sounded like a mysterious man who came to the Ted show just to advice the misguided  \"If you choose to climb, I will be happy to see you at the peak\"', '', \"Be mindful, if you have ADHD, OCD, other issues, the journey to the top of the mountain might be different for you. I spent years beating myself up with videos like this. It's not false information, it just took other approaches to make this kind of information actually come alive.\", '', 'I waited for him to open a portal with his hands like the scorcerers from Dr. Strange', '', 'School teaches you lessons, then gives you a test..\\nLife gives you a test, which teaches you a lesson.', '', 'Anyone else think he is a beautiful man, inside and out 😍', '', 'He\\'s got that awesome presence on Stage. Everybody is listening carefully and absorbing the Content.\\nNo \"ehms\" and no pauses that feel uncomfortable.\\nWords that are stomped in into your Brain.', '', '“Unsettled mind means your mind cannot settle”\\n\\nThat was deep', '', 'I like how he never gives you the answer to your problems. He just points you at the direction you should be going.\\n\\nGo up. Your objective is to reach the peak. Find a way out of these hindrances and continue your journey.', '', 'You are a true enlighten master when you can withstand unbearable music playing 24/24 without flinching', '', 'Imagine if everyone practiced this, if everyone had that training... what would the world look like? What would people do?', '', '\"All of our lives are too unique to copy the past of someone else.\" - Master Shi Heng Yi', '', 'This was a boss Ted talk. Good luck to everyone trying to master this!!!!', '', '\"it is to enjoy your life even doing nothing\"', '', 'LET IT RAIN!', '', 'Now that needed a standing ovation... awsome mind', '', 'And then he snaps his fingers and disappears in the mist leaving the audience to wonder if it was all a dream...', '', '“Enjoy your time even when doing nothing”', '', 'I was depressed for 20 years looking for answers from the universe and whatever this monk said perfectly resonated 🙏🏻🙏🏻🙏🏻thank yu', '', 'His voice very calming, I believe he keep his flying bison somewhere', '', \"I would guess that the journey doesn't end when one reaches the peak.\", '', 'This is what I imagine grown-up Aang looks like 🤍', '', 'Wow, is he handsome. And his energy.', '', '\"Non Identification => I am not my Body, Mind ,Emotion . Its just that I can see all these 3 aspects about myself - Master Shi Heng \".   This TedX have a significant impact to me personally. Beautiful. The calmness in his voice itself is a clarity.', '', 'This guy never says “um” or “uh” and that’s probably the craziest thing about this video', '', 'since this video was posted a year ago i keep coming back here and everytime i learn something different. the best TED by a mile', '', 'Straight Facts About Asian Parents!!💯💯', '', 'Him : what is the hindrance that stops you?\\nMe : Yes', '', 'If You Can Give Someone A Small Happiness It Means You Are A Richest Person In This World 💓 🙏', '', 'Mastering others is strength. Mastering yourself is true power.\\n\\n- Lao Tzu', '', \"Well damn, I tick all 5 of those boxes. But I'll still see ya at the peak, my cousins!!\", '', 'This man literally giving us the Universal secrets to a fulfilled life!', '', '(14:49) \"When the way is filled with too much doubts, more often you will stop instead of moving on.\"', '', '\"I am not the body, I am not the mind, I am not my emotions.\" 🌋', '', 'I swear, Shaolin monks look like most peaceful and most deadly people at the same time.', '', 'my homie rocking the lvl. 100 legendary monk armor drip. he fresh af', '', \"I'm not sure if this dude can help it, but he's the master of The Rock eyebrow\", '', 'stay with the talk, at the end it makes sense, for me it was really helpful.', '', 'I had to lower my screen brightness, because of the aura this monk was eminating.', '', 'He is a humble man that can kick our asses and later he would pay the hospital bills too and become your friend.', '', 'While watching this I was holding back tears, and at the same time imagining the whole crowd storming the stage while he defeats each and every one of them methodically whooping their asses.  What is wrong with me? 😅', '', '\"I can see all these aspects about me.\"', '', \"I love how he runs out of speaking time and he remains calm and goes ahead like it's his own show.\\nthank you for that wonderful talk\", '', \"All of our lifetimes, all of our lives are too unique to copy the path from someone else. To bring meaning to your life, to bring value into your life, you need to learn and master yourself, and don't let the hindrances stop you.\", '', 'Master Shi: the only man with a more epic eyebrow raise than Dwayne Johnson.', '', 'The world as we have created it is a process of our thinking. It cannot be changed without changing our thinking. ❤️', '', '\"All of our lives are too unique to copy the path from someone else\".', '', 'literally got chills when he said \"Let it RAIN\"', '', 'I love his calm and awareness.\\n\\nTruly inspiring.', '', '\"I am not the body. I am not the mind. I am not my emotion.\" \\nThank you for that sir.', '', 'So profound, what a reality check from such a brilliant mind.', '', 'I wish my parents were like this monk and had actually peace serenity and truly was able to teach me the right things for my journey of growing up. I learned one thing from just their actions. Stay with your children and actually teach them the ways of life but still letting them to be kids. My parents either was always leaving me and my siblings. And pushing us to be watched and taken care of by others who were always angry.', '', 'I want to meet this guy , listening to him was so peaceful and he is so disciplined and has direct aiming', '', \"Never want this talk to end...\\nEven if the video stops I'll try to ignite it within me\", '', 'Discipline always look so good on people. Very powerful aura...', '', 'When I listened to this for the first time, I realized how I had not just waited long at the restaurant but also got settled at the place.  I am happy to having moved on ever since.', '', 'I like to meditate with his talk . I focus on each of the hindrances. I meditate how they apply to myself . When I am done those thoughts stay with me . At least for me this has become very powerful', '', 'This is the most important information that was ever delivered to me in my life and im 43. Ive been at a stop. I believe its time i climb. Must respect to you Master and thank you much!', '', 'I wish I can have a personal conversation with this dude..', '', '\"All our lifetimes are too unique to copy the path of someone else\"', '', 'His vigour represents his tremendous deciplined practice.', '', \"I don't know why Hotel California came up with my mind When he said Sensual desire and described that you found a restaurant on your way to the mountain, lol\", '', 'The way he speaks is so soothing', '', 'Does the background music come with this TedTalk?  The audience is blessed.', '', '\"All of our lives are too unique to copy the path from someone else\".', '', \"Thank you, Shi Heng Yi\\nThis is the best TED talk , I've been ever  watched.\", '', 'Guys I have left this video more enlightened than when I arrived. Namaste 🙏.', '', '\"the rocks\" eyebrow is strong with this one', '', \"I'm on a journey of finding myself currently and this talk just sent me 11 steps in the right direction. 💜\", '', 'If you came to the comments looking to get an idea of what this talk was about, don’t be like the man asking other travelers about what they observed at the top of the mountain.\\n\\nWatch the video and gain your own clarity.', '', 'I cried from beginning to the end. Feel so resonated. Thank you Shifu.', '', 'What an amazing session he presented. No filler words at all. Clearly demonstrated we are always in a rush while speaking which can blur our thoughts thus force us to use the fillers. Secondly, during any obstacle you feel if you characterize what hindrance it falls under, you can work to overcome it. Everyone charts their own path and you should too. ...', '', 'That story he told from his master has tremendous meaning within it. \\nPeople only look into the word but that just creates the image in our mind. We don’t observe deeply enough to find truth.', '', 'Whenever i drive to anger, i simply watch this video.. It really makes settle to unsettle mind♥️i see clarity automatically.. He is so calm 😊and his words are like chill air touching to your cheeks.. And feels you refresh every time 😍', '', 'This person has invested a lot of patience and time training himself. His presence shows strength.', '', 'His thoughts are extremely composed in his 9th language or however many. I like this Ted talk and was a nice change of pace', '', \"I don't know how else to put this so....\\n\\nnailed it. just nailed it amazing advice. just let it rain. not worth stressing about.\", '', 'This video has just changed my life forever.. thank you!', '', 'Is it appropriate to say that he is handsome (at least for me ) ?', '', 'I really love the way he completely ignores the timer on the stage after it hit zero..', '', 'Somebody give this man OSCAR', '', \"God I hope someone didn't just add that music later. It sure sounds like it.\", '', 'Shi Heng: \"My master once told me a story,\"\\nMe: \"0.0 Please, go on.\"', '', 'Great speech, great music, the only thing missing are the bamboo leaves falling.', '', 'One stoic quote goes well with this talk. \\n\\n“Don’t demand that things happen as you wish, but wish that they happen as they do happen, and you will go on well.” - Epictetus', '', 'In regards to when Master Shi Heng Yi was mentioning that you cannot share clarity while being alone at the top, I think he forgot about markers,  paint pens, and flags.', '', 'This was a beautiful talk and something I needed to hear. Btw why does this audience look so unmoved though lol', '', 'He didn’t about hindrance number 6, don’t let the TED clock reaching zero stop you from talking.', '', 'You\\'re brave than you believe , stronger than you seem, smarter than you think.\"', '', '“A true master, is an eternal student”', '', 'The most powerful talk I ever heard on Self Mastery. Thank you.', '', \"At the Mountain Peak, we find ourselves (there's clarity). So his ending sentence means that WE ARE ONE. When you find yourself, you find him. Wisdom!\", '', \"Made me cry with laughter and inner peace. That's Wazzzup!\", '', 'No two paths are the same. Master Yi has his path to climb the mountain. I have my path to climb the mountain. His path maybe on the other side of the mountain from mine. Same mountain different paths. See you at the top of the mountain Master Yi with all others that have made it there as well.  🏞️', '', 'this guy has an aura of confidence around him', '', 'This was one of the best tedtalks I have watched ❤', '', 'He needed a drink of water.', '', 'He is what I aspire to be .. this was amazing this has to be my favorite talk so far', '', 'Damn that gave me the chills, if you decide to climb the mountain I’d be glad to meet you at the peak... the real master, sifu...', '', \"He's gonna start air bending at some point of this video, I just know it\", '', 'I AM NOT THE BODY!\\nI AM NOT THE MIND!!\\nI AM NOT MY EMOTION!!!', '', \"The eyebrows don't lie. He's clearly Dwayne Johnson out of his muscles.\", '', 'The fact that all 5 hindrances have been preventing me from being a normal teenager with a normal amount of friends frightens me.', '', 'so, post-nut clarity is a cheat straight to the peak.', '', 'When he said: \" I am not my body. I am not my mind. I am not my emotions. \" i felt baptized. 💛🙌💫', '', \"Three decades? That's a great many dogs.\", '', 'I love his wisdom. You can learn anything from a shaolin monk.', '', 'His soft and reliable voice calms me a lot!', '', 'The gist is:  \"I am not the body, I am not the mind, I am not my emotions, It\\'s just that I can see all these three aspects about me ...\"  (the divine essence and awareness that are inside us that observes and watches the monkey mind ....)', '', '\"All of our lives are too unique to copy the path from someone else.\"', '', 'He never said \"OK\", I love him.', '', 'The music compliments his speech!', '', 'Well, this master looks quite like the sub actor of Bruce lee, who stars in the IP MAN 4', '', '3:50 such images of experience, to be a wise man in the present by several valuable deeds and scenes', '', '5.1k dislikes from people who never made it to the peak of the mountain 🤦\\u200d♂️😂', '', 'For when he appears, we shall be like him. For we shall see Him as He is. He who has this hope in Him purifies Himself, just as He is pure.', '', 'The background music has perfectly suited with the talk of the master shaolin.', '', '\"the first rule of FightClub is... \" (sorry I couldn\\'t resist) lol', '', 'The 5 hindrances are precisely those aspects of ourselves we learn to fight when practising martial arts.\\nThat is what is meant by the \"do\": climbing your own mountain, going your own path. \\nI practise since 20 years but never could put the finger on that philosophical interpretation, thank you so much !!', '', '\"If any of you chooses to climb that path to clarity, I will be happy to meet you at the peak.\" \\nI\\'ve never heard anything so confident ever before in my life. \\nBest Ted Talk I\\'ve seen.', '', 'This came into my timeline at the right time. Thank you so much for sharing your insight, experience and knowledge.', '', 'Outstanding! I felt very emotional while listening.', '', 'What bone structure as an artist I have trained to look.', '', 'Really admire him! Thank you', '', 'As a german i can hear his german accent, what a wonderful time to be alive!  A german chinese shaolin teaching me something about self mastery in english! <3', '', 'This made me feel some type of way I can’t explain 🚶🏽\\u200d♂️', '', 'He speaks of those simple concepts like to recognize that \"I am not the body...\"\\nThat state takes years and decades to internalize.', '', 'Love this thought provoking way of looking at one self! Thank You. God Bless', '', 'Thank you, Master Shi Heng Yi for this amazing talk!!', '', '“All of our lifetimes, all of our lives are too unique to copy the path from someone else”', '', 'One of the greatest speeches I have listened to on YouTube....', '', 'The way he talks reminds me of Bruce Lee.  Love it!', '', 'To protect and serve and guard the monastery at all times she Heng Yi does.', '', '8:32 That sensual hinderance tho.', '', 'This should be a mandatory class in every grade of school.', '', '‘I will be very happy to meet you at the peak’ ❤️', '', 'This must be the most quiet and attentive TED audience ever. What a blossomed being <3', '', 'Thank you for bringing this to me, all the energies involved, I am indebted 🙏', '', \"wow, I'm surprised at how much I loved this talk and this message. I identified alot with this. Thank you for the information\", '', 'Do you guys even notice how he didn’t care about the chrono time, he wanted to finish his message and he did it we such respect and calm. \\nStay bless people.', '', 'This was amazing and really powerful. Thank you.', '', 'I expected: ,,When I was four and get my first college degree”', '', 'its hard in this era, that we are always running to stop for a second to think', '', 'Thank you for uploading this video, this is really helping me shift my mindset and attempt to achieve my own form of self-mastery', '', 'His facial structure is so beautiful', '', 'Outstanding! It is still one of the best TedTalks!', '', 'This representation is so convincing and  full of inspiration. Thank you!', '', 'I love the background music. Gives my Ang the last Airbender vibes ❤️', '', 'As a Christian, I was very moved by his talk. I wonder if his parents are proud of him? I’m glad he found a path that he enjoys. Of the five hindrances he mentioned, that most toxic and spiritually deadly is lust. Oh how my heart aches for have deceived mankind has been deceived by the many faces of temptation. Also, I found “Accep[tance] very potent because a lack of acceptance drives racism and bigotry. Loved his haircut. You can tell he’s badass.', '', 'Mastering others is strength. Mastering yourself is true power.\\n\\n- Lao Tzu', '', 'I find this a great message for these COVID pandemic hindrance days.  Thank you.', '', 'I came back here because I needed it to relax my mind. I love the way he speaks', '', '1. Sensual Desire\\n2. Ill-will\\n3. Heaviness\\n4. Unsettled Mind', '', 'Omg. This man is so cool. I really love this episode', '', 'TED Timer 15 mins in: \"Time\\'s Up\"\\nZen Honey Badger: \"There is no time...\"', '', '\"Seeing clearly\", a simple concept and very powerful but a bit difficult to achive from hinderences. After achiving ,it will keep us independent of others  and  in \"present\" . Really a good talk. Thank you Master Heng.', '', \"My cousin cuts to the chase.\\n\\nMy_Cousin: You don't need to know anything, just do it.\", '', \"I'm barely a minute into this, and I'm like, is the stereotyping, distracting music really necessary?\", '', 'the impact that these people make with their speeches is so profound.', '', 'Never have I ever seen body posture as perfect as his.', '', 'Very Adventa Vedanta at the end. Love it!', '', '\"It is said, a Shaolin priest can walk through walls. Looked for...he can not be seen. Listened for ... he can not be heard. Touched ... can not be felt. This rice paper is the test. Fragile as the wings of the dragon fly, clinging as the cocoon of the silk worm. When you can walk its length and leave no trace. You will have learned.\"', '', 'Thank you for the teaching. Thoroughly enjoyed it, please continue to inspire greatness and clarity in others.', '', 'Very close to the \"Sermon on the Mount\"  - Merci mon ami <3', '', 'I met him personally in Germany last year. Truly a meeting that has left permanent marks on me. The spirit and energy from him is very fascinating.', '', 'This is really amazing. Thank you so much for sharing such knowledge with us. I appreciate it.', '', \"There is so much clarity in his speech, it's amazing\", '', 'Exceptionally well said! Well worth adopting in life! You can hear the peace in his voice, mind and life. Non-cluttered in every aspect!', '', 'What a great human being and person, his discipline is a inspiration. Thank you for sharing.', '', 'Its a shame seeing people in the crowd on their phones.', '', '“Let go one obsession opens another doors, let it be rain and storm the sky is always blue look up towards the horizon may you find peace “\\n- My math teacher God bless his soul.', '', 'thank you for this practical guideline. I will prepare myself and climb up that hill. lets meet at the peak :)', '', 'Absolutely loved the bg music! This video was awesome!', '', 'For different cultures to have exact same words describing their belief is quiet odd.', '', 'The amount of control he displays is phenomenal. He remains calm throughout the entire talk and never gets stuck. Not even with one word. Remarkable.', '', 'I Will See You at The Peak My Friend. Bless You! Namaste!', '', 'i feel so good after hearing  his words!', '', \"I am often amazed by monks' stories, it is rare to find one I have heard before....need to consult their archives\", '', 'Wow, I didn\\'t know, that i\\'m such a \"Master\" of myself.', '', \"Runs out of time.\\nKeeps going without rushing because he's teaching us to overcome hindrances\", '', 'That was amazing!', '', 'I am suffering from years of not-treated depression and anxiety neurosis. After I found out antidepressants and other drugs do not work on me and that the few psychologists I was meeting with, can not really handle the depth and only works on the surface of the problem, I simply got into a vegetative state, just a miserable existence. And then I watched this guy... Funny how one video, 18 minutes, can give you energy and understanding that professionals and months of working with them could not. Great speech, even better human being!', '', 'The moment he said\\nI am not my body\\nI am not the mind\\nI am not my emotion', '', 'Thank you for sharing this wisdom man. May allah bless you', '', 'I feel Master Shi Heng Yi has told me how I can live again my life stopped on the 4th of march 2019 when my wife passed away suddenly. He has just said how to live again not just exist I will follow what I learnt to day and learn to live again .Thank you so much Master shi Heng Yi', '', 'that was really nice actually :) thank you', '', 'When you have no higher purpose in life, you cant guard your mind from emptiness and emptiness or ego makes the mind a cripple and a cripple always needs the world in form of desires.', '', 'Amazing and calming lecture. Thank you Shi Heng Yi.', '', 'Enjoyed this! Thank you! ☀️', '', 'This is not a Ted talk.\\nThis is THE Ted talk.', '', 'First, be a master of yourself by starting to practice meditation.', '', 'There are two mistakes along the way to mastery..\\nNot starting it \\n&\\nNot going all the way !', '', 'Thank you master for you wonderful teaching.I felt happy and I was emotional after watching this and I wanted to thank you master.', '', 'The torpid wool principally grate because experience suddenly sigh worth a plastic patch. accidental, draconian south korea', '', '\"If any of you chooses to climb that path to clarity, I would be very happy to meet you at the peak.\" What a statement. Such a beautiful speech. Thank you sir!', '', '\"All of our lifetimes, all of our lives; are too unique to copy the past from someone else. To bring meaning to your life, to bring value into your life; you need to learn and master your self and don\\'t let the hindrances stop you. If any of you chooses to climb that path to clarity, I will be very happy to meet you at the peak.\"', '', \"This is THE most sense I've heard spoken in a very long time. Peace, wisdom and self belief. Wonderful.🏴\\U000e0067\\U000e0062\\U000e0077\\U000e006c\\U000e0073\\U000e007f\", '', 'Wow, sehr guter Talk, danke fürs Teilen. Grüße aus der Heimat 😃', '', 'This guy feels like still water. Energies under control', '', 'See you  at the peak 🙂 I loved your talk and your calm energy.', '', 'Why my ears are sending this speech to my heart and not brain.', '', 'I appreciate and highly respect this powerful minded man💗Peace and abundance to you, always 🐺', '', 'Love it! Wonderful speech and encouraging philosophy.', '', '\"If you raise your eyebrows while talking, your words will penetrate deep into the hearts of your listeners\"\\n\\nThe Art of War- Sun Tzu.', '', \"One is what one feeds self and love doesn't grow where hatred is fed.\", '', 'The track though 😂', '', 'Wait, i knew all of it for years, without knowing that those were some kind of a Buddhist stuff(?).', '', \"This speech I've watched second time maybe it means I've started my journey to climb that peak but this I would do anything to get to there no matter how long would it take...I wish I knew how to quit all the hindrances he spoke about✒\", '', 'Me: wow hes so good looking\\nHim: GET RID OF THE SENSUAL MIND \\nMe: T_T yes sir', '', '\"align your life.....\"  Self knowledge and evaluation is oh so powerful. I am so very grateful for this reminder. What a beautiful talk, I feel like I need to fill my time with more of THIS 🌱🌱🌱❤️', '', 'Looking at him makes my mind calm', '', 'Thank you for your service and inspiration.', '', 'When he climbs the mountains, the mountains give up', '', '\"Enjoying your time, even doing nothing\"\\nTruth to hapiness. Learn to be happy whenever, wherever with yourself.', '', 'Absolutely beautiful and so powerful. My deepest gratitude for this video. 🙏🏻', '', 'Yep, I have all five. And fear. He left that one out.', '', 'He has to keep his left eye partially closed or his immense amount of chi energy will release and destroy the auditorium.', '', 'I love how these enlightened spirits always drop first that they completed multiple high level educations. It definitely has a ring of arrogance to it to say how clever you are first, before stating its irrelevant to you.', '', 'That moment when you realize you deal with all 5 of them...', '', 'His German accent is wonderful... I am german too and proud he was born in my home country', '', 'lucky for him, his family wasnt his  worst hindrance.', '', 'The dapper scallion relatively melt because boat optionally wash unto a stereotyped gray. undesirable, telling polo', '', 'X1.75 Speed for “Movie” speech like  piece, ✌🏽', '', 'My takeaway from the video\\n\\n1. Studies may not bring happiness and knowledge of self. \\n2. Ancient practices are meant to find self ', '', \"I think I've mastered myself so I'm cool\", '', 'Just keep meditating! 🙏💙', '', 'the depth of your wisdom is a 100 % accurate. beautiful i see my ultimate self as u speak.', '', 'The  frequent viscose expectantly pause because stitch recently punch across a roasted share. physical, fanatical jumbo', '', 'He is so grounded in every way and aspect as he talks, moves, breathes. It is simply wonderful.', '', 'I love the energy i got from him thruough the screen. Spirituality aka life is just amazing', '', 'yaaas, thats it. i love your videos sooo much..i can recommend @t for the best reps ! :)', '', 'i will see you at the peak. thank you for this insight', '', 'I needed this talk TODAY, at this very MOMENT. Thank you for sharing these words of wisdom and helping me see with CLARITY what I must do to achieve it.', '', '\"I am not the body, I am not the mind and I am not my emotion\" -such a powerful thought']\n"
     ]
    }
   ],
   "source": [
    "comment=[]\n",
    "for i in comment_tag[:500]:\n",
    "    comment.append(i.text)\n",
    "print(len(comment)) \n",
    "print(comment)"
   ]
  },
  {
   "cell_type": "code",
   "execution_count": null,
   "metadata": {},
   "outputs": [],
   "source": []
  },
  {
   "cell_type": "code",
   "execution_count": null,
   "metadata": {},
   "outputs": [],
   "source": []
  },
  {
   "cell_type": "markdown",
   "metadata": {},
   "source": [
    "# Answer 10. Write a python program to scrape a data for all available Hostels from https://www.hostelworld.com/ in “London” location. You have to scrape hostel name, distance from city centre, ratings, total reviews, overall reviews, privates from price, dorms from price, facilities and property description."
   ]
  },
  {
   "cell_type": "code",
   "execution_count": 335,
   "metadata": {},
   "outputs": [],
   "source": [
    "driver= webdriver.Chrome('chromedriver.exe')\n",
    "url='https://www.hostelworld.com/'\n",
    "driver.get(url)"
   ]
  },
  {
   "cell_type": "raw",
   "metadata": {},
   "source": [
    "search=driver.find_element_by_xpath('/html/body/div[1]/div/div[1]/div[1]/div[2]/div[2]/form/div/div/input')\n",
    "search.send_keys(smartphone)\n",
    "search_btn=driver.find_element_by_xpath('//button[@class=\"L0Z3Pu\"]').click()\n",
    "search_btn"
   ]
  },
  {
   "cell_type": "code",
   "execution_count": 337,
   "metadata": {},
   "outputs": [],
   "source": [
    "search=driver.find_element_by_xpath('//input[@id=\"location-text-input-field\"]')\n",
    "search.send_keys('London')\n",
    "search_btn=driver.find_element_by_xpath('//button[@id=\"search-button\"]').click()\n",
    "search_btn"
   ]
  },
  {
   "cell_type": "code",
   "execution_count": 350,
   "metadata": {},
   "outputs": [
    {
     "name": "stdout",
     "output_type": "stream",
     "text": [
      "180\n",
      "['1\\n/\\n30', \"St Christopher's Village\", 'Hostel - 1.8km from city centre Show on Map', '8.9\\nFabulous\\n10814 Total Reviews', 'Privates From\\nRs3408\\nDorms From\\nRs1435', 'View', '1\\n/\\n30', 'Generator London', 'Hostel - 3km from city centre Show on Map', '7.5\\nVery Good\\n6729 Total Reviews', 'Privates From\\nRs8571\\nDorms From\\nRs2169', 'View', '1\\n/\\n30', 'Safestay London Kensington Holland Park', 'Hostel - 5.9km from city centre Show on Map', '7.9\\nVery Good\\n1070 Total Reviews', 'Privates From\\nRs4180\\nDorms From\\nRs1022', 'View', '1\\n/\\n30', 'PubLove @ The Crown, Battersea', 'Hostel - 4.7km from city centre Show on Map', '7.9\\nVery Good\\n204 Total Reviews', 'No Privates Available\\nDorms From\\nRs1239', 'View', '1\\n/\\n14', 'Leman House', 'Hostel - 3.6km from city centre Show on Map', 'No Rating\\n13 Total Reviews', 'Privates From\\nRs5577\\nNo Dorms Available', 'View', '1\\n/\\n22', '247london Hostel and Private Rooms', 'Hostel - 8.2km from city centre Show on Map', 'No Rating\\n443 Total Reviews', 'Privates From\\nRs5267\\nNo Dorms Available', 'View', '1\\n/\\n22', 'PubLove @ The Steam Engine, Waterloo', 'Hostel - 0.5km from city centre Show on Map', '8.7\\nFabulous\\n183 Total Reviews', 'Privates From\\nRs8259\\nDorms From\\nRs1549', 'View', '1\\n/\\n16', 'The London Home Hostel', 'Hostel - 3.6km from city centre Show on Map', '7.7\\nVery Good\\n248 Total Reviews', 'Privates From\\nRs4131\\nDorms From\\nRs1632', 'View', '1\\n/\\n29', \"Wombat's The City Hostel London\", 'Hostel - 3.6km from city centre Show on Map', '9.3\\nSuperb\\n13123 Total Reviews', 'Privates From\\nRs7309\\nDorms From\\nRs2866', 'View', '1\\n/\\n30', 'Safestay London Elephant & Castle', 'Hostel - 1.7km from city centre Show on Map', '8.0\\nFabulous\\n3930 Total Reviews', 'Privates From\\nRs12048\\nDorms From\\nRs1022', 'View', '1\\n/\\n15', 'PubLove @ The Green Man, Paddington', 'Hostel - 4.3km from city centre Show on Map', '6.9\\nGood\\n391 Total Reviews', 'Privates From\\nRs6196\\nDorms From\\nRs1549', 'View', '1\\n/\\n27', 'Astor Museum Inn', 'Hostel - 2.2km from city centre Show on Map', '9.6\\nSuperb\\n8706 Total Reviews', 'Privates From\\nRs6540\\nDorms From\\nRs2065', 'View', '1\\n/\\n15', 'PubLove @ The White Ferry, Victoria', 'Hostel - 2.4km from city centre Show on Map', '9.1\\nSuperb\\n128 Total Reviews', 'Privates From\\nRs14871\\nDorms From\\nRs1549', 'View', '1\\n/\\n30', 'Prime Backpackers Angel', 'Hostel - 3.6km from city centre Show on Map', '10\\nSuperb\\n513 Total Reviews', 'Privates From\\nRs6155\\nDorms From\\nRs2443', 'View', '1\\n/\\n29', 'Atlas Hostels', 'Hostel - 4.3km from city centre Show on Map', 'No Rating\\n193 Total Reviews', 'Privates From\\nRs10120\\nNo Dorms Available', 'View', '1\\n/\\n19', 'No.8 Willesden Hostel London', 'Hostel - 10km from city centre Show on Map', '8.8\\nFabulous\\n4558 Total Reviews', 'No Privates Available\\nDorms From\\nRs873', 'View', '1\\n/\\n29', 'SoHostel', 'Hostel - 2km from city centre Show on Map', '9.0\\nSuperb\\n3946 Total Reviews', 'No Privates Available\\nDorms From\\nRs2065', 'View', '1\\n/\\n20', 'Keystone House Kings Cross', 'Hostel - 3.5km from city centre Show on Map', '9.7\\nSuperb\\n8109 Total Reviews', 'Privates From\\nRs4300\\nNo Dorms Available', 'View', '1\\n/\\n15', 'Well Street Hall', 'Bed and Breakfast - 6.7km from city centre Show on Map', 'NEW\\n0 Total Reviews', 'Privates From\\nRs4337\\nNo Dorms Available', 'View', '1\\n/\\n28', 'Clink261', 'Hostel - 3.2km from city centre Show on Map', '10\\nSuperb\\n3165 Total Reviews', 'Privates From\\nRs6165\\nDorms From\\nRs1376', 'View', '1\\n/\\n30', 'Burlington Residence', 'Hostel - 7.1km from city centre Show on Map', '9.7\\nSuperb\\n25 Total Reviews', 'No Privates Available\\nDorms From\\nRs2107', 'View', '1\\n/\\n28', 'London Waterloo Hostel', 'Hostel - 0.7km from city centre Show on Map', '7.8\\nVery Good\\n2399 Total Reviews', 'Privates From\\nRs4601\\nDorms From\\nRs1431', 'View', '1\\n/\\n24', 'Jaeger Acton Hostel', 'Hostel - 10.4km from city centre Show on Map', '9.5\\nSuperb\\n878 Total Reviews', 'Privates From\\nRs4819\\nNo Dorms Available', 'View', '1\\n/\\n29', 'Astor Hyde Park', 'Hostel - 4.3km from city centre Show on Map', '9.2\\nSuperb\\n11320 Total Reviews', 'Privates From\\nRs6368\\nDorms From\\nRs2341', 'View', '1\\n/\\n14', 'Abercorn House', 'Hostel - 7.3km from city centre Show on Map', '7.8\\nVery Good\\n3652 Total Reviews', 'Privates From\\nRs4062\\nDorms From\\nRs1824', 'View', '1\\n/\\n30', \"St Christopher's Oasis-Female Only\", 'Hostel - 1.8km from city centre Show on Map', '8.6\\nFabulous\\n593 Total Reviews', 'Privates From\\nRs3855\\nDorms From\\nRs1539', 'View', '1\\n/\\n29', 'Astor Kensington', 'Hostel - 4.9km from city centre Show on Map', '9.0\\nSuperb\\n6323 Total Reviews', 'Privates From\\nRs6540\\nDorms From\\nRs2031', 'View', '1\\n/\\n24', 'Mapesbury Hostel', 'Hostel - 8.2km from city centre Show on Map', '4.9\\nRating\\n357 Total Reviews', 'Privates From\\nRs4647\\nNo Dorms Available', 'View', '1\\n/\\n20', 'Hootananny Hostel', 'Hostel - 5km from city centre Show on Map', '7.8\\nVery Good\\n1405 Total Reviews', 'No Privates Available\\nDorms From\\nRs1668', 'View', '1\\n/\\n21', 'Phoenix Hostel', 'Hostel - 4.2km from city centre Show on Map', '8.3\\nFabulous\\n3393 Total Reviews', 'Privates From\\nRs2293\\nDorms From\\nRs1518', 'View']\n"
     ]
    }
   ],
   "source": [
    "hostel=[]\n",
    "hostel_tag=driver.find_elements_by_xpath('//a[@data-v-e9828aa0]')\n",
    "for i in hostel_tag:\n",
    "    hostel.append(i.text)\n",
    "print(len(hostel))\n",
    "print(hostel) "
   ]
  },
  {
   "cell_type": "code",
   "execution_count": 349,
   "metadata": {},
   "outputs": [
    {
     "name": "stdout",
     "output_type": "stream",
     "text": [
      "61\n",
      "['Hostel - 1.8km from city centre', 'Show on Map', 'Hostel - 3km from city centre', 'Show on Map', 'Hostel - 5.9km from city centre', 'Show on Map', 'Hostel - 4.7km from city centre', 'Show on Map', 'Hostel - 3.6km from city centre', 'Show on Map', 'Hostel - 8.2km from city centre', 'Show on Map', 'Hostel - 0.5km from city centre', 'Show on Map', 'Hostel - 3.6km from city centre', 'Show on Map', 'Hostel - 3.6km from city centre', 'Show on Map', '', 'Hostel - 1.7km from city centre', 'Show on Map', 'Hostel - 4.3km from city centre', 'Show on Map', 'Hostel - 2.2km from city centre', 'Show on Map', 'Hostel - 2.4km from city centre', 'Show on Map', 'Hostel - 3.6km from city centre', 'Show on Map', 'Hostel - 4.3km from city centre', 'Show on Map', 'Hostel - 10km from city centre', 'Show on Map', 'Hostel - 2km from city centre', 'Show on Map', 'Hostel - 3.5km from city centre', 'Show on Map', 'Bed and Breakfast - 6.7km from city centre', 'Show on Map', 'Hostel - 3.2km from city centre', 'Show on Map', 'Hostel - 7.1km from city centre', 'Show on Map', 'Hostel - 0.7km from city centre', 'Show on Map', 'Hostel - 10.4km from city centre', 'Show on Map', 'Hostel - 4.3km from city centre', 'Show on Map', 'Hostel - 7.3km from city centre', 'Show on Map', 'Hostel - 1.8km from city centre', 'Show on Map', 'Hostel - 4.9km from city centre', 'Show on Map', 'Hostel - 8.2km from city centre', 'Show on Map', 'Hostel - 5km from city centre', 'Show on Map', 'Hostel - 4.2km from city centre', 'Show on Map']\n"
     ]
    }
   ],
   "source": [
    "distance_tag=driver.find_elements_by_xpath('//span[@data-v-e9828aa0]')\n",
    "distance=[]\n",
    "for i in distance_tag:\n",
    "    try:\n",
    "        distance.append(i.text)\n",
    "    except NoSuchElementException:\n",
    "        distance.append('-')\n",
    "print(len(distance))\n",
    "print(distance)"
   ]
  },
  {
   "cell_type": "code",
   "execution_count": null,
   "metadata": {},
   "outputs": [],
   "source": [
    "rating_tag=driver.find_elements_by_xpath('//div[@data-v-8f08c426]')\n",
    "rating=[]\n",
    "for i in rating_tag:\n",
    "    rating.append(i.text)\n",
    "print(len(rating))\n",
    "print(rating)"
   ]
  },
  {
   "cell_type": "code",
   "execution_count": null,
   "metadata": {},
   "outputs": [],
   "source": [
    "price=[]\n",
    "for i in url[:4]:\n",
    "    driver.get(i)\n",
    "    try:\n",
    "        price_tag=driver.find_element_by_xpath('/html/body/div[1]/div/div[3]/div[1]/div[2]/div[2]/div/div[4]/div[1]/div/div[1]')\n",
    "        price.append(price_tag.text)\n",
    "    except NoSuchElementException:\n",
    "        color.append('-')\n",
    "print(len(price))\n",
    "price"
   ]
  },
  {
   "cell_type": "code",
   "execution_count": null,
   "metadata": {},
   "outputs": [],
   "source": []
  }
 ],
 "metadata": {
  "kernelspec": {
   "display_name": "Python 3",
   "language": "python",
   "name": "python3"
  },
  "language_info": {
   "codemirror_mode": {
    "name": "ipython",
    "version": 3
   },
   "file_extension": ".py",
   "mimetype": "text/x-python",
   "name": "python",
   "nbconvert_exporter": "python",
   "pygments_lexer": "ipython3",
   "version": "3.8.5"
  }
 },
 "nbformat": 4,
 "nbformat_minor": 4
}
